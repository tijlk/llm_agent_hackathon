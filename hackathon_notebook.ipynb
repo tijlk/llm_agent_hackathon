{
  "cells": [
    {
      "cell_type": "code",
      "source": [
        "!pip install -qU langchain-google-genai langchain langchain_community wikipedia"
      ],
      "metadata": {
        "id": "vxtczABI1fge",
        "outputId": "f4d17bbd-88d5-4782-a3f1-73c79710f7f9",
        "colab": {
          "base_uri": "https://localhost:8080/"
        }
      },
      "execution_count": 21,
      "outputs": [
        {
          "output_type": "stream",
          "name": "stdout",
          "text": [
            "\u001b[?25l   \u001b[90m━━━━━━━━━━━━━━━━━━━━━━━━━━━━━━━━━━━━━━━━\u001b[0m \u001b[32m0.0/55.4 kB\u001b[0m \u001b[31m?\u001b[0m eta \u001b[36m-:--:--\u001b[0m\r\u001b[2K   \u001b[90m━━━━━━━━━━━━━━━━━━━━━━━━━━━━━━━━━━━━━━━━\u001b[0m \u001b[32m55.4/55.4 kB\u001b[0m \u001b[31m3.0 MB/s\u001b[0m eta \u001b[36m0:00:00\u001b[0m\n",
            "\u001b[?25h\u001b[?25l   \u001b[90m━━━━━━━━━━━━━━━━━━━━━━━━━━━━━━━━━━━━━━━━\u001b[0m \u001b[32m0.0/1.2 MB\u001b[0m \u001b[31m?\u001b[0m eta \u001b[36m-:--:--\u001b[0m\r\u001b[2K   \u001b[91m━━━━━━━━━━━━━━━━━━━━━━━━━━━━━━━━━━━━━━━\u001b[0m\u001b[91m╸\u001b[0m \u001b[32m1.2/1.2 MB\u001b[0m \u001b[31m42.2 MB/s\u001b[0m eta \u001b[36m0:00:01\u001b[0m\r\u001b[2K   \u001b[90m━━━━━━━━━━━━━━━━━━━━━━━━━━━━━━━━━━━━━━━━\u001b[0m \u001b[32m1.2/1.2 MB\u001b[0m \u001b[31m24.7 MB/s\u001b[0m eta \u001b[36m0:00:00\u001b[0m\n",
            "\u001b[?25h"
          ]
        }
      ]
    },
    {
      "cell_type": "code",
      "source": [
        "# langchain\n",
        "# langchain_openai\n",
        "# langchain_community\n",
        "# wikipedia\n",
        "# langchainhub\n",
        "# pillow\n",
        "# jupyter"
      ],
      "metadata": {
        "id": "Y6e-g35E4l4K"
      },
      "execution_count": null,
      "outputs": []
    },
    {
      "cell_type": "code",
      "source": [
        "import getpass\n",
        "import os\n",
        "\n",
        "# You might have to do this on your phone!\n",
        "# Create an API key at https://ai.google.dev/gemini-api/docs/api-key\n",
        "if \"GOOGLE_API_KEY\" not in os.environ:\n",
        "    os.environ[\"GOOGLE_API_KEY\"] = getpass.getpass(\"Enter your Google AI API key: \")"
      ],
      "metadata": {
        "id": "CT_CGklO0gkq",
        "outputId": "aeb86cde-05bf-4a6e-b799-0dc1388e922f",
        "colab": {
          "base_uri": "https://localhost:8080/"
        }
      },
      "execution_count": 5,
      "outputs": [
        {
          "name": "stdout",
          "output_type": "stream",
          "text": [
            "Enter your Google AI API key: ··········\n"
          ]
        }
      ]
    },
    {
      "cell_type": "code",
      "source": [
        "from langchain_google_genai import ChatGoogleGenerativeAI\n",
        "\n",
        "llm = ChatGoogleGenerativeAI(\n",
        "    model=\"gemini-2.0-flash\",\n",
        "    temperature=0,\n",
        "    max_tokens=None,\n",
        "    timeout=None,\n",
        "    max_retries=2,\n",
        "    # other params...\n",
        ")"
      ],
      "metadata": {
        "id": "Ie0WnEOm0mra"
      },
      "execution_count": 7,
      "outputs": []
    },
    {
      "cell_type": "code",
      "source": [
        "messages = [\n",
        "    (\n",
        "        \"system\",\n",
        "        \"You are a helpful assistant that translates English to French. Translate the user sentence.\",\n",
        "    ),\n",
        "    (\"human\", \"I love programming.\"),\n",
        "]\n",
        "ai_msg = llm.invoke(messages)\n",
        "ai_msg"
      ],
      "metadata": {
        "id": "I-bbL3XT24lq",
        "outputId": "9c3ed7df-ac1e-4ff5-f686-9241ffd7b113",
        "colab": {
          "base_uri": "https://localhost:8080/"
        }
      },
      "execution_count": 8,
      "outputs": [
        {
          "output_type": "execute_result",
          "data": {
            "text/plain": [
              "AIMessage(content=\"J'adore la programmation.\", additional_kwargs={}, response_metadata={'prompt_feedback': {'block_reason': 0, 'safety_ratings': []}, 'finish_reason': 'STOP', 'safety_ratings': []}, id='run-6273c53d-a1e0-44f1-aa6f-a15c7a8c1116-0', usage_metadata={'input_tokens': 20, 'output_tokens': 7, 'total_tokens': 27, 'input_token_details': {'cache_read': 0}})"
            ]
          },
          "metadata": {},
          "execution_count": 8
        }
      ]
    },
    {
      "cell_type": "code",
      "source": [
        "print(llm.invoke(\"What are some popular flake8 plugins?\").content)"
      ],
      "metadata": {
        "id": "NEzvhZQP3LMV",
        "outputId": "416711ce-a162-4c1f-ef62-3bd836d7f2f4",
        "colab": {
          "base_uri": "https://localhost:8080/"
        }
      },
      "execution_count": 12,
      "outputs": [
        {
          "output_type": "stream",
          "name": "stdout",
          "text": [
            "Flake8 is a fantastic tool for enforcing code style and detecting errors in Python code. Its extensibility through plugins is one of its greatest strengths. Here are some popular and highly recommended Flake8 plugins, categorized for clarity:\n",
            "\n",
            "**General Code Quality & Style:**\n",
            "\n",
            "*   **flake8-bugbear:** (B901-B950)  This is a *must-have*.  It catches a wide range of common bugs and anti-patterns that are often missed by other linters.  It's very opinionated and often suggests improvements that lead to more robust and readable code.  Examples include:\n",
            "    *   Unnecessary `else` after `return`\n",
            "    *   Using `isinstance` with a tuple of types (suggests using `isinstance(x, (type1, type2))`)\n",
            "    *   Using `len(x) == 0` instead of `not x`\n",
            "    *   Using `try...except...pass` (which is almost always a bad idea)\n",
            "*   **flake8-comprehensions:** (C400-C419)  Suggests using list/set/dict comprehensions instead of loops or `map`/`filter` when appropriate.  This can significantly improve code readability and sometimes performance.\n",
            "*   **flake8-annotations:** (ANN001-ANN999) Enforces type annotations (PEP 484) on function arguments and return values.  This is crucial for static analysis and improving code maintainability.  It can be configured to be more or less strict.\n",
            "*   **flake8-docstrings:** (D100-D499)  Checks for the presence and style of docstrings.  Helps ensure that your code is well-documented.  Can be configured to enforce specific docstring formats (e.g., Google, NumPy, reStructuredText).\n",
            "*   **flake8-eradicate:** (E271, E272)  Finds commented-out code.  Commented-out code often becomes stale and misleading, so removing it improves code clarity.\n",
            "*   **flake8-print:** (T201, T203)  Detects `print` statements in your code.  `print` statements are often left in by accident during debugging and should be removed before committing.\n",
            "*   **flake8-logging-format:** (G001-G010)  Checks that logging format strings use the correct style (e.g., `%s` vs. `{}`, and that the number of arguments matches the number of placeholders).  Helps prevent logging errors.\n",
            "*   **flake8-blind-except:** (B001)  Detects bare `except:` clauses, which can mask important exceptions and make debugging difficult.  Encourages you to catch specific exceptions.\n",
            "*   **flake8-builtins:** (A001-A003)  Detects shadowing of built-in names (e.g., using `list` as a variable name).  Shadowing built-ins can lead to unexpected behavior.\n",
            "*   **flake8-mutable-defaults:** (B006)  Detects mutable default arguments in function definitions (e.g., `def foo(x=[]):`).  Mutable defaults are a common source of bugs.\n",
            "*   **flake8-return:** (RET501-RET508)  Checks for consistent return statements in functions.  For example, it can ensure that all return statements in a function return a value, or that a function always returns a value.\n",
            "\n",
            "**Security:**\n",
            "\n",
            "*   **flake8-bandit:**  Integrates Bandit, a security linter, into Flake8.  Bandit identifies potential security vulnerabilities in your code, such as using insecure functions or hardcoding secrets.  This is *essential* for any project that handles sensitive data or interacts with external systems.\n",
            "*   **flake8-import-restrictions:** (I100-I999)  Allows you to restrict which modules can be imported in certain parts of your codebase.  This can be useful for enforcing architectural constraints or preventing the use of deprecated modules.\n",
            "\n",
            "**Complexity & Maintainability:**\n",
            "\n",
            "*   **flake8-cognitive-complexity:** (C101-C103)  Calculates the cognitive complexity of functions and methods.  High cognitive complexity indicates that a function is difficult to understand and maintain.  This plugin encourages you to refactor complex code into smaller, more manageable pieces.\n",
            "*   **flake8-simplify:** (SIM100-SIM910)  Suggests ways to simplify your code, making it more readable and maintainable.  Examples include:\n",
            "    *   Replacing `if x is True` with `if x`\n",
            "    *   Using `any()` or `all()` instead of loops\n",
            "    *   Simplifying boolean expressions\n",
            "\n",
            "**Formatting & Style (Beyond PEP 8):**\n",
            "\n",
            "*   **flake8-quotes:** (Q000-Q004)  Enforces consistent use of single or double quotes.  While PEP 8 doesn't mandate a specific quote style, consistency is important for readability.\n",
            "*   **flake8-commas:** (C812, C813)  Enforces trailing commas in function calls, list/tuple/dict definitions, etc.  Trailing commas can make diffs cleaner and prevent errors when adding new elements.\n",
            "*   **flake8-rst-docstrings:** (RST301-RST399)  Validates reStructuredText docstrings.  Ensures that your docstrings are properly formatted and can be rendered correctly by documentation generators like Sphinx.\n",
            "\n",
            "**Testing:**\n",
            "\n",
            "*   **flake8-pytest-style:** (PT001-PT021)  Enforces best practices for writing pytest tests.  For example, it can suggest using `assert` instead of `assertTrue` or `assertFalse`, and using `pytest.mark.parametrize` for parameterized tests.\n",
            "\n",
            "**How to Choose Plugins:**\n",
            "\n",
            "1.  **Consider your project's needs:**  What are the most important aspects of code quality for your project?  Security?  Readability?  Maintainability?  Choose plugins that address those needs.\n",
            "2.  **Start with the essentials:**  `flake8-bugbear`, `flake8-comprehensions`, `flake8-annotations`, and `flake8-docstrings` are a good starting point for most projects.\n",
            "3.  **Be mindful of configuration:**  Many plugins have configuration options that allow you to customize their behavior.  Read the documentation for each plugin to understand how to configure it to meet your specific requirements.\n",
            "4.  **Don't overdo it:**  Too many plugins can lead to a noisy and overwhelming linting experience.  Start with a few essential plugins and add more as needed.\n",
            "5.  **Iterate and refine:**  As your project evolves, you may need to add or remove plugins, or adjust their configuration.  Regularly review your Flake8 configuration to ensure that it is still meeting your needs.\n",
            "\n",
            "**Installation:**\n",
            "\n",
            "You can install Flake8 plugins using `pip`:\n",
            "\n",
            "```bash\n",
            "pip install flake8 flake8-bugbear flake8-comprehensions flake8-annotations  # Example\n",
            "```\n",
            "\n",
            "**Configuration:**\n",
            "\n",
            "Flake8 plugins are typically configured in a `setup.cfg`, `.flake8`, or `pyproject.toml` file.  For example:\n",
            "\n",
            "```ini\n",
            "# setup.cfg\n",
            "[flake8]\n",
            "max-line-length = 120\n",
            "select = E,W,F,C,B,B9\n",
            "ignore = E203, W503\n",
            "exclude = .git,__pycache__,docs/source/conf.py,old,build,dist\n",
            "```\n",
            "\n",
            "**Example using `pyproject.toml`:**\n",
            "\n",
            "```toml\n",
            "[tool.flake8]\n",
            "max-line-length = 120\n",
            "select = [\"E\", \"W\", \"F\", \"C\", \"B\", \"B9\"]\n",
            "ignore = [\"E203\", \"W503\"]\n",
            "exclude = [\".git\", \"__pycache__\", \"docs/source/conf.py\", \"old\", \"build\", \"dist\"]\n",
            "```\n",
            "\n",
            "Remember to consult the documentation for each plugin to learn about its specific configuration options.\n",
            "\n",
            "By using a combination of Flake8 and its plugins, you can significantly improve the quality, readability, and maintainability of your Python code.  Good luck!\n"
          ]
        }
      ]
    },
    {
      "cell_type": "code",
      "execution_count": 15,
      "metadata": {
        "id": "IvWHMjFnzX-9",
        "outputId": "4d0864a7-add5-4ffd-862e-b5b9b20fa899",
        "colab": {
          "base_uri": "https://localhost:8080/"
        }
      },
      "outputs": [
        {
          "output_type": "stream",
          "name": "stderr",
          "text": [
            "/usr/local/lib/python3.11/dist-packages/IPython/core/interactiveshell.py:3553: LangChainDeprecationWarning: As of langchain-core 0.3.0, LangChain uses pydantic v2 internally. The langchain.pydantic_v1 module was a compatibility shim for pydantic v1, and should no longer be used. Please update the code to import from Pydantic directly.\n",
            "\n",
            "For example, replace imports like: `from langchain.pydantic_v1 import BaseModel`\n",
            "with: `from pydantic import BaseModel`\n",
            "or the v1 compatibility namespace if you are working in a code base that has not been fully upgraded to pydantic 2 yet. \tfrom pydantic.v1 import BaseModel\n",
            "\n",
            "  exec(code_obj, self.user_global_ns, self.user_ns)\n"
          ]
        }
      ],
      "source": [
        "import sys\n",
        "import os\n",
        "\n",
        "import requests\n",
        "# from helper_functions.keys import WEATHER_KEY, HUGGING_FACE_KEY\n",
        "from langchain_community.tools import WikipediaQueryRun\n",
        "from langchain_community.utilities import WikipediaAPIWrapper\n",
        "from langchain.pydantic_v1 import BaseModel, Field\n",
        "from langchain.tools import StructuredTool\n",
        "import io"
      ]
    },
    {
      "cell_type": "markdown",
      "metadata": {
        "id": "kFsKrrE4zX--"
      },
      "source": [
        "---"
      ]
    },
    {
      "cell_type": "markdown",
      "metadata": {
        "id": "SPYmvsGZzX--"
      },
      "source": [
        "#### Exercise 1.1 (a): Explore tool parameters <a id='1a'></a>\n",
        "\n",
        "**Task:**  \n",
        "Use the methods ``name``, ``description``, ``args``, ``return_direct``, ``metadata`` to familiarize yourself with the parameters of the tool. What is the meaning of the different parameters?\n",
        "\n",
        "**Background:**\n",
        "Each tool is a ``BaseTool`` class object, you can find its definition [here](https://api.python.langchain.com/en/latest/tools/langchain_core.tools.BaseTool.html#langchain_core.tools.BaseTool)."
      ]
    },
    {
      "cell_type": "code",
      "execution_count": 16,
      "metadata": {
        "id": "TTDEMiA7zX--"
      },
      "outputs": [],
      "source": [
        "api_wrapper = WikipediaAPIWrapper(top_k_results=1)\n",
        "wiki_tool = WikipediaQueryRun(api_wrapper=api_wrapper)"
      ]
    },
    {
      "cell_type": "markdown",
      "metadata": {
        "id": "Eaa4Zl8fzX--"
      },
      "source": [
        "**SOLUTION:**"
      ]
    },
    {
      "cell_type": "code",
      "execution_count": 17,
      "metadata": {
        "id": "5Po5oawTzX--",
        "outputId": "492b5eb8-9e0f-46d0-e332-cc6ee8b0ef5d",
        "colab": {
          "base_uri": "https://localhost:8080/"
        }
      },
      "outputs": [
        {
          "output_type": "stream",
          "name": "stdout",
          "text": [
            "Name:  wikipedia\n",
            "Description:  A wrapper around Wikipedia. Useful for when you need to answer general questions about people, places, companies, facts, historical events, or other subjects. Input should be a search query.\n",
            "Input argument schema:  {'query': {'description': 'query to look up on wikipedia', 'title': 'Query', 'type': 'string'}}\n",
            "Return output to user?  False\n",
            "Metadata:  None\n"
          ]
        }
      ],
      "source": [
        "print(\"Name: \", wiki_tool.name)\n",
        "print(\"Description: \", wiki_tool.description)\n",
        "print(\"Input argument schema: \", wiki_tool.args)\n",
        "print(\"Return output to user? \", wiki_tool.return_direct)\n",
        "print(\"Metadata: \", wiki_tool.metadata)"
      ]
    },
    {
      "cell_type": "markdown",
      "metadata": {
        "id": "oT7RjGjBzX-_"
      },
      "source": [
        "---"
      ]
    },
    {
      "cell_type": "markdown",
      "metadata": {
        "id": "c-XT46qmzX-_"
      },
      "source": [
        "#### Exercise 1.1 (b): Run tool and explore output <a id='1b'></a>\n",
        "\n",
        "**TASK:**\n",
        "* Use the ``.run(tool_input)`` method to execute the tool. The ``tool_input`` is the search term that you'd like to query wikipedia with.\n",
        "* [Optional] Check out the arguments of the WikipediaAPIWrapper [here](https://api.python.langchain.com/en/latest/utilities/langchain_community.utilities.wikipedia.WikipediaAPIWrapper.html) and modify its parameters above. How does the output change?"
      ]
    },
    {
      "cell_type": "markdown",
      "metadata": {
        "id": "sPl2h5mKzX-_"
      },
      "source": [
        "**SOLUTION:**"
      ]
    },
    {
      "cell_type": "code",
      "execution_count": 18,
      "metadata": {
        "id": "XJZJ6QtbzX-_",
        "outputId": "f68ba8fd-a700-484a-8c2d-57f3a612f864",
        "colab": {
          "base_uri": "https://localhost:8080/"
        }
      },
      "outputs": [
        {
          "output_type": "stream",
          "name": "stdout",
          "text": [
            "Page: Amsterdam\n",
            "Summary: Amsterdam ( AM-stər-dam, UK also  AM-stər-DAM; Dutch: [ˌɑmstərˈdɑm] ; lit. 'Dam in the Amstel') is the capital and most populated city of the Netherlands. It has a population of 933,680 in June 2024 within the city proper, 1,457,018 in the urban area and 2,480,394 in the metropolitan area. Located in the Dutch province of North Holland, Amsterdam is colloquially referred to as the \"Venice of the North\", for its large number of canals, now a UNESCO World Heritage Site.\n",
            "Amsterdam was founded at the mouth of the Amstel River, which was dammed to control flooding. Originally a small fishing village in the 12th century, Amsterdam became a major world port during the Dutch Golden Age of the 17th century, when the Netherlands was an economic powerhouse. Amsterdam was the leading centre for finance and trade, as well as a hub of secular art production. In the 19th and 20th centuries, the city expanded and new neighborhoods and suburbs were built. The city has a long tradition of openness, liberalism, and tolerance. Cycling is key to the city's modern character, and there are numerous biking paths and lanes spread throughout.\n",
            "Amsterdam's main attractions include its historic canals; the Rijksmuseum, the state museum with Dutch Golden Age art; the Van Gogh Museum; the Dam Square, where the Royal Palace of Amsterdam and former city hall are located; the Amsterdam Museum; Stedelijk Museum, with modern art; the Concertgebouw concert hall; the Anne Frank House; the Scheepvaartmuseum, the Natura Artis Magistra; Hortus Botanicus, NEMO, the red-light district and cannabis coffee shops. The city is known for its nightlife and festival activity, with several nightclubs among the world's most famous. Its artistic heritage, canals, and narrow canal houses with gabled façades, well-preserved legacies of the city's 17th-century Golden Age, have attracted millions of visitors annually.\n",
            "The Amsterdam Stock Exchange, founded in 1602, is considered the oldest \"modern\" securities market stock exchange in the world. As the commercial capital of the Netherlands and one of the top financial centres in Europe, Amsterdam is considered an  alpha-world city. The city is the cultural capital of the Netherlands. Many large Dutch institutions have their headquarters in the city. Many of the world's largest companies are based here or have established their European headquarters in the city, such as technology companies Uber, Netflix, and Tesla. In 2022, Amsterdam was ranked the ninth-best city to live in by the Economist Intelligence Unit and 12th on quality of living for environment and infrastructure by Mercer. The city was ranked 4th place globally as a top tech hub in 2019. The Port of Amsterdam is the fifth largest in Europe. The KLM hub and Amsterdam's main airport, Schiphol, is the busiest airport in the Netherlands, third in Europe, and 11th in the world. The Dutch capital is one of the most multicultural cities in the world, with about 180 nationalities represented. Immigration and ethnic segregation in Amsterdam is a current issue.\n",
            "Amsterdam's notable residents throughout its history include painters Rembrandt and Vincent van Gogh, 17th-century philosophers Baruch Spinoza, John Locke, René Descartes, and the Holocaust victim and diarist Anne Frank.\n"
          ]
        }
      ],
      "source": [
        "tool_input = 'Amsterdam'\n",
        "\n",
        "print(wiki_tool.run(tool_input))"
      ]
    },
    {
      "cell_type": "markdown",
      "metadata": {
        "id": "nZXeSC_MzX-_"
      },
      "source": [
        "---"
      ]
    },
    {
      "cell_type": "markdown",
      "metadata": {
        "id": "GcPM1x_wzX-_"
      },
      "source": [
        "#### Exercise 1.2 (a): Build your own Weather tool <a id='2a'></a>\n",
        "The goal is to build a tool that extracts weather information from the weather site visualcrossing.com. You typically need an API key to extract information from a website. In this example we provide you with the API key.\n",
        "\n",
        "**TASK:**\n",
        "- Build the tool by defining the input parameters and the descriptions. The tool function is already provided to you.\n",
        "- Turn function, description and input parameters into a tool through ``StructuredTool.from_function()``.\n",
        "- Test if the tool gives an output."
      ]
    },
    {
      "cell_type": "markdown",
      "metadata": {
        "id": "sNju5tn-zX-_"
      },
      "source": [
        "**SOLUTION:**"
      ]
    },
    {
      "cell_type": "markdown",
      "metadata": {
        "id": "O-7NsZ99zX-_"
      },
      "source": [
        "---"
      ]
    },
    {
      "cell_type": "markdown",
      "metadata": {
        "id": "BYciwsq4zX-_"
      },
      "source": [
        "**SOLUTION:**"
      ]
    },
    {
      "cell_type": "markdown",
      "metadata": {
        "id": "Khw34ks8zX-_"
      },
      "source": [
        "---"
      ]
    },
    {
      "cell_type": "markdown",
      "metadata": {
        "id": "Oyh0ld8pzX-_"
      },
      "source": [
        "## 🤖 Part 2 Solutions: Agents\n",
        "\n",
        "\n",
        "**Content:**\n",
        "\n",
        "1. [Exercise 2.1: Explore the agent's output](#1)\n",
        "2. [Exercise 2.2 : Build your own agent](#2)\n",
        "3. [Exercise 2.3: Invoke as many tools as you can](#3)\n",
        "4. [Exercise 2.4 : Optimize the agent prompt](#4)"
      ]
    },
    {
      "cell_type": "code",
      "source": [
        "from langchain.pydantic_v1 import BaseModel, Field\n",
        "from langchain.tools import StructuredTool\n",
        "from langchain_community.utilities import WikipediaAPIWrapper\n",
        "import io\n",
        "import requests\n",
        "\n",
        "WIKI_API_WRAPPER = WikipediaAPIWrapper(top_k_results=1)\n",
        "\n",
        "# ------------------------------------------------------------------------------------\n",
        "##### Wikipedia tool #####\n",
        "def wikipedia_caller(query:str) ->str:\n",
        "    \"\"\"This function queries wikipedia through a search query.\"\"\"\n",
        "    return WIKI_API_WRAPPER.run(query)\n",
        "\n",
        "# Input parameter definition\n",
        "class QueryInput(BaseModel):\n",
        "    query: str = Field(description=\"Input search query\")\n",
        "\n",
        "# the tool description\n",
        "# wiki_tool_description: str = (\n",
        "#         \"A wrapper around Wikipedia. \"\n",
        "#         \"Useful only for when you need to answer general questions about places. Not other entities.\"\n",
        "#         \"Input should be a search query.\"\n",
        "#     )\n",
        "wiki_tool_description: str = (\n",
        "        \"A wrapper around Wikipedia. \"\n",
        "        \"Useful for when you need to answer general questions about \"\n",
        "        \"people, places, companies, facts, historical events, or other subjects. \"\n",
        "        \"Input should be a search query.\"\n",
        "    )\n",
        "\n",
        "# fuse the function, input parameters and description into a tool.\n",
        "my_own_wiki_tool = StructuredTool.from_function(\n",
        "    func=wikipedia_caller,\n",
        "    name=\"wikipedia\",\n",
        "    description=wiki_tool_description,\n",
        "    args_schema=QueryInput,\n",
        "    return_direct=False,\n",
        ")"
      ],
      "metadata": {
        "id": "-1-jmx3O5HIw"
      },
      "execution_count": 54,
      "outputs": []
    },
    {
      "cell_type": "code",
      "source": [
        "from langchain.utilities.tavily_search import TavilySearchAPIWrapper\n",
        "from langchain.tools.tavily_search import TavilySearchResults\n",
        "os.environ[\"TAVILY_API_KEY\"] = \"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\"\n",
        "search = TavilySearchAPIWrapper()\n",
        "tavily_tool = TavilySearchResults(api_wrapper=search)"
      ],
      "metadata": {
        "id": "vCbsO_nF84-o"
      },
      "execution_count": 44,
      "outputs": []
    },
    {
      "cell_type": "code",
      "execution_count": 41,
      "metadata": {
        "id": "spEQGxRFzX-_"
      },
      "outputs": [],
      "source": [
        "import sys\n",
        "import os\n",
        "\n",
        "from langchain.agents import create_tool_calling_agent # set up the agent\n",
        "from langchain.agents import AgentExecutor # execute agent\n",
        "# from langchain_openai import ChatOpenAI # call openAI as agent llm\n",
        "from langchain import hub\n",
        "from langchain_core.prompts import ChatPromptTemplate, MessagesPlaceholder\n",
        "from langchain_google_genai import ChatGoogleGenerativeAI\n"
      ]
    },
    {
      "cell_type": "markdown",
      "source": [],
      "metadata": {
        "id": "ko93Tq1B5aBJ"
      }
    },
    {
      "cell_type": "markdown",
      "metadata": {
        "id": "uLhjMTvCzX_A"
      },
      "source": [
        "---"
      ]
    },
    {
      "cell_type": "markdown",
      "metadata": {
        "id": "4jVu0pPgzX_A"
      },
      "source": [
        "#### Exercise 2.1: Explore the agent's output <a id='1'></a>\n",
        "\n",
        "**TASK:**\n",
        "In the examples below, read the output to observe how the Agent reasons and decides to use a different tool based on the context."
      ]
    },
    {
      "cell_type": "code",
      "execution_count": 60,
      "metadata": {
        "id": "qUVXd9w5zX_A",
        "outputId": "3f229490-26c6-48b5-ab55-f3aa6ebbba57",
        "colab": {
          "base_uri": "https://localhost:8080/"
        }
      },
      "outputs": [
        {
          "output_type": "stream",
          "name": "stdout",
          "text": [
            "Your agent is ready.\n"
          ]
        }
      ],
      "source": [
        "# Agent\n",
        "\n",
        "# Load Tools\n",
        "tools = [my_own_wiki_tool, tavily_tool]\n",
        "\n",
        "# Load LLM\n",
        "# llm = ChatOpenAI(model=\"gpt-4o-mini\", temperature=0, api_key=OPENAI_KEY)\n",
        "\n",
        "llm = ChatGoogleGenerativeAI(\n",
        "    model=\"gemini-2.0-flash\",\n",
        "    temperature=0,\n",
        "    max_tokens=None,\n",
        "    timeout=None,\n",
        "    max_retries=2,\n",
        "    # other params...\n",
        ")\n",
        "\n",
        "# Get the prompt to use - you can modify this! With this you let the agent know what its purpose is.\n",
        "prompt = ChatPromptTemplate.from_messages([\n",
        "    (\"system\", \"You are a nice assistant. You only use Tivaly unless absolutely necessary.\"),\n",
        "    (\"human\", \"{input}\"),\n",
        "    MessagesPlaceholder(variable_name=\"agent_scratchpad\")\n",
        "])\n",
        "\n",
        "# Define  the agent (load the LLM and the list of tools)\n",
        "agent = create_tool_calling_agent(llm = llm, tools = tools, prompt = prompt)\n",
        "agent_executor = AgentExecutor(agent=agent, tools=tools, verbose=True)\n",
        "\n",
        "print(\"Your agent is ready.\")\n"
      ]
    },
    {
      "cell_type": "code",
      "source": [
        "ask_gemini(\"How can I prioritise one tool over another when building an llm agent with lanchain?\")"
      ],
      "metadata": {
        "id": "hPQInfPjAm--",
        "outputId": "b6364f00-ff47-4e09-998b-cbbdac733d28",
        "colab": {
          "base_uri": "https://localhost:8080/"
        }
      },
      "execution_count": 65,
      "outputs": [
        {
          "output_type": "stream",
          "name": "stdout",
          "text": [
            "You can prioritize one tool over another in a Langchain LLM agent in several ways, depending on the specific scenario and the agent type you're using. Here's a breakdown of common strategies and considerations:\n",
            "\n",
            "**1. Tool Description and Prompt Engineering (Most Common and Recommended)**\n",
            "\n",
            "*   **Detailed Tool Descriptions:**  The most effective way to influence an agent's tool selection is through clear, concise, and informative tool descriptions.  The LLM relies heavily on these descriptions to understand what each tool does and when to use it.\n",
            "\n",
            "    *   **Highlight the Preferred Tool's Strengths:**  In the preferred tool's description, explicitly mention the scenarios where it excels.  Use keywords that the LLM is likely to pick up on when faced with a relevant user query.\n",
            "    *   **Emphasize Limitations of the Alternative Tool:**  In the description of the less preferred tool, subtly mention its limitations or situations where it might not be the best choice.  This doesn't mean making it sound useless, but rather highlighting its specific niche.\n",
            "    *   **Example:**\n",
            "\n",
            "        ```python\n",
            "        from langchain.agents import Tool\n",
            "\n",
            "        # Preferred Tool: Web Search (e.g., Google Search)\n",
            "        search_tool = Tool(\n",
            "            name=\"Web Search\",\n",
            "            func=your_search_function,\n",
            "            description=\"Useful for searching the internet to answer questions about current events, factual information, and general knowledge.  It is especially good for finding up-to-date information and summarizing multiple sources.  Use this tool first for most information-gathering tasks.\"\n",
            "        )\n",
            "\n",
            "        # Less Preferred Tool: Wikipedia\n",
            "        wikipedia_tool = Tool(\n",
            "            name=\"Wikipedia\",\n",
            "            func=your_wikipedia_function,\n",
            "            description=\"Useful for finding background information and general knowledge on a wide range of topics.  It is best used for getting a broad overview of a subject, but may not always have the most current or detailed information.  Use this tool if Web Search fails to provide sufficient context.\"\n",
            "        )\n",
            "\n",
            "        tools = [search_tool, wikipedia_tool]\n",
            "        ```\n",
            "\n",
            "*   **Prompt Engineering:**  Craft your initial prompt to guide the agent towards the preferred tool.\n",
            "\n",
            "    *   **Explicit Instructions:**  Directly tell the agent to use the preferred tool in certain situations.\n",
            "    *   **Example:**\n",
            "\n",
            "        ```python\n",
            "        prompt = \"\"\"You are a helpful assistant.  When asked about current events, use the Web Search tool first.  If you cannot find the answer there, then try other tools.  Answer the following question: {input}\"\"\"\n",
            "        ```\n",
            "\n",
            "**2. Tool Ordering (Simple Agents)**\n",
            "\n",
            "*   For very simple agents (e.g., those using `initialize_agent` with `agent=\"zero-shot-react-description\"`), the order in which you provide the tools *can* influence the agent's initial choice.  The agent tends to consider tools in the order they are presented.  However, this is a weak form of prioritization and is easily overridden by the tool descriptions and the LLM's reasoning.\n",
            "\n",
            "    ```python\n",
            "    tools = [preferred_tool, less_preferred_tool]  # Preferred tool comes first\n",
            "    agent = initialize_agent(tools, llm, agent=\"zero-shot-react-description\", verbose=True)\n",
            "    ```\n",
            "\n",
            "**3. Custom Agent Creation (Advanced Control)**\n",
            "\n",
            "*   For more fine-grained control, you can create a custom agent.  This involves defining the agent's prompt, output parser, and tool selection logic.\n",
            "\n",
            "    *   **Custom Prompt Template:**  Design a prompt template that explicitly instructs the agent to prioritize certain tools based on specific criteria.\n",
            "    *   **Custom Output Parser:**  Modify the output parser to analyze the agent's output and potentially re-route the tool selection if the initial choice is not optimal.\n",
            "    *   **Custom Tool Selection Logic:**  Implement a function that takes the user query and the available tools as input and returns the most appropriate tool to use.  This allows you to implement complex prioritization rules.\n",
            "\n",
            "    ```python\n",
            "    from langchain.agents import AgentOutputParser\n",
            "    from langchain.prompts import StringPromptTemplate\n",
            "    from langchain.chains import LLMChain\n",
            "    from typing import List, Union\n",
            "    from langchain.schema import AgentAction, AgentFinish\n",
            "\n",
            "    # 1. Define a custom prompt template\n",
            "    class CustomPromptTemplate(StringPromptTemplate):\n",
            "        # The template to use\n",
            "        template: str\n",
            "        # The list of tools available\n",
            "        tools: List[Tool]\n",
            "\n",
            "        def format(self, **kwargs) -> str:\n",
            "            # Get the intermediate steps (AgentAction, Observation tuples)\n",
            "            # Format them in a particular way\n",
            "            intermediate_steps = kwargs.pop(\"intermediate_steps\")\n",
            "            thoughts = \"\"\n",
            "            for action, observation in intermediate_steps:\n",
            "                thoughts += action.log\n",
            "                thoughts += f\"\\nObservation: {observation}\\nThoughts: \"\n",
            "            # Set the agent_scratchpad variable to that value\n",
            "            kwargs[\"agent_scratchpad\"] = thoughts\n",
            "            # Create a tools variable from the list of tools provided\n",
            "            kwargs[\"tools\"] = \"\\n\".join([f\"{tool.name}: {tool.description}\" for tool in self.tools])\n",
            "            # Create a list of tool names for the tools provided\n",
            "            kwargs[\"tool_names\"] = \", \".join([tool.name for tool in self.tools])\n",
            "            return self.template.format(**kwargs)\n",
            "\n",
            "\n",
            "    # 2. Define a custom output parser\n",
            "    class CustomOutputParser(AgentOutputParser):\n",
            "\n",
            "        def parse(self, llm_output: str) -> Union[AgentAction, AgentFinish]:\n",
            "            # Check if agent should finish\n",
            "            if \"Final Answer:\" in llm_output:\n",
            "                return AgentFinish(\n",
            "                    # Return values is generally always a dictionary with a single `output` key\n",
            "                    # It is not recommended to try anything else unless you know what you are doing\n",
            "                    return_values={\"output\": llm_output.split(\"Final Answer:\")[-1].strip()},\n",
            "                    log=llm_output,\n",
            "                )\n",
            "            # Parse out the action and action input\n",
            "            regex = r\"Action: (.*?)[\\n]*Action Input:[\\s]*(.*)\"\n",
            "            match = re.search(regex, llm_output, re.DOTALL)\n",
            "            if not match:\n",
            "                raise ValueError(f\"Could not parse LLM output: `{llm_output}`\")\n",
            "            action = match.group(1).strip()\n",
            "            action_input = match.group(2).strip()\n",
            "            # Return the action and action input\n",
            "            return AgentAction(tool=action, tool_input=action_input.strip(\" \").strip('\"'), log=llm_output)\n",
            "\n",
            "\n",
            "    # Example Usage (Conceptual - requires more complete implementation)\n",
            "    prompt_template = \"\"\"\n",
            "    You are a helpful assistant.  You have access to the following tools:\n",
            "\n",
            "    {tools}\n",
            "\n",
            "    Use the following format:\n",
            "\n",
            "    Question: the input question you must answer\n",
            "    Thought: you should always think about what to do\n",
            "    Action: the action to take, should be one of [{tool_names}]\n",
            "    Action Input: the input to the action\n",
            "    Observation: the result of the action\n",
            "    ... (this Thought/Action/Action Input/Observation can repeat N times)\n",
            "    Thought: I now know the final answer\n",
            "    Final Answer: the final answer to the original input question\n",
            "\n",
            "    Begin!\n",
            "\n",
            "    Question: {input}\n",
            "    Thought:{agent_scratchpad}\n",
            "    \"\"\"\n",
            "\n",
            "    prompt = CustomPromptTemplate(\n",
            "        template=prompt_template,\n",
            "        tools=tools,\n",
            "        input_variables=[\"input\", \"intermediate_steps\"]\n",
            "    )\n",
            "\n",
            "    llm_chain = LLMChain(llm=llm, prompt=prompt)\n",
            "    output_parser = CustomOutputParser()\n",
            "\n",
            "    # Create the agent\n",
            "    from langchain.agents import AgentExecutor\n",
            "    agent = AgentExecutor.from_llm_and_tools(\n",
            "        llm=llm,\n",
            "        tools=tools,\n",
            "        callback_manager=callback_manager,\n",
            "        prompt=prompt,\n",
            "        output_parser=output_parser,\n",
            "        verbose=True,\n",
            "    )\n",
            "    ```\n",
            "\n",
            "**4. Tool Filtering (Less Common, but Possible)**\n",
            "\n",
            "*   You could potentially filter the list of tools available to the agent based on the user's query.  This is a more drastic approach, as it completely removes the less preferred tool from consideration in certain situations.  This might be useful if you have a very strong reason to prevent the agent from using a particular tool in a specific context.\n",
            "\n",
            "    ```python\n",
            "    def filter_tools(query, all_tools):\n",
            "        if \"specific condition\" in query:\n",
            "            return [preferred_tool]  # Only allow the preferred tool\n",
            "        else:\n",
            "            return all_tools\n",
            "\n",
            "    filtered_tools = filter_tools(user_query, all_tools)\n",
            "    agent = initialize_agent(filtered_tools, llm, agent=\"zero-shot-react-description\", verbose=True)\n",
            "    ```\n",
            "\n",
            "**Key Considerations:**\n",
            "\n",
            "*   **LLM's Reasoning Ability:**  The LLM's reasoning capabilities are crucial.  A more powerful LLM will be better at understanding tool descriptions and following instructions.\n",
            "*   **Agent Type:**  The type of agent you're using (e.g., zero-shot-react-description, conversational-react-description) will influence how it interprets tool descriptions and makes decisions.\n",
            "*   **Testing and Iteration:**  Experiment with different approaches and carefully evaluate the agent's behavior.  Adjust your tool descriptions, prompts, and logic based on the results.  Use verbose mode (`verbose=True`) to see the agent's thought process.\n",
            "*   **Cost:**  Prioritizing certain tools can also be driven by cost considerations.  For example, you might prefer a free search engine over a paid API if the free option is sufficient for most tasks.\n",
            "\n",
            "**In summary, the best approach is usually a combination of well-crafted tool descriptions and prompt engineering.  Custom agent creation provides the most control but requires more effort.  Tool ordering and filtering are less reliable but can be useful in specific scenarios.**\n"
          ]
        }
      ]
    },
    {
      "cell_type": "code",
      "source": [
        "def ask_gemini(question: str):\n",
        "    print(llm.invoke(question).content)"
      ],
      "metadata": {
        "id": "0tlJDtf8Afgq"
      },
      "execution_count": 64,
      "outputs": []
    },
    {
      "cell_type": "markdown",
      "metadata": {
        "id": "018nfg9qzX_A"
      },
      "source": [
        "**SOLUTION:**"
      ]
    },
    {
      "cell_type": "code",
      "execution_count": 61,
      "metadata": {
        "id": "ZIAxHS9vzX_A",
        "outputId": "841f83f1-f01b-446d-a025-7c0aaa236ba8",
        "colab": {
          "base_uri": "https://localhost:8080/"
        }
      },
      "outputs": [
        {
          "output_type": "stream",
          "name": "stdout",
          "text": [
            "Question 1: Where is Amsterdam?\n",
            "\n",
            "\n",
            "\u001b[1m> Entering new AgentExecutor chain...\u001b[0m\n",
            "\u001b[32;1m\u001b[1;3m\n",
            "Invoking: `wikipedia` with `{'query': 'Amsterdam location'}`\n",
            "\n",
            "\n",
            "\u001b[0m\u001b[36;1m\u001b[1;3mPage: Amsterdam\n",
            "Summary: Amsterdam ( AM-stər-dam, UK also  AM-stər-DAM; Dutch: [ˌɑmstərˈdɑm] ; lit. 'Dam in the Amstel') is the capital and most populated city of the Netherlands. It has a population of 933,680 in June 2024 within the city proper, 1,457,018 in the urban area and 2,480,394 in the metropolitan area. Located in the Dutch province of North Holland, Amsterdam is colloquially referred to as the \"Venice of the North\", for its large number of canals, now a UNESCO World Heritage Site.\n",
            "Amsterdam was founded at the mouth of the Amstel River, which was dammed to control flooding. Originally a small fishing village in the 12th century, Amsterdam became a major world port during the Dutch Golden Age of the 17th century, when the Netherlands was an economic powerhouse. Amsterdam was the leading centre for finance and trade, as well as a hub of secular art production. In the 19th and 20th centuries, the city expanded and new neighborhoods and suburbs were built. The city has a long tradition of openness, liberalism, and tolerance. Cycling is key to the city's modern character, and there are numerous biking paths and lanes spread throughout.\n",
            "Amsterdam's main attractions include its historic canals; the Rijksmuseum, the state museum with Dutch Golden Age art; the Van Gogh Museum; the Dam Square, where the Royal Palace of Amsterdam and former city hall are located; the Amsterdam Museum; Stedelijk Museum, with modern art; the Concertgebouw concert hall; the Anne Frank House; the Scheepvaartmuseum, the Natura Artis Magistra; Hortus Botanicus, NEMO, the red-light district and cannabis coffee shops. The city is known for its nightlife and festival activity, with several nightclubs among the world's most famous. Its artistic heritage, canals, and narrow canal houses with gabled façades, well-preserved legacies of the city's 17th-century Golden Age, have attracted millions of visitors annually.\n",
            "The Amsterdam Stock Exchange, founded in 1602, is considered the oldest \"modern\" securities market stock exchange in the world. As the commercial capital of the Netherlands and one of the top financial centres in Europe, Amsterdam is considered an  alpha-world city. The city is the cultural capital of the Netherlands. Many large Dutch institutions have their headquarters in the city. Many of the world's largest companies are based here or have established their European headquarters in the city, such as technology companies Uber, Netflix, and Tesla. In 2022, Amsterdam was ranked the ninth-best city to live in by the Economist Intelligence Unit and 12th on quality of living for environment and infrastructure by Mercer. The city was ranked 4th place globally as a top tech hub in 2019. The Port of Amsterdam is the fifth largest in Europe. The KLM hub and Amsterdam's main airport, Schiphol, is the busiest airport in the Netherlands, third in Europe, and 11th in the world. The Dutch capital is one of the most multicultural cities in the world, with about 180 nationalities represented. Immigration and ethnic segregation in Amsterdam is a current issue.\n",
            "Amsterdam's notable residents throughout its history include painters Rembrandt and Vincent van Gogh, 17th-century philosophers Baruch Spinoza, John Locke, René Descartes, and the Holocaust victim and diarist Anne Frank.\u001b[0m\u001b[32;1m\u001b[1;3mAmsterdam is the capital and most populated city of the Netherlands, located in the province of North Holland.\u001b[0m\n",
            "\n",
            "\u001b[1m> Finished chain.\u001b[0m\n"
          ]
        },
        {
          "output_type": "execute_result",
          "data": {
            "text/plain": [
              "{'input': 'Where is Amsterdam?',\n",
              " 'output': 'Amsterdam is the capital and most populated city of the Netherlands, located in the province of North Holland.'}"
            ]
          },
          "metadata": {},
          "execution_count": 61
        }
      ],
      "source": [
        "question_1 = \"Where is Amsterdam?\"\n",
        "\n",
        "print(f\"Question 1: {question_1}\")\n",
        "agent_executor.invoke({\"input\": question_1})"
      ]
    },
    {
      "cell_type": "code",
      "source": [
        "question_1 = \"What did Elon Musk do during the CPAC conference in 2025?\"\n",
        "\n",
        "print(f\"Question 1: {question_1}\")\n",
        "agent_executor.invoke({\"input\": question_1})"
      ],
      "metadata": {
        "id": "HgHs4Qgk9dyo",
        "outputId": "481a4d03-5268-467a-84fd-1f5df69b161e",
        "colab": {
          "base_uri": "https://localhost:8080/"
        }
      },
      "execution_count": 62,
      "outputs": [
        {
          "output_type": "stream",
          "name": "stdout",
          "text": [
            "Question 1: What did Elon Musk do during the CPAC conference in 2025?\n",
            "\n",
            "\n",
            "\u001b[1m> Entering new AgentExecutor chain...\u001b[0m\n",
            "\u001b[32;1m\u001b[1;3m\n",
            "Invoking: `tavily_search_results_json` with `{'query': 'Elon Musk CPAC conference 2025'}`\n",
            "\n",
            "\n",
            "\u001b[0m\u001b[33;1m\u001b[1;3m[{'title': 'Musk waves a chainsaw and charms conservatives at CPAC', 'url': 'https://apnews.com/article/musk-chainsaw-trump-doge-6568e9e0cfc42ad6cdcfd58a409eb312', 'content': \"![Image 3: Elon Musk holds up a chainsaw he received from Argentina's President Javier Milei, right, as they arrive to speak at the Conservative Political Action Conference, CPAC, at the Gaylord National Resort & Convention Center, Thursday, Feb. 20, 2025, in Oxon Hill, Md. ![Image 6: Elon Musk, left, receives a chainsaw from Argentina's President Javier Milei, right, as they arrive speaks at the Conservative Political Action Conference, CPAC, at the Gaylord National Resort & Convention Center, Thursday, Feb. 20, 2025, in Oxon Hill, Md. ![Image 10: Elon Musk, left, receives a chainsaw from Argentina's President Javier Milei, right, as they arrive speaks at the Conservative Political Action Conference, CPAC, at the Gaylord National Resort & Convention Center, Thursday, Feb. 20, 2025, in Oxon Hill, Md.\", 'score': 0.8825193}, {'title': 'Elon Musk Interview at CPAC | C-SPAN.org', 'url': 'https://www.c-span.org/program/public-affairs-event/elon-musk-interview-at-cpac/656121', 'content': '... 2025 Conservative Political Action Conference (CPAC) in National Harbor, Maryland ... Elon Musk Interview at CPAC. Elon Musk, Department of', 'score': 0.8091708}, {'title': 'Inside CPAC 2025 as JD Vance, Elon Musk take the stage - YouTube', 'url': 'https://www.youtube.com/watch?v=kySJisdMyTs', 'content': 'The Conservative Political Action Conference, better known as CPAC, is in full swing in National Harbor, Maryland.', 'score': 0.79637206}, {'title': 'Elon Musk becomes a new power center at CPAC - NBC News', 'url': 'https://www.nbcnews.com/politics/doge/elon-musk-becomes-new-power-center-cpac-rcna193097', 'content': 'Steve Bannon is interviewed by the media at CPAC Thursday.Ben Goggin / NBC News Afterward, at an event Bannon hosted in Washington, D.C., at Butterworth’s — a Capitol Hill restaurant that has become the new hangout for the MAGA crowd and where the line stretched down the block — he continued to speak in a more complimentary way about Musk, calling him a “genius engineer” in an interview with NBC News. And he told NBC News on Thursday that Musk has “a big evil brain.” Nigel Farage, leader of Britain’s right-wing Reform U.K. party who had recently been involved in a spat with Musk over the tech mogul’s support of an anti-immigrant activist, also made a point of praising tech billionaire on stage Thursday, calling him a “hero of free speech.”', 'score': 0.21467534}]\u001b[0m\u001b[32;1m\u001b[1;3mBased on the search results, here's what Elon Musk did during the CPAC conference in 2025:\n",
            "\n",
            "*   **Received a chainsaw from Argentina's President Javier Milei:** He was photographed receiving the chainsaw as they arrived to speak at the conference.\n",
            "*   **Spoke at the conference:** He gave an interview at CPAC.\n",
            "*   **Was called a \"genius engineer\" and a \"hero of free speech\":** Despite some past disagreements, figures like Steve Bannon and Nigel Farage praised Musk at the event.\u001b[0m\n",
            "\n",
            "\u001b[1m> Finished chain.\u001b[0m\n"
          ]
        },
        {
          "output_type": "execute_result",
          "data": {
            "text/plain": [
              "{'input': 'What did Elon Musk do during the CPAC conference in 2025?',\n",
              " 'output': 'Based on the search results, here\\'s what Elon Musk did during the CPAC conference in 2025:\\n\\n*   **Received a chainsaw from Argentina\\'s President Javier Milei:** He was photographed receiving the chainsaw as they arrived to speak at the conference.\\n*   **Spoke at the conference:** He gave an interview at CPAC.\\n*   **Was called a \"genius engineer\" and a \"hero of free speech\":** Despite some past disagreements, figures like Steve Bannon and Nigel Farage praised Musk at the event.'}"
            ]
          },
          "metadata": {},
          "execution_count": 62
        }
      ]
    },
    {
      "cell_type": "code",
      "source": [
        "question_1 = \"ING huis verduurzamen\"\n",
        "\n",
        "print(f\"Question 1: {question_1}\")\n",
        "agent_executor.invoke({\"input\": question_1})"
      ],
      "metadata": {
        "id": "5siECM4W-ejj",
        "outputId": "8d585d15-81c3-4351-a230-938d5f4c337d",
        "colab": {
          "base_uri": "https://localhost:8080/"
        }
      },
      "execution_count": 52,
      "outputs": [
        {
          "output_type": "stream",
          "name": "stdout",
          "text": [
            "Question 1: ING huis verduurzamen\n",
            "\n",
            "\n",
            "\u001b[1m> Entering new AgentExecutor chain...\u001b[0m\n",
            "\u001b[32;1m\u001b[1;3m\n",
            "Invoking: `tavily_search_results_json` with `{'query': 'ING verduurzamen huis'}`\n",
            "\n",
            "\n",
            "\u001b[0m\u001b[33;1m\u001b[1;3m[{'title': 'ING introduceert ING Upgrader voor duurzamer en ...', 'url': 'https://www.duurzaam-beleggen.nl/2024/12/02/ing-introduceert-ing-upgrader-voor-duurzamer-en-toekomstbestendiger-wonen/', 'content': 'ING Upgrader vereenvoudigt de verduurzaming van woningen voor de honderdduizenden huishoudens die de bank financiert. Folkert van der Ploeg,', 'score': 0.80405265}, {'title': 'ING introduceert Upgrader voor duurzamer wonen - InFinance', 'url': 'https://www.infinance.nl/artikel/ing-introduceert-upgrader-voor-duurzamer-wonen/', 'content': 'ING lanceert vanaf 9 december ING Upgrader, een alles-in-één dienstverlening voor hypotheekklanten die hun woning willen verduurzamen.', 'score': 0.8025714}, {'title': 'Hypotheek voor een duurzaam huis - ING', 'url': 'https://www.ing.nl/particulier/hypotheek/hypotheekvormen/duurzaam-huis-kopen', 'content': 'Hogere hypotheek als je je huis energiezuiniger maakt. Ga je je huis verduurzamen, dan mag je daarvoor meer lenen. Het maakt niet uit of je een huis koopt of al', 'score': 0.6937432}, {'title': 'Upgrade je huis! Verduurzamen is een slimme investering', 'url': 'https://www.ing.nl/particulier/hypotheek/duurzaam-wonen', 'content': 'Verduurzaming van je huis financieren kan op verschillende manieren. We hebben ze voor je op een rij gezet. Wist je trouwens dat een duurzaam huis rentekorting', 'score': 0.46628717}]\u001b[0m\u001b[32;1m\u001b[1;3mING offers multiple options to help you make your home more sustainable, including the ING Upgrader service and the possibility of borrowing more money on your mortgage if you're making your home more energy-efficient. They also offer information on different ways to finance the sustainability upgrades to your home.\u001b[0m\n",
            "\n",
            "\u001b[1m> Finished chain.\u001b[0m\n"
          ]
        },
        {
          "output_type": "execute_result",
          "data": {
            "text/plain": [
              "{'input': 'ING huis verduurzamen',\n",
              " 'output': \"ING offers multiple options to help you make your home more sustainable, including the ING Upgrader service and the possibility of borrowing more money on your mortgage if you're making your home more energy-efficient. They also offer information on different ways to finance the sustainability upgrades to your home.\"}"
            ]
          },
          "metadata": {},
          "execution_count": 52
        }
      ]
    },
    {
      "cell_type": "code",
      "source": [
        "question_1 = \"How long after launch did Starship explode during Starship Flight test 8?\"\n",
        "\n",
        "print(f\"Question 1: {question_1}\")\n",
        "agent_executor.invoke({\"input\": question_1})"
      ],
      "metadata": {
        "id": "DKOnZRCN-Qky",
        "outputId": "00fd42dd-8c9f-4669-91e4-7bb1938ef34e",
        "colab": {
          "base_uri": "https://localhost:8080/"
        }
      },
      "execution_count": 59,
      "outputs": [
        {
          "output_type": "stream",
          "name": "stdout",
          "text": [
            "Question 1: How long after launch did Starship explode during Starship Flight test 8?\n",
            "\n",
            "\n",
            "\u001b[1m> Entering new AgentExecutor chain...\u001b[0m\n",
            "\u001b[32;1m\u001b[1;3m\n",
            "Invoking: `tavily_search_results_json` with `{'query': 'Starship Flight test 8 explosion time after launch'}`\n",
            "\n",
            "\n",
            "\u001b[0m\u001b[33;1m\u001b[1;3m[{'title': 'FAA investigating SpaceX Starship Flight 8 explosion that disrupted ...', 'url': 'https://www.space.com/space-exploration/missions/faa-investigating-spacex-starship-flight-8-explosion-that-disrupted-commercial-flights', 'content': \"SpaceX's latest Starship to attempt to reach space exploded nine minutes after its launch this week, leaving a trail of debris in its wake.\", 'score': 0.882276}, {'title': 'Starship Explosions Show SpaceX No Longer Defying Gravity', 'url': 'https://www.nytimes.com/2025/03/08/science/starship-spacex-explosion-elon-musk.html', 'content': 'The latest explosion occurred on Thursday during the eighth test flight of Starship, less than two months after the seventh test flight also', 'score': 0.74273956}, {'title': \"SpaceX's Starship spacecraft explodes midflight for a second ... - CNN\", 'url': 'https://www.cnn.com/2025/03/06/science/starship-launch-test-flight-8/index.html', 'content': 'A SpaceX Starship spacecraft, the upper portion of the most powerful launch system ever built, exploded during its eighth test flight Thursday, disrupting air traffic and marking the second consecutive failure for the vehicle this year. In its statement to CNN given after the January Flight 7 mishap, the FAA said that it told the Turks and Caicos government that the archipelago was located within a potential hazard area related to the Starship launch. While the first test flight of Starship and Super Heavy blew up a launchpad at SpaceX’s Starbase facilities in 2023, January’s Flight 7 and Thursday’s Flight 8 both allowed Starship to travel out over the Atlantic and Caribbean before exploding near populated islands.', 'score': 0.68191797}, {'title': \"SpaceX's Starship explodes in space, which Musk calls a 'minor ...\", 'url': 'https://www.reuters.com/technology/space/spacex-launches-eighth-starship-test-eyeing-ships-mock-satellite-deployment-2025-03-06/', 'content': \"SpaceX's Starship explodes in space, which Musk calls a 'minor setback' | Reuters March 6 (Reuters) - SpaceX's massive Starship spacecraft exploded in space on Thursday minutes after lifting off from Texas, prompting the FAA to halt air traffic in parts of Florida, in the second straight failure this year for Elon Musk's Mars rocket program. The FAA, which regulates private rocket launches, said its investigation would require SpaceX to examine the failure's cause and get the agency's sign-off before Starship can fly again. The FAA last month approved SpaceX's launch license for Thursday's test flight while its investigation into the company's previous Starship failure remained open. About Reuters, opens new tab Reuters News Agency, opens new tab\", 'score': 0.40302688}]\u001b[0m\u001b[32;1m\u001b[1;3mStarship exploded nine minutes after its launch during Starship Flight Test 8.\u001b[0m\n",
            "\n",
            "\u001b[1m> Finished chain.\u001b[0m\n"
          ]
        },
        {
          "output_type": "execute_result",
          "data": {
            "text/plain": [
              "{'input': 'How long after launch did Starship explode during Starship Flight test 8?',\n",
              " 'output': 'Starship exploded nine minutes after its launch during Starship Flight Test 8.'}"
            ]
          },
          "metadata": {},
          "execution_count": 59
        }
      ]
    },
    {
      "cell_type": "code",
      "source": [
        "[{'title': 'Elon Musk Speaks at CPAC | C-SPAN.org', 'url': 'https://www.c-span.org/clip/public-affairs-event/elon-musk-speaks-at-cpac/5154261', 'content': 'Elon Musk speaks at the Conservative Political Action Conference (CPAC) about his role at the \"Department of Government Efficiency\" (DOGE)', 'score': 0.38588423}, {'title': 'WATCH: Elon Musk waves chainsaw on stage at CPAC - YouTube', 'url': 'https://www.youtube.com/watch?v=nkMVb0RNptA', 'content': 'Billionaire Elon Musk began his appearance at the Conservative Political Action Conference brandishing a chainsaw that was gifted to him by', 'score': 0.32527456}, {'title': 'Musk waves a chainsaw and charms conservatives at CPAC', 'url': 'https://apnews.com/article/musk-chainsaw-trump-doge-6568e9e0cfc42ad6cdcfd58a409eb312', 'content': 'Billionaire Elon Musk has created a buzz waving a chainsaw in the air at a conservative gathering outside Washington.', 'score': 0.3052006}, {'title': 'Elon Musk becomes a new power center at CPAC - NBC News', 'url': 'https://www.nbcnews.com/politics/doge/elon-musk-becomes-new-power-center-cpac-rcna193097', 'content': 'Elon Musk stole the show at CPAC, a surprise guest who wielded a chainsaw to symbolize his government cuts.', 'score': 0.28808862}, {'title': \"At CPAC, Elon Musk's 'Dark MAGA' takeover is embraced | AP News\", 'url': 'https://apnews.com/article/trump-musk-cpac-doge-maga-bannon-96ad2a6989c1d210c3ea83ccc11069cd', 'content': 'At an annual gathering of conservatives, the emerging influence of billionaire Elon Musk on President Donald Trump was on display.', 'score': 0.20639811}]Elon Musk spoke at the Conservative Political Action Conference (CPAC) and brandished a chainsaw. He talked about his role at the \"Department of Government Efficiency\" (DOGE).\n"
      ],
      "metadata": {
        "id": "WCXdvX0-9tYk"
      },
      "execution_count": null,
      "outputs": []
    },
    {
      "cell_type": "code",
      "source": [
        "question_1 = \"Where is Amsterdam?\"\n",
        "\n",
        "print(f\"Question 1: {question_1}\")\n",
        "agent_executor.invoke({\"input\": question_1})"
      ],
      "metadata": {
        "id": "7AvQYc-n9QMv"
      },
      "execution_count": null,
      "outputs": []
    },
    {
      "cell_type": "code",
      "source": [
        "question_1 = \"Can you tell me something about Michael Jackson?\"\n",
        "\n",
        "print(f\"Question 1: {question_1}\")\n",
        "agent_executor.invoke({\"input\": question_1})"
      ],
      "metadata": {
        "id": "KWdGo0h66DAz",
        "outputId": "d0dec1ff-5774-479d-d034-cbe046226d27",
        "colab": {
          "base_uri": "https://localhost:8080/"
        }
      },
      "execution_count": 38,
      "outputs": [
        {
          "output_type": "stream",
          "name": "stdout",
          "text": [
            "Question 1: Can you tell me something about Michael Jackson?\n",
            "\n",
            "\n",
            "\u001b[1m> Entering new AgentExecutor chain...\u001b[0m\n",
            "\u001b[32;1m\u001b[1;3mI am sorry, I cannot help you with that. I can only answer general questions about places.\u001b[0m\n",
            "\n",
            "\u001b[1m> Finished chain.\u001b[0m\n"
          ]
        },
        {
          "output_type": "execute_result",
          "data": {
            "text/plain": [
              "{'input': 'Can you tell me something about Michael Jackson?',\n",
              " 'output': 'I am sorry, I cannot help you with that. I can only answer general questions about places.'}"
            ]
          },
          "metadata": {},
          "execution_count": 38
        }
      ]
    },
    {
      "cell_type": "code",
      "source": [
        "question_1 = \"Can you tell me something about Michael Jackson?\"\n",
        "\n",
        "print(f\"Question 1: {question_1}\")\n",
        "agent_executor.invoke({\"input\": question_1})"
      ],
      "metadata": {
        "id": "yi36ag3X6Lci",
        "outputId": "64989a58-54b1-4ef6-9985-663bc28e9aaa",
        "colab": {
          "base_uri": "https://localhost:8080/"
        }
      },
      "execution_count": 30,
      "outputs": [
        {
          "output_type": "stream",
          "name": "stdout",
          "text": [
            "Question 1: Can you tell me something about Michael Jackson?\n",
            "\n",
            "\n",
            "\u001b[1m> Entering new AgentExecutor chain...\u001b[0m\n",
            "\u001b[32;1m\u001b[1;3m\n",
            "Invoking: `wikipedia` with `{'query': 'Michael Jackson'}`\n",
            "\n",
            "\n",
            "\u001b[0m\u001b[36;1m\u001b[1;3mPage: Michael Jackson\n",
            "Summary: Michael Joseph Jackson (August 29, 1958 – June 25, 2009) was an American singer, songwriter, dancer, and philanthropist. Dubbed the \"King of Pop\", he is regarded as one of the most significant figures of the 20th century. Over a four-decade career, his world record music achievements broke racial barriers in America and made him a global figure. Through songs, stages, and fashion, he proliferated visual performance for artists in popular music; popularizing street dance moves including the moonwalk (which he named), the robot, and the anti-gravity lean. Jackson is often deemed the greatest entertainer of all time based on his acclaim and records.\n",
            "The eighth child of the Jackson family, Michael made his public debut in 1964 at age six, as a member of the Jackson 5 (later known as the Jacksons). After signing with Motown in 1968, the band achieved worldwide success with him as its lead singer. Jackson achieved solo stardom with the release of his fifth album Off the Wall (1979). He followed it up with Thriller (1982), the best-selling album of all time, which propelled him to the forefront of pop culture and revolutionized the music video medium with the videos for its title track along with \"Beat It\" and \"Billie Jean\". Jackson furthered his position as a global superstar with Bad (1987), the first album to produce five US Billboard Hot 100 number-one singles: \"I Just Can't Stop Loving You\", \"Bad\", \"The Way You Make Me Feel\", \"Man in the Mirror\", and \"Dirty Diana\". Dangerous (1991) marked a new era for Jackson, lauded as his most artistic and socially conscious album. HIStory (1995) produced \"You Are Not Alone\", the first song to debut at number one on the US Billboard Hot 100, as well as the protest songs \"Earth Song\" and \"They Don't Care About Us\". His final album, Invincible, was released in 2001.\n",
            "From the late 1980s, Jackson became a figure of controversy and speculation due to his changing appearance, relationships, behavior, and lifestyle. He was accused of sexually abusing the child of a family friend in 1993. In 2005, Jackson was tried and acquitted of further child sexual abuse allegations and all other charges. While preparing for a series of comeback concerts, This Is It, Jackson died in 2009 from an overdose of propofol administered by his personal physician Conrad Murray, who was convicted in 2011 of involuntary manslaughter. Jackson's death triggered reactions around the world, creating unprecedented surges of internet traffic and a spike in sales of his music. His televised memorial service, held at the Staples Center in Los Angeles, was estimated to have been viewed by more than 2.5 billion people. \n",
            "Jackson is one of the best-selling music artists of all time, with estimated sales of over 500 million records worldwide. He had 13 Billboard Hot 100 number-one singles (the fourth-highest in Hot 100 history) and is the first artist to have a top-ten single on the Billboard Hot 100 in five different decades. Jackson's inductions include the Rock and Roll Hall of Fame (twice), the National Rhythm & Blues Hall of Fame, the Vocal Group Hall of Fame, the Songwriters Hall of Fame and the Dance Hall of Fame (making him the only recording artist to be inducted). As one of the most-awarded artists in popular music, he received 13 Grammy Awards, the Grammy Legend Award, and the Grammy Lifetime Achievement Award, 26 American Music Awards, including the Artist of the Century and Artist of the 1980s, six Brit Awards, three presidential honors including Artist of the Decade, the Bambi Pop Artist of the Millennium Award, and 12 World Music Awards including the Millennium Award, among other awards. In 1992, Jackson founded Heal the World Foundation, donating an estimated $500 million to charity throughout his lifetime. In 2024, half of his music catalogue sold to Sony for $600 million, the largest music acquisition for a single artist in history.\u001b[0m\u001b[32;1m\u001b[1;3mMichael Joseph Jackson (1958-2009) was an American singer, songwriter, dancer, and philanthropist, dubbed the \"King of Pop.\" He is regarded as one of the most significant figures of the 20th century and broke racial barriers in America. Jackson made his public debut in 1964 at age six, as a member of the Jackson 5. He achieved solo stardom with the release of his fifth album Off the Wall (1979), and followed it up with Thriller (1982), the best-selling album of all time. Jackson is one of the best-selling music artists of all time, with estimated sales of over 500 million records worldwide. He had 13 Billboard Hot 100 number-one singles and is the first artist to have a top-ten single on the Billboard Hot 100 in five different decades. From the late 1980s, Jackson became a figure of controversy and speculation due to his changing appearance, relationships, behavior, and lifestyle. He was accused of sexually abusing the child of a family friend in 1993, and was tried and acquitted of further child sexual abuse allegations in 2005. While preparing for a series of comeback concerts, This Is It, Jackson died in 2009 from an overdose of propofol.\u001b[0m\n",
            "\n",
            "\u001b[1m> Finished chain.\u001b[0m\n"
          ]
        },
        {
          "output_type": "execute_result",
          "data": {
            "text/plain": [
              "{'input': 'Can you tell me something about Michael Jackson?',\n",
              " 'output': 'Michael Joseph Jackson (1958-2009) was an American singer, songwriter, dancer, and philanthropist, dubbed the \"King of Pop.\" He is regarded as one of the most significant figures of the 20th century and broke racial barriers in America. Jackson made his public debut in 1964 at age six, as a member of the Jackson 5. He achieved solo stardom with the release of his fifth album Off the Wall (1979), and followed it up with Thriller (1982), the best-selling album of all time. Jackson is one of the best-selling music artists of all time, with estimated sales of over 500 million records worldwide. He had 13 Billboard Hot 100 number-one singles and is the first artist to have a top-ten single on the Billboard Hot 100 in five different decades. From the late 1980s, Jackson became a figure of controversy and speculation due to his changing appearance, relationships, behavior, and lifestyle. He was accused of sexually abusing the child of a family friend in 1993, and was tried and acquitted of further child sexual abuse allegations in 2005. While preparing for a series of comeback concerts, This Is It, Jackson died in 2009 from an overdose of propofol.'}"
            ]
          },
          "metadata": {},
          "execution_count": 30
        }
      ]
    },
    {
      "cell_type": "code",
      "execution_count": null,
      "metadata": {
        "id": "YQQwBIn2zX_A",
        "outputId": "91ae0507-0bb0-46cb-bff2-8e4182c60e16"
      },
      "outputs": [
        {
          "name": "stdout",
          "output_type": "stream",
          "text": [
            "Question 2: What is the current temperature in Amsterdam?\n",
            "\n",
            "\n",
            "\u001b[1m> Entering new AgentExecutor chain...\u001b[0m\n",
            "\u001b[32;1m\u001b[1;3m\n",
            "Invoking: `weather` with `{'city': 'Amsterdam'}`\n",
            "\n",
            "\n",
            "\u001b[0m\u001b[33;1m\u001b[1;3mCurrent temperature in Amsterdam: 15.4°C\u001b[0m\u001b[32;1m\u001b[1;3mThe current temperature in Amsterdam is 15.4°C.\u001b[0m\n",
            "\n",
            "\u001b[1m> Finished chain.\u001b[0m\n"
          ]
        },
        {
          "data": {
            "text/plain": [
              "{'input': 'What is the current temperature in Amsterdam?',\n",
              " 'output': 'The current temperature in Amsterdam is 15.4°C.'}"
            ]
          },
          "execution_count": 15,
          "metadata": {},
          "output_type": "execute_result"
        }
      ],
      "source": [
        "question_2 = \"Can you ?\"\n",
        "\n",
        "print(f\"Question 2: {question_2}\")\n",
        "agent_executor.invoke({\"input\": question_2})"
      ]
    },
    {
      "cell_type": "code",
      "execution_count": null,
      "metadata": {
        "id": "N_USsmQfzX_A",
        "outputId": "8a6c3258-2a12-4757-a8ea-b33ce1e4d45c"
      },
      "outputs": [
        {
          "name": "stdout",
          "output_type": "stream",
          "text": [
            "Question 1: What should I visit in Amsterdam? Show me an photo\n",
            "\n",
            "\n",
            "\u001b[1m> Entering new AgentExecutor chain...\u001b[0m\n",
            "\u001b[32;1m\u001b[1;3m\n",
            "Invoking: `wikipedia` with `{'query': 'Tourist attractions in Amsterdam'}`\n",
            "\n",
            "\n",
            "\u001b[0m\u001b[36;1m\u001b[1;3mPage: List of tourist attractions in Amsterdam\n",
            "Summary: Amsterdam, one of Europe's capitals, has many attractions for visitors. The city's most famous sight is the 17th-century canals of Amsterdam (in Dutch: grachtengordel), located in the heart of Amsterdam, have been added to the UNESCO World Heritage List.\u001b[0m\u001b[32;1m\u001b[1;3m\n",
            "Invoking: `create_image` with `{'payload': 'Tourist attractions in Amsterdam'}`\n",
            "\n",
            "\n",
            "\u001b[0m\u001b[38;5;200m\u001b[1;3mimages/image_Tourist_attractions_in_Amsterdam.jpg \u001b[0m\u001b[32;1m\u001b[1;3mAmsterdam offers a variety of attractions for visitors. One of the most famous sights is the 17th-century canals, known as the \"grachtengordel,\" which are located in the heart of the city and have been added to the UNESCO World Heritage List.\n",
            "\n",
            "Here is an image of some tourist attractions in Amsterdam:\n",
            "\n",
            "![Tourist attractions in Amsterdam](images/image_Tourist_attractions_in_Amsterdam.jpg)\u001b[0m\n",
            "\n",
            "\u001b[1m> Finished chain.\u001b[0m\n"
          ]
        },
        {
          "data": {
            "text/plain": [
              "{'input': 'What should I visit in Amsterdam? Show me an photo',\n",
              " 'output': 'Amsterdam offers a variety of attractions for visitors. One of the most famous sights is the 17th-century canals, known as the \"grachtengordel,\" which are located in the heart of the city and have been added to the UNESCO World Heritage List.\\n\\nHere is an image of some tourist attractions in Amsterdam:\\n\\n![Tourist attractions in Amsterdam](images/image_Tourist_attractions_in_Amsterdam.jpg)'}"
            ]
          },
          "execution_count": 16,
          "metadata": {},
          "output_type": "execute_result"
        }
      ],
      "source": [
        "question_3 = \"What should I visit in Amsterdam? Show me an photo\"\n",
        "\n",
        "print(f\"Question 1: {question_3}\")\n",
        "agent_executor.invoke({\"input\": question_3})"
      ]
    },
    {
      "cell_type": "markdown",
      "metadata": {
        "id": "hznVoAYJzX_A"
      },
      "source": [
        "---"
      ]
    },
    {
      "cell_type": "markdown",
      "metadata": {
        "id": "HDvsMutkzX_A"
      },
      "source": [
        "#### Exercise 2.2 : Build your own agent  <a id='2'></a>\n",
        "The goal is to build an agent that uses the tools you previously developed. Feel free to also use the pre-made tools, available at `helper_functions/tools.py`\n",
        "\n",
        "**TASK**:\n",
        "- A template for defining an agent and an API key are already provided to you. Build an agent by using a list of tools, and the LLM `gpt-4o-mini`. A template for this agent follows below.\n",
        "- Test if the agent gives an output.\n",
        "- Observe how the output changes if you provide less tools in your list of tools."
      ]
    },
    {
      "cell_type": "markdown",
      "metadata": {
        "id": "Hi8ItsCuzX_A"
      },
      "source": [
        "**SOLUTION:**"
      ]
    },
    {
      "cell_type": "code",
      "execution_count": null,
      "metadata": {
        "id": "5Q8omDmLzX_A",
        "outputId": "2e4847da-6695-4a61-dabd-b2dd3f1430b1"
      },
      "outputs": [
        {
          "name": "stdout",
          "output_type": "stream",
          "text": [
            "Your agent is ready.\n"
          ]
        }
      ],
      "source": [
        "# Component 1 (Tools): Load Tools\n",
        "tools = [\n",
        "    my_own_wiki_tool, weather_tool, image_tool\n",
        "]\n",
        "\n",
        "# Component 2 (LLM): Load LLM\n",
        "llm = ChatOpenAI(model=\"gpt-4o-mini\",\n",
        "                 temperature=0,\n",
        "                 api_key=OPENAI_KEY)\n",
        "\n",
        "# Component 3 (Prompt): Let the agent know what its purpose is. For now, let's keep it as is.\n",
        "prompt = ChatPromptTemplate.from_messages([\n",
        "    (\"system\", \"You are a nice assistant\"),\n",
        "    (\"human\", \"{input}\"),\n",
        "    MessagesPlaceholder(variable_name=\"agent_scratchpad\")\n",
        "])\n",
        "\n",
        "# Define the agent and agent executor (load the LLM, the list of tools, and the prompt (descripiton))\n",
        "\n",
        "agent = create_tool_calling_agent(\n",
        "    llm = llm, tools = tools, prompt = prompt\n",
        "    )\n",
        "agent_executor = AgentExecutor(\n",
        "    agent=agent, tools=tools, verbose=True\n",
        ")\n",
        "\n",
        "print(\"Your agent is ready.\")\n"
      ]
    },
    {
      "cell_type": "markdown",
      "metadata": {
        "id": "MIXGMwtUzX_A"
      },
      "source": [
        "---"
      ]
    },
    {
      "cell_type": "markdown",
      "metadata": {
        "id": "cbfPWMkfzX_A"
      },
      "source": [
        "#### Exercise 2.3: Invoke as many tools as you can  <a id='3'></a>\n",
        "\n",
        "**TASK:**\n",
        "Try various questions to call the agent and follow the generated reasoning process in the response. The goal is to call the agent in a way thay it will use as many tools as possible. **Let's see who can reach the highest number of tools used with a single prompt!**"
      ]
    },
    {
      "cell_type": "markdown",
      "metadata": {
        "id": "lm_hkoOLzX_A"
      },
      "source": [
        "**SOLUTION:** (invoking 2 tools: Wiki and Weather. Can you reach more?)"
      ]
    },
    {
      "cell_type": "code",
      "execution_count": null,
      "metadata": {
        "id": "_yM2KSNkzX_A",
        "outputId": "a2e2d2a5-8f6f-4290-c4aa-34167a69612d"
      },
      "outputs": [
        {
          "name": "stdout",
          "output_type": "stream",
          "text": [
            "Question: \n",
            "Where is Amsterdam and what is the weather like?\n",
            "\n",
            "\n",
            "\n",
            "\u001b[1m> Entering new AgentExecutor chain...\u001b[0m\n",
            "\u001b[32;1m\u001b[1;3m\n",
            "Invoking: `wikipedia` with `{'query': 'Amsterdam'}`\n",
            "\n",
            "\n",
            "\u001b[0m\u001b[36;1m\u001b[1;3mPage: Amsterdam\n",
            "Summary: Amsterdam ( AM-stər-dam, UK also  AM-stər-DAM, Dutch: [ˌɑmstərˈdɑm] ; literally, \"Dam in the Amstel\") is the capital and most populated city of the Netherlands. It has a population of 921,402 within the city proper, 1,457,018 in the urban area and 2,480,394 in the metropolitan area. Located in the Dutch province of North Holland, Amsterdam is colloquially referred to as the \"Venice of the North\", for its large number of canals, now a UNESCO World Heritage Site.\n",
            "Amsterdam was founded at the mouth of the Amstel River, which was dammed to control flooding. Originally a small fishing village in the 12th century, Amsterdam became a major world port during the Dutch Golden Age of the 17th century, when the Netherlands was an economic powerhouse. Amsterdam was the leading centre for finance and trade, as well as a hub of secular art production. In the 19th and 20th centuries, the city expanded and new neighborhoods and suburbs were built. The city has a long tradition of openness, liberalism, and tolerance. Cycling is key to the city's modern character, and there are numerous biking paths and lanes spread throughout.\n",
            "Amsterdam's main attractions include its historic canals; the Rijksmuseum, the state museum with Dutch Golden Age art; the Van Gogh Museum; the Dam Square, where the Royal Palace of Amsterdam and former city hall are located; the Amsterdam Museum; Stedelijk Museum, with modern art; the Concertgebouw concert hall; the Anne Frank House; the Scheepvaartmuseum, the Natura Artis Magistra; Hortus Botanicus, NEMO, the red-light district and cannabis coffee shops. The city is known for its nightlife and festival activity, with several nightclubs among the world's most famous. Its artistic heritage, canals and narrow canal houses with gabled façades, well-preserved legacies of the city's 17th-century Golden Age, have attracted millions of visitors annually.\n",
            "The Amsterdam Stock Exchange, founded in 1602, is considered the oldest \"modern\" securities market stock exchange in the world. As the commercial capital of the Netherlands and one of the top financial centres in Europe, Amsterdam is considered an alpha world city. The city is the cultural capital of the Netherlands. Many large Dutch institutions have their headquarters in the city. Many of the world's largest companies are based here or have established their European headquarters in the city, such as technology companies Uber, Netflix, and Tesla. In 2022, Amsterdam was ranked the ninth-best city to live in by the Economist Intelligence Unit and 12th on quality of living for environment and infrastructure by Mercer. The city was ranked 4th place globally as a top tech hub in 2019. The Port of Amsterdam is the fifth largest in Europe. The KLM hub and Amsterdam's main airport, Schiphol, is the busiest airport in the Netherlands, third in Europe, and 11th in the world. The Dutch capital is one of the most multicultural cities in the world, with about 180 nationalities represented. Immigration and ethnic segregation in Amsterdam is a current issue.\n",
            "Amsterdam's notable residents throughout its history include painters Rembrandt and Vincent van Gogh, 17th-century philosophers Baruch Spinoza, John Locke, René Descartes, and the Holocaust victim and diarist Anne Frank.\u001b[0m\u001b[32;1m\u001b[1;3m\n",
            "Invoking: `weather` with `{'city': 'Amsterdam'}`\n",
            "\n",
            "\n",
            "\u001b[0m\u001b[33;1m\u001b[1;3mCurrent temperature in Amsterdam: 15.4°C\u001b[0m\u001b[32;1m\u001b[1;3m### Location of Amsterdam:\n",
            "Amsterdam is the capital and most populated city of the Netherlands. It is located in the Dutch province of North Holland. The city is known for its extensive canal system, which has earned it the nickname \"Venice of the North.\" Amsterdam was founded at the mouth of the Amstel River and has a rich history dating back to the 12th century. It became a major world port during the Dutch Golden Age in the 17th century and is now a cultural and financial hub.\n",
            "\n",
            "### Current Weather in Amsterdam:\n",
            "The current temperature in Amsterdam is 15.4°C.\u001b[0m\n",
            "\n",
            "\u001b[1m> Finished chain.\u001b[0m\n"
          ]
        },
        {
          "data": {
            "text/plain": [
              "{'input': '\\nWhere is Amsterdam and what is the weather like?\\n',\n",
              " 'output': '### Location of Amsterdam:\\nAmsterdam is the capital and most populated city of the Netherlands. It is located in the Dutch province of North Holland. The city is known for its extensive canal system, which has earned it the nickname \"Venice of the North.\" Amsterdam was founded at the mouth of the Amstel River and has a rich history dating back to the 12th century. It became a major world port during the Dutch Golden Age in the 17th century and is now a cultural and financial hub.\\n\\n### Current Weather in Amsterdam:\\nThe current temperature in Amsterdam is 15.4°C.'}"
            ]
          },
          "execution_count": 19,
          "metadata": {},
          "output_type": "execute_result"
        }
      ],
      "source": [
        "question = \"\"\"\n",
        "Where is Amsterdam and what is the weather like?\n",
        "\"\"\"\n",
        "\n",
        "print(f\"Question: {question}\")\n",
        "agent_executor.invoke({\"input\": question})"
      ]
    },
    {
      "cell_type": "markdown",
      "metadata": {
        "id": "i2Oo_R5ozX_A"
      },
      "source": [
        "---"
      ]
    },
    {
      "cell_type": "markdown",
      "metadata": {
        "id": "IYxahTO6zX_A"
      },
      "source": [
        "#### Exercise 2.4 : Optimize the agent prompt  <a id='4'></a>\n",
        "So far we played around with the provided LLM and list of tools. Now let's look into the 3rd component: the Agent prompt.\n",
        "\n",
        "**TASK:**\n",
        "- Modify the agent prompt and observe the difference in the output."
      ]
    },
    {
      "cell_type": "markdown",
      "metadata": {
        "id": "bmV_e-i9zX_I"
      },
      "source": [
        "**SOLUTION:**\n",
        "\n",
        "In this solution we assume you are building an agent for a travel agency, and you want the agent to help you motivate people to visit a city."
      ]
    },
    {
      "cell_type": "code",
      "execution_count": null,
      "metadata": {
        "id": "wnhvZxFrzX_I",
        "outputId": "5a03b99c-f8a2-4420-bf43-9e7ec0278eaf"
      },
      "outputs": [
        {
          "name": "stdout",
          "output_type": "stream",
          "text": [
            "Your agent is ready.\n"
          ]
        }
      ],
      "source": [
        "# Component 1 (Tools): Load Tools from Exercise 1\n",
        "tools = tools\n",
        "\n",
        "# Component 2 (LLM): Load LLM form Exercise 1\n",
        "llm = llm\n",
        "\n",
        "your_prompt = \"\"\"\"\n",
        "    You are a helpful assisstant, trying to motivate people to go on holiday.\n",
        "\"\"\"\n",
        "\n",
        "# Component 3 (Prompt): Create your own prompt to instruct the Agent about its purpose.\n",
        "prompt = ChatPromptTemplate.from_messages([\n",
        "    (\"system\", your_prompt),\n",
        "    (\"human\", \"{input}\"),\n",
        "    MessagesPlaceholder(variable_name=\"agent_scratchpad\")\n",
        "])\n",
        "prompt.messages\n",
        "\n",
        "\n",
        "# Define the agent and agent executor (load the LLM, the list of tools, and the prompt (descripiton))\n",
        "# This is same as in Exercise 1\n",
        "agent = create_tool_calling_agent(\n",
        "    llm = llm, tools = tools, prompt = prompt\n",
        "    )\n",
        "agent_executor = AgentExecutor(\n",
        "    agent=agent, tools=tools, verbose=True\n",
        ")\n",
        "\n",
        "print(\"Your agent is ready.\")\n"
      ]
    },
    {
      "cell_type": "code",
      "execution_count": null,
      "metadata": {
        "id": "XA1Q2lWFzX_I",
        "outputId": "402e7ba5-7bda-49d2-cedf-a8522cc91fa5"
      },
      "outputs": [
        {
          "name": "stdout",
          "output_type": "stream",
          "text": [
            "Question: \n",
            "Where is Amsterdam and what is the weather like?\n",
            "\n",
            "\n",
            "\n",
            "\u001b[1m> Entering new AgentExecutor chain...\u001b[0m\n",
            "\u001b[32;1m\u001b[1;3m\n",
            "Invoking: `wikipedia` with `{'query': 'Amsterdam'}`\n",
            "\n",
            "\n",
            "\u001b[0m\u001b[36;1m\u001b[1;3mPage: Amsterdam\n",
            "Summary: Amsterdam ( AM-stər-dam, UK also  AM-stər-DAM, Dutch: [ˌɑmstərˈdɑm] ; literally, \"Dam in the Amstel\") is the capital and most populated city of the Netherlands. It has a population of 921,402 within the city proper, 1,457,018 in the urban area and 2,480,394 in the metropolitan area. Located in the Dutch province of North Holland, Amsterdam is colloquially referred to as the \"Venice of the North\", for its large number of canals, now a UNESCO World Heritage Site.\n",
            "Amsterdam was founded at the mouth of the Amstel River, which was dammed to control flooding. Originally a small fishing village in the 12th century, Amsterdam became a major world port during the Dutch Golden Age of the 17th century, when the Netherlands was an economic powerhouse. Amsterdam was the leading centre for finance and trade, as well as a hub of secular art production. In the 19th and 20th centuries, the city expanded and new neighborhoods and suburbs were built. The city has a long tradition of openness, liberalism, and tolerance. Cycling is key to the city's modern character, and there are numerous biking paths and lanes spread throughout.\n",
            "Amsterdam's main attractions include its historic canals; the Rijksmuseum, the state museum with Dutch Golden Age art; the Van Gogh Museum; the Dam Square, where the Royal Palace of Amsterdam and former city hall are located; the Amsterdam Museum; Stedelijk Museum, with modern art; the Concertgebouw concert hall; the Anne Frank House; the Scheepvaartmuseum, the Natura Artis Magistra; Hortus Botanicus, NEMO, the red-light district and cannabis coffee shops. The city is known for its nightlife and festival activity, with several nightclubs among the world's most famous. Its artistic heritage, canals and narrow canal houses with gabled façades, well-preserved legacies of the city's 17th-century Golden Age, have attracted millions of visitors annually.\n",
            "The Amsterdam Stock Exchange, founded in 1602, is considered the oldest \"modern\" securities market stock exchange in the world. As the commercial capital of the Netherlands and one of the top financial centres in Europe, Amsterdam is considered an alpha world city. The city is the cultural capital of the Netherlands. Many large Dutch institutions have their headquarters in the city. Many of the world's largest companies are based here or have established their European headquarters in the city, such as technology companies Uber, Netflix, and Tesla. In 2022, Amsterdam was ranked the ninth-best city to live in by the Economist Intelligence Unit and 12th on quality of living for environment and infrastructure by Mercer. The city was ranked 4th place globally as a top tech hub in 2019. The Port of Amsterdam is the fifth largest in Europe. The KLM hub and Amsterdam's main airport, Schiphol, is the busiest airport in the Netherlands, third in Europe, and 11th in the world. The Dutch capital is one of the most multicultural cities in the world, with about 180 nationalities represented. Immigration and ethnic segregation in Amsterdam is a current issue.\n",
            "Amsterdam's notable residents throughout its history include painters Rembrandt and Vincent van Gogh, 17th-century philosophers Baruch Spinoza, John Locke, René Descartes, and the Holocaust victim and diarist Anne Frank.\u001b[0m\u001b[32;1m\u001b[1;3m\n",
            "Invoking: `weather` with `{'city': 'Amsterdam'}`\n",
            "\n",
            "\n",
            "\u001b[0m\u001b[33;1m\u001b[1;3mCurrent temperature in Amsterdam: 15.4°C\u001b[0m"
          ]
        }
      ],
      "source": [
        "# Observe how the same question from before is answered differently with the different prompt.\n",
        "print(f\"Question: {question}\")\n",
        "agent_executor.invoke({\"input\": question})"
      ]
    },
    {
      "cell_type": "markdown",
      "metadata": {
        "id": "M6o7Vei6zX_I"
      },
      "source": [
        "---"
      ]
    }
  ],
  "metadata": {
    "kernelspec": {
      "display_name": "venv",
      "language": "python",
      "name": "python3"
    },
    "language_info": {
      "codemirror_mode": {
        "name": "ipython",
        "version": 3
      },
      "file_extension": ".py",
      "mimetype": "text/x-python",
      "name": "python",
      "nbconvert_exporter": "python",
      "pygments_lexer": "ipython3",
      "version": "3.12.3"
    },
    "colab": {
      "provenance": []
    }
  },
  "nbformat": 4,
  "nbformat_minor": 0
}