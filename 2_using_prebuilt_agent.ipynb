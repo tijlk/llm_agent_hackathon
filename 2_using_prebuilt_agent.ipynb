{
  "nbformat": 4,
  "nbformat_minor": 0,
  "metadata": {
    "colab": {
      "provenance": [],
      "toc_visible": true
    },
    "kernelspec": {
      "name": "python3",
      "display_name": "Python 3"
    },
    "language_info": {
      "name": "python"
    }
  },
  "cells": [
    {
      "cell_type": "markdown",
      "source": [
        "# LangGraph Tutorial: Building Agents with LangChain's Agent Framework\n",
        "\n",
        "*Sourced and adapted from [getzep.com](https://www.getzep.com/ai-agents/langgraph-tutorial)*\n",
        "\n",
        "----\n",
        "\n",
        "The idea behind the agent in LangChain is to use an LLM and a sequence of actions; the agent then uses a reasoning engine to decide which action to take. LangChain was useful for simple agents with straightforward chains and retrieval flows, but building more complex agentic systems was overly complicated—memory management, persistence, and human-in-the-loop components were implemented manually, rendering chains and agents less flexible.\n",
        "\n",
        "This is where [LangGraph](https://www.langchain.com/langgraph) comes into play. LangGraph is an orchestration framework built by [LangChain](https://www.langchain.com/). LangGraph allows you to develop agentic LLM applications using a graph structure, which can be used with or without LangChain.\n",
        "\n",
        "This article focuses on building agents with LangGraph rather than LangChain. It provides a tutorial for building LangGraph agents, beginning with a discussion of LangGraph and its components. These concepts are reinforced by building a LangGraph agent from scratch and managing conversation memory with LangGraph agents."
      ],
      "metadata": {
        "id": "9YZfwV9NU4wa"
      }
    },
    {
      "cell_type": "markdown",
      "source": [
        "# Summary of key LangGraph tutorial concepts\n",
        "The following are the main concepts covered in this article.\n",
        "\n",
        "### What is LangGraph?\n",
        "\n",
        "LangGraph is an AI agent framework that implements agent interactions as stateful graphs. Nodes represent functions or computational steps that are connected via edges. LangGraph maintains an agent state shared among all the nodes and edges.\n",
        "Unlike LangChain, LangGraph supports the implementation of more complex agentic workflows. Key features include built-in persistence, support for human intervention, and the ability to handle complex workflows with cycles and branches.\n",
        "\n",
        "### Building a LangGraph agent\n",
        "\n",
        "Creating a LangGraph agent is the best way to understand the core concepts of nodes, edges, and state. The LangGraph Python libraries are modular and provide the functionality to build a stateful graph by incrementally adding nodes and edges.\n",
        "Incorporating tools enables an agent to perform specific tasks and access external information. For example, the ArXiv tool wrapper can return content from research papers.\n",
        "LangGraph offers a prebuilt reason and act (ReACT) agent that can help you get started.\n",
        "\n",
        "### Memory management in LangGraph\n",
        "\n",
        "A LangGraph agent is stateless by default, meaning that it does not remember previous conversations, which limits its ability to have meaningful exchanges. To address this, LangGraph supports both short-term and long-term memory. Memory support in LangGraph can be extended further with Zep Memory.\n",
        "\n",
        "### Guidelines for building LangGraph agents\n",
        "\n",
        "LangGraph overcomes LangChain's limitations and is the recommended framework for building agentic architectures. You can integrate tools into your AI agents to provide functionality or fetch information that an LLM agent does not provide. Memory is integral to building production-ready AI agents, and third-party SDKs like Zep simplify adding long-term capabilities."
      ],
      "metadata": {
        "id": "ry2WhtXRVGg4"
      }
    },
    {
      "cell_type": "markdown",
      "source": [
        "# What is LangGraph?\n",
        "\n",
        "LangGraph is an AI agent framework built on LangChain that allows developers to create more sophisticated and flexible agent workflows. Unlike traditional LangChain chains and agents, LangGraph implements agent interactions as cyclic graphs with multiple-step processing involving branching and loops. This eliminates the need to implement custom logic to control the flow of information between multiple agents in the workflow."
      ],
      "metadata": {
        "id": "h5XiFX5fVYQW"
      }
    },
    {
      "cell_type": "markdown",
      "source": [
        "## How LangGraph works\n",
        "\n",
        "As the name suggests, LangGraph is a graph workflow consisting of nodes and edges. The nodes implement functionality within the workflow while the edges control its direction.\n",
        "\n",
        "The following diagram best explains how LangGraph works at a high level.\n",
        "\n",
        "![langgraph](https://cdn.prod.website-files.com/6720fd49425e367c9ec40a97/675093ca4dd7b153dc7a046c_AD_4nXdFYTcoraafSzSgyhYjonQwD1-a1HT7nIwEm1GI7DB6eIknpIiJxpuGW0HZk0INnmTjSZDK4MLTPqj-nfR9XC_d1RLvWVTLZqwPluaIJ9zuEyJew2JaWf1Lxbw6h0HiXPipU5Gp.png)\n",
        "*A high-level overview of a LangGraph agent and its components*\n",
        "\n",
        "A LangGraph agent receives input, which can be a user input or input from another LangGraph agent. Typically, an LLM agent processes the input and decides whether it needs to call one or more tools, but it can directly generate a response and proceed to the next stage in the graph.\n",
        "\n",
        "If the agent decides to call one or more tools, the tool processes the agent output and returns the response to the agent. The agent then generates its response based on the tool output. Once an agent finalizes its response, you can further add an optional “human-in-the-loop” step to refine the agent response before returning the final output.\n",
        "\n",
        "This is just one example of how LangGraph agents work at a high level. You can create different combinations of nodes and edges to achieve your desired functionality."
      ],
      "metadata": {
        "id": "-JsXeKgSVa_o"
      }
    },
    {
      "cell_type": "markdown",
      "source": [
        "## Persistence\n",
        "One key LangGraph feature that distinguishes it from traditional LangChain agents is its built-in persistence mechanism. LangGraph introduces the concept of an agent state shared among all the nodes and edges in a workflow. This allows automatic error recovery, enabling the workflow to resume where it left off.\n",
        "\n",
        "In addition to the agent state memory, LangGraph supports persisting conversation histories using short-term and long-term memories, which are covered in detail later in the article."
      ],
      "metadata": {
        "id": "NbF-EUL9orVv"
      }
    },
    {
      "cell_type": "markdown",
      "source": [
        "## Cycles\n",
        "LangGraph introduces cycling graphs, allowing agents to communicate with tools in a cyclic manner. For example, an agent may call a tool, retrieve information from the tool, and then call the same or another tool to retrieve follow-up information. Similarly, tools may call each other multiple times to share and refine information before passing it back to an agent. This differentiates it from DAG-based solutions."
      ],
      "metadata": {
        "id": "rKg30-gKozKv"
      }
    },
    {
      "cell_type": "markdown",
      "source": [
        "## Human-in-the-loop capability\n",
        "LangGraph supports human intervention in agent workflows, which interrupts graph execution at specific points, allowing humans to review, approve, or edit the agent’s proposed response. The workflow resumes after receiving human input.\n",
        "\n",
        "This feature fosters greater control and oversight in critical decision-making processes in an agent’s workflow."
      ],
      "metadata": {
        "id": "dchW_t2So1f-"
      }
    },
    {
      "cell_type": "markdown",
      "source": [
        "## LangGraph agents vs. LangChain agents\n",
        "\n",
        "Before LangGraph, LangChain chains and agents were the go-to techniques for creating agentic LLM applications. The following table briefly compares LangGraph agents with traditional LangChain chains and agents.\n",
        "\n",
        "| Feature\t| LangGraph agents\t| LangChain agents |\n",
        "|-----|----|----|\n",
        "| Structure\t| Graph-based\t| Linear or tree-like with custom implementation |\n",
        "| Persistence\t| Built-in\t| Manual implementation required |\n",
        "| State management\t| Automated\t| Manual implementation required |\n",
        "| Human intervention\t| Native support\t| Manual implementation required |\n",
        "| Cycles\t| Supported\t| No direct support |\n",
        "| Flexibility\t| Highly flexible, with loops and branches\t| Limited compared to LangGraph |\n",
        "| Complexity\t| Can handle complex workflows\t| Better for simpler tasks |\n",
        "\n",
        "To summarize, LangGraph supports implementing more complex agentic workflows while allowing higher flexibility than traditional LangChain chains and agents."
      ],
      "metadata": {
        "id": "cnusKS6Do5Em"
      }
    },
    {
      "cell_type": "markdown",
      "source": [
        "## Understanding nodes, edges, and state\n",
        "If you are new to LangGraph, you must understand a few terms before creating an agent: nodes, edges, and state.\n",
        "\n",
        "![nodes, edges, state](https://cdn.prod.website-files.com/6720fd49425e367c9ec40a97/675094d67463792c26563f5c_AD_4nXeKdfsPke3Cds_gTPJYQsU9XRkGNuJYok56w-XVcL3MYFV_VZUxfyHmj4qdFT34tmYxGaRYy8CL2ofVe4WbfuW4VSiU88dNvwFI6Q-mNwk6EQEv4USHbL-I1XvknylUXKSMo9H_RQ.png)\n",
        "*A simple graph in LangGraph showing nodes, edges, and states ([source](https://medium.com/@kbdhunga/beginners-guide-to-langgraph-understanding-state-nodes-and-edges-part-1-897e6114fa48))*"
      ],
      "metadata": {
        "id": "ga1fmht0pXmo"
      }
    },
    {
      "cell_type": "markdown",
      "source": [
        "### Nodes\n",
        "\n",
        "Nodes are the building blocks of your agents and represent a discrete computation unit within your agent’s workflow. A node can be as simple as a small Python function or as complex as an independent agent that calls external tools.\n",
        "\n"
      ],
      "metadata": {
        "id": "99F2lVeEpiHg"
      }
    },
    {
      "cell_type": "markdown",
      "source": [
        "### Edges\n",
        "\n",
        "Edges connect nodes and define how your agent progresses from one step to the next. Edges can be of two types: direct and conditional. A direct edge simply connects two nodes without any condition, whereas a conditional node is similar to an if-else statement and connects two nodes based on a condition."
      ],
      "metadata": {
        "id": "qKHU9eAFplvp"
      }
    },
    {
      "cell_type": "markdown",
      "source": [
        "### State\n",
        "\n",
        "A state is LangGraph’s most underrated yet most essential component. It contains all the data and context available to different entities, such as nodes and edges. Simply put, the state shares data and context among all nodes and edges in a graph.\n",
        "\n",
        "‍\n"
      ],
      "metadata": {
        "id": "Pzgq5xS5pl0K"
      }
    },
    {
      "cell_type": "markdown",
      "source": [
        "# Building a LangGraph agent\n",
        "\n",
        "Enough with the theory—in this section, you will see all the building blocks of LangGraph agents in action. You will learn how to:\n",
        "\n",
        "* Create a LangGraph agent from scratch\n",
        "* Incorporate tools into LangGraph agents\n",
        "* Stream agent responses\n",
        "* Use built-in agents"
      ],
      "metadata": {
        "id": "bFrHEobkJA9y"
      }
    },
    {
      "cell_type": "markdown",
      "source": [
        "## Installing and importing required libraries\n",
        "This article uses the Python version of LangGraph for examples. To run scripts in this section and the upcoming sections, you need to install the following Python libraries, which allow you to access the various LangGraph functions and tools you will incorporate into your agents."
      ],
      "metadata": {
        "id": "kyJ6rFBcJIbV"
      }
    },
    {
      "cell_type": "code",
      "source": [
        "!pip install langchain-core\n",
        "!pip install -U langgraph\n",
        "!pip install langchain-community\n",
        "!pip install --upgrade --quiet wikipedia\n",
        "!pip install arxiv\n",
        "!pip install langchain-google-genai"
      ],
      "metadata": {
        "colab": {
          "base_uri": "https://localhost:8080/"
        },
        "id": "XtEQb_xHJLaK",
        "outputId": "c6d26f8a-ae62-4570-9991-92110a1351df"
      },
      "execution_count": 1,
      "outputs": [
        {
          "output_type": "stream",
          "name": "stdout",
          "text": [
            "Requirement already satisfied: langchain-core in /usr/local/lib/python3.11/dist-packages (0.3.45)\n",
            "Requirement already satisfied: langsmith<0.4,>=0.1.125 in /usr/local/lib/python3.11/dist-packages (from langchain-core) (0.3.15)\n",
            "Requirement already satisfied: tenacity!=8.4.0,<10.0.0,>=8.1.0 in /usr/local/lib/python3.11/dist-packages (from langchain-core) (9.0.0)\n",
            "Requirement already satisfied: jsonpatch<2.0,>=1.33 in /usr/local/lib/python3.11/dist-packages (from langchain-core) (1.33)\n",
            "Requirement already satisfied: PyYAML>=5.3 in /usr/local/lib/python3.11/dist-packages (from langchain-core) (6.0.2)\n",
            "Requirement already satisfied: packaging<25,>=23.2 in /usr/local/lib/python3.11/dist-packages (from langchain-core) (24.2)\n",
            "Requirement already satisfied: typing-extensions>=4.7 in /usr/local/lib/python3.11/dist-packages (from langchain-core) (4.12.2)\n",
            "Requirement already satisfied: pydantic<3.0.0,>=2.5.2 in /usr/local/lib/python3.11/dist-packages (from langchain-core) (2.10.6)\n",
            "Requirement already satisfied: jsonpointer>=1.9 in /usr/local/lib/python3.11/dist-packages (from jsonpatch<2.0,>=1.33->langchain-core) (3.0.0)\n",
            "Requirement already satisfied: httpx<1,>=0.23.0 in /usr/local/lib/python3.11/dist-packages (from langsmith<0.4,>=0.1.125->langchain-core) (0.28.1)\n",
            "Requirement already satisfied: orjson<4.0.0,>=3.9.14 in /usr/local/lib/python3.11/dist-packages (from langsmith<0.4,>=0.1.125->langchain-core) (3.10.15)\n",
            "Requirement already satisfied: requests<3,>=2 in /usr/local/lib/python3.11/dist-packages (from langsmith<0.4,>=0.1.125->langchain-core) (2.32.3)\n",
            "Requirement already satisfied: requests-toolbelt<2.0.0,>=1.0.0 in /usr/local/lib/python3.11/dist-packages (from langsmith<0.4,>=0.1.125->langchain-core) (1.0.0)\n",
            "Requirement already satisfied: zstandard<0.24.0,>=0.23.0 in /usr/local/lib/python3.11/dist-packages (from langsmith<0.4,>=0.1.125->langchain-core) (0.23.0)\n",
            "Requirement already satisfied: annotated-types>=0.6.0 in /usr/local/lib/python3.11/dist-packages (from pydantic<3.0.0,>=2.5.2->langchain-core) (0.7.0)\n",
            "Requirement already satisfied: pydantic-core==2.27.2 in /usr/local/lib/python3.11/dist-packages (from pydantic<3.0.0,>=2.5.2->langchain-core) (2.27.2)\n",
            "Requirement already satisfied: anyio in /usr/local/lib/python3.11/dist-packages (from httpx<1,>=0.23.0->langsmith<0.4,>=0.1.125->langchain-core) (4.9.0)\n",
            "Requirement already satisfied: certifi in /usr/local/lib/python3.11/dist-packages (from httpx<1,>=0.23.0->langsmith<0.4,>=0.1.125->langchain-core) (2025.1.31)\n",
            "Requirement already satisfied: httpcore==1.* in /usr/local/lib/python3.11/dist-packages (from httpx<1,>=0.23.0->langsmith<0.4,>=0.1.125->langchain-core) (1.0.7)\n",
            "Requirement already satisfied: idna in /usr/local/lib/python3.11/dist-packages (from httpx<1,>=0.23.0->langsmith<0.4,>=0.1.125->langchain-core) (3.10)\n",
            "Requirement already satisfied: h11<0.15,>=0.13 in /usr/local/lib/python3.11/dist-packages (from httpcore==1.*->httpx<1,>=0.23.0->langsmith<0.4,>=0.1.125->langchain-core) (0.14.0)\n",
            "Requirement already satisfied: charset-normalizer<4,>=2 in /usr/local/lib/python3.11/dist-packages (from requests<3,>=2->langsmith<0.4,>=0.1.125->langchain-core) (3.4.1)\n",
            "Requirement already satisfied: urllib3<3,>=1.21.1 in /usr/local/lib/python3.11/dist-packages (from requests<3,>=2->langsmith<0.4,>=0.1.125->langchain-core) (2.3.0)\n",
            "Requirement already satisfied: sniffio>=1.1 in /usr/local/lib/python3.11/dist-packages (from anyio->httpx<1,>=0.23.0->langsmith<0.4,>=0.1.125->langchain-core) (1.3.1)\n",
            "Requirement already satisfied: langgraph in /usr/local/lib/python3.11/dist-packages (0.3.18)\n",
            "Requirement already satisfied: langchain-core<0.4,>=0.1 in /usr/local/lib/python3.11/dist-packages (from langgraph) (0.3.45)\n",
            "Requirement already satisfied: langgraph-checkpoint<3.0.0,>=2.0.10 in /usr/local/lib/python3.11/dist-packages (from langgraph) (2.0.21)\n",
            "Requirement already satisfied: langgraph-prebuilt<0.2,>=0.1.1 in /usr/local/lib/python3.11/dist-packages (from langgraph) (0.1.3)\n",
            "Requirement already satisfied: langgraph-sdk<0.2.0,>=0.1.42 in /usr/local/lib/python3.11/dist-packages (from langgraph) (0.1.58)\n",
            "Requirement already satisfied: langsmith<0.4,>=0.1.125 in /usr/local/lib/python3.11/dist-packages (from langchain-core<0.4,>=0.1->langgraph) (0.3.15)\n",
            "Requirement already satisfied: tenacity!=8.4.0,<10.0.0,>=8.1.0 in /usr/local/lib/python3.11/dist-packages (from langchain-core<0.4,>=0.1->langgraph) (9.0.0)\n",
            "Requirement already satisfied: jsonpatch<2.0,>=1.33 in /usr/local/lib/python3.11/dist-packages (from langchain-core<0.4,>=0.1->langgraph) (1.33)\n",
            "Requirement already satisfied: PyYAML>=5.3 in /usr/local/lib/python3.11/dist-packages (from langchain-core<0.4,>=0.1->langgraph) (6.0.2)\n",
            "Requirement already satisfied: packaging<25,>=23.2 in /usr/local/lib/python3.11/dist-packages (from langchain-core<0.4,>=0.1->langgraph) (24.2)\n",
            "Requirement already satisfied: typing-extensions>=4.7 in /usr/local/lib/python3.11/dist-packages (from langchain-core<0.4,>=0.1->langgraph) (4.12.2)\n",
            "Requirement already satisfied: pydantic<3.0.0,>=2.5.2 in /usr/local/lib/python3.11/dist-packages (from langchain-core<0.4,>=0.1->langgraph) (2.10.6)\n",
            "Requirement already satisfied: msgpack<2.0.0,>=1.1.0 in /usr/local/lib/python3.11/dist-packages (from langgraph-checkpoint<3.0.0,>=2.0.10->langgraph) (1.1.0)\n",
            "Requirement already satisfied: httpx>=0.25.2 in /usr/local/lib/python3.11/dist-packages (from langgraph-sdk<0.2.0,>=0.1.42->langgraph) (0.28.1)\n",
            "Requirement already satisfied: orjson>=3.10.1 in /usr/local/lib/python3.11/dist-packages (from langgraph-sdk<0.2.0,>=0.1.42->langgraph) (3.10.15)\n",
            "Requirement already satisfied: anyio in /usr/local/lib/python3.11/dist-packages (from httpx>=0.25.2->langgraph-sdk<0.2.0,>=0.1.42->langgraph) (4.9.0)\n",
            "Requirement already satisfied: certifi in /usr/local/lib/python3.11/dist-packages (from httpx>=0.25.2->langgraph-sdk<0.2.0,>=0.1.42->langgraph) (2025.1.31)\n",
            "Requirement already satisfied: httpcore==1.* in /usr/local/lib/python3.11/dist-packages (from httpx>=0.25.2->langgraph-sdk<0.2.0,>=0.1.42->langgraph) (1.0.7)\n",
            "Requirement already satisfied: idna in /usr/local/lib/python3.11/dist-packages (from httpx>=0.25.2->langgraph-sdk<0.2.0,>=0.1.42->langgraph) (3.10)\n",
            "Requirement already satisfied: h11<0.15,>=0.13 in /usr/local/lib/python3.11/dist-packages (from httpcore==1.*->httpx>=0.25.2->langgraph-sdk<0.2.0,>=0.1.42->langgraph) (0.14.0)\n",
            "Requirement already satisfied: jsonpointer>=1.9 in /usr/local/lib/python3.11/dist-packages (from jsonpatch<2.0,>=1.33->langchain-core<0.4,>=0.1->langgraph) (3.0.0)\n",
            "Requirement already satisfied: requests<3,>=2 in /usr/local/lib/python3.11/dist-packages (from langsmith<0.4,>=0.1.125->langchain-core<0.4,>=0.1->langgraph) (2.32.3)\n",
            "Requirement already satisfied: requests-toolbelt<2.0.0,>=1.0.0 in /usr/local/lib/python3.11/dist-packages (from langsmith<0.4,>=0.1.125->langchain-core<0.4,>=0.1->langgraph) (1.0.0)\n",
            "Requirement already satisfied: zstandard<0.24.0,>=0.23.0 in /usr/local/lib/python3.11/dist-packages (from langsmith<0.4,>=0.1.125->langchain-core<0.4,>=0.1->langgraph) (0.23.0)\n",
            "Requirement already satisfied: annotated-types>=0.6.0 in /usr/local/lib/python3.11/dist-packages (from pydantic<3.0.0,>=2.5.2->langchain-core<0.4,>=0.1->langgraph) (0.7.0)\n",
            "Requirement already satisfied: pydantic-core==2.27.2 in /usr/local/lib/python3.11/dist-packages (from pydantic<3.0.0,>=2.5.2->langchain-core<0.4,>=0.1->langgraph) (2.27.2)\n",
            "Requirement already satisfied: charset-normalizer<4,>=2 in /usr/local/lib/python3.11/dist-packages (from requests<3,>=2->langsmith<0.4,>=0.1.125->langchain-core<0.4,>=0.1->langgraph) (3.4.1)\n",
            "Requirement already satisfied: urllib3<3,>=1.21.1 in /usr/local/lib/python3.11/dist-packages (from requests<3,>=2->langsmith<0.4,>=0.1.125->langchain-core<0.4,>=0.1->langgraph) (2.3.0)\n",
            "Requirement already satisfied: sniffio>=1.1 in /usr/local/lib/python3.11/dist-packages (from anyio->httpx>=0.25.2->langgraph-sdk<0.2.0,>=0.1.42->langgraph) (1.3.1)\n",
            "Requirement already satisfied: langchain-community in /usr/local/lib/python3.11/dist-packages (0.3.20)\n",
            "Requirement already satisfied: langchain-core<1.0.0,>=0.3.45 in /usr/local/lib/python3.11/dist-packages (from langchain-community) (0.3.45)\n",
            "Requirement already satisfied: langchain<1.0.0,>=0.3.21 in /usr/local/lib/python3.11/dist-packages (from langchain-community) (0.3.21)\n",
            "Requirement already satisfied: SQLAlchemy<3,>=1.4 in /usr/local/lib/python3.11/dist-packages (from langchain-community) (2.0.39)\n",
            "Requirement already satisfied: requests<3,>=2 in /usr/local/lib/python3.11/dist-packages (from langchain-community) (2.32.3)\n",
            "Requirement already satisfied: PyYAML>=5.3 in /usr/local/lib/python3.11/dist-packages (from langchain-community) (6.0.2)\n",
            "Requirement already satisfied: aiohttp<4.0.0,>=3.8.3 in /usr/local/lib/python3.11/dist-packages (from langchain-community) (3.11.14)\n",
            "Requirement already satisfied: tenacity!=8.4.0,<10,>=8.1.0 in /usr/local/lib/python3.11/dist-packages (from langchain-community) (9.0.0)\n",
            "Requirement already satisfied: dataclasses-json<0.7,>=0.5.7 in /usr/local/lib/python3.11/dist-packages (from langchain-community) (0.6.7)\n",
            "Requirement already satisfied: pydantic-settings<3.0.0,>=2.4.0 in /usr/local/lib/python3.11/dist-packages (from langchain-community) (2.8.1)\n",
            "Requirement already satisfied: langsmith<0.4,>=0.1.125 in /usr/local/lib/python3.11/dist-packages (from langchain-community) (0.3.15)\n",
            "Requirement already satisfied: httpx-sse<1.0.0,>=0.4.0 in /usr/local/lib/python3.11/dist-packages (from langchain-community) (0.4.0)\n",
            "Requirement already satisfied: numpy<3,>=1.26.2 in /usr/local/lib/python3.11/dist-packages (from langchain-community) (2.0.2)\n",
            "Requirement already satisfied: aiohappyeyeballs>=2.3.0 in /usr/local/lib/python3.11/dist-packages (from aiohttp<4.0.0,>=3.8.3->langchain-community) (2.6.1)\n",
            "Requirement already satisfied: aiosignal>=1.1.2 in /usr/local/lib/python3.11/dist-packages (from aiohttp<4.0.0,>=3.8.3->langchain-community) (1.3.2)\n",
            "Requirement already satisfied: attrs>=17.3.0 in /usr/local/lib/python3.11/dist-packages (from aiohttp<4.0.0,>=3.8.3->langchain-community) (25.3.0)\n",
            "Requirement already satisfied: frozenlist>=1.1.1 in /usr/local/lib/python3.11/dist-packages (from aiohttp<4.0.0,>=3.8.3->langchain-community) (1.5.0)\n",
            "Requirement already satisfied: multidict<7.0,>=4.5 in /usr/local/lib/python3.11/dist-packages (from aiohttp<4.0.0,>=3.8.3->langchain-community) (6.2.0)\n",
            "Requirement already satisfied: propcache>=0.2.0 in /usr/local/lib/python3.11/dist-packages (from aiohttp<4.0.0,>=3.8.3->langchain-community) (0.3.0)\n",
            "Requirement already satisfied: yarl<2.0,>=1.17.0 in /usr/local/lib/python3.11/dist-packages (from aiohttp<4.0.0,>=3.8.3->langchain-community) (1.18.3)\n",
            "Requirement already satisfied: marshmallow<4.0.0,>=3.18.0 in /usr/local/lib/python3.11/dist-packages (from dataclasses-json<0.7,>=0.5.7->langchain-community) (3.26.1)\n",
            "Requirement already satisfied: typing-inspect<1,>=0.4.0 in /usr/local/lib/python3.11/dist-packages (from dataclasses-json<0.7,>=0.5.7->langchain-community) (0.9.0)\n",
            "Requirement already satisfied: langchain-text-splitters<1.0.0,>=0.3.7 in /usr/local/lib/python3.11/dist-packages (from langchain<1.0.0,>=0.3.21->langchain-community) (0.3.7)\n",
            "Requirement already satisfied: pydantic<3.0.0,>=2.7.4 in /usr/local/lib/python3.11/dist-packages (from langchain<1.0.0,>=0.3.21->langchain-community) (2.10.6)\n",
            "Requirement already satisfied: jsonpatch<2.0,>=1.33 in /usr/local/lib/python3.11/dist-packages (from langchain-core<1.0.0,>=0.3.45->langchain-community) (1.33)\n",
            "Requirement already satisfied: packaging<25,>=23.2 in /usr/local/lib/python3.11/dist-packages (from langchain-core<1.0.0,>=0.3.45->langchain-community) (24.2)\n",
            "Requirement already satisfied: typing-extensions>=4.7 in /usr/local/lib/python3.11/dist-packages (from langchain-core<1.0.0,>=0.3.45->langchain-community) (4.12.2)\n",
            "Requirement already satisfied: httpx<1,>=0.23.0 in /usr/local/lib/python3.11/dist-packages (from langsmith<0.4,>=0.1.125->langchain-community) (0.28.1)\n",
            "Requirement already satisfied: orjson<4.0.0,>=3.9.14 in /usr/local/lib/python3.11/dist-packages (from langsmith<0.4,>=0.1.125->langchain-community) (3.10.15)\n",
            "Requirement already satisfied: requests-toolbelt<2.0.0,>=1.0.0 in /usr/local/lib/python3.11/dist-packages (from langsmith<0.4,>=0.1.125->langchain-community) (1.0.0)\n",
            "Requirement already satisfied: zstandard<0.24.0,>=0.23.0 in /usr/local/lib/python3.11/dist-packages (from langsmith<0.4,>=0.1.125->langchain-community) (0.23.0)\n",
            "Requirement already satisfied: python-dotenv>=0.21.0 in /usr/local/lib/python3.11/dist-packages (from pydantic-settings<3.0.0,>=2.4.0->langchain-community) (1.0.1)\n",
            "Requirement already satisfied: charset-normalizer<4,>=2 in /usr/local/lib/python3.11/dist-packages (from requests<3,>=2->langchain-community) (3.4.1)\n",
            "Requirement already satisfied: idna<4,>=2.5 in /usr/local/lib/python3.11/dist-packages (from requests<3,>=2->langchain-community) (3.10)\n",
            "Requirement already satisfied: urllib3<3,>=1.21.1 in /usr/local/lib/python3.11/dist-packages (from requests<3,>=2->langchain-community) (2.3.0)\n",
            "Requirement already satisfied: certifi>=2017.4.17 in /usr/local/lib/python3.11/dist-packages (from requests<3,>=2->langchain-community) (2025.1.31)\n",
            "Requirement already satisfied: greenlet!=0.4.17 in /usr/local/lib/python3.11/dist-packages (from SQLAlchemy<3,>=1.4->langchain-community) (3.1.1)\n",
            "Requirement already satisfied: anyio in /usr/local/lib/python3.11/dist-packages (from httpx<1,>=0.23.0->langsmith<0.4,>=0.1.125->langchain-community) (4.9.0)\n",
            "Requirement already satisfied: httpcore==1.* in /usr/local/lib/python3.11/dist-packages (from httpx<1,>=0.23.0->langsmith<0.4,>=0.1.125->langchain-community) (1.0.7)\n",
            "Requirement already satisfied: h11<0.15,>=0.13 in /usr/local/lib/python3.11/dist-packages (from httpcore==1.*->httpx<1,>=0.23.0->langsmith<0.4,>=0.1.125->langchain-community) (0.14.0)\n",
            "Requirement already satisfied: jsonpointer>=1.9 in /usr/local/lib/python3.11/dist-packages (from jsonpatch<2.0,>=1.33->langchain-core<1.0.0,>=0.3.45->langchain-community) (3.0.0)\n",
            "Requirement already satisfied: annotated-types>=0.6.0 in /usr/local/lib/python3.11/dist-packages (from pydantic<3.0.0,>=2.7.4->langchain<1.0.0,>=0.3.21->langchain-community) (0.7.0)\n",
            "Requirement already satisfied: pydantic-core==2.27.2 in /usr/local/lib/python3.11/dist-packages (from pydantic<3.0.0,>=2.7.4->langchain<1.0.0,>=0.3.21->langchain-community) (2.27.2)\n",
            "Requirement already satisfied: mypy-extensions>=0.3.0 in /usr/local/lib/python3.11/dist-packages (from typing-inspect<1,>=0.4.0->dataclasses-json<0.7,>=0.5.7->langchain-community) (1.0.0)\n",
            "Requirement already satisfied: sniffio>=1.1 in /usr/local/lib/python3.11/dist-packages (from anyio->httpx<1,>=0.23.0->langsmith<0.4,>=0.1.125->langchain-community) (1.3.1)\n",
            "Requirement already satisfied: arxiv in /usr/local/lib/python3.11/dist-packages (2.1.3)\n",
            "Requirement already satisfied: feedparser~=6.0.10 in /usr/local/lib/python3.11/dist-packages (from arxiv) (6.0.11)\n",
            "Requirement already satisfied: requests~=2.32.0 in /usr/local/lib/python3.11/dist-packages (from arxiv) (2.32.3)\n",
            "Requirement already satisfied: sgmllib3k in /usr/local/lib/python3.11/dist-packages (from feedparser~=6.0.10->arxiv) (1.0.0)\n",
            "Requirement already satisfied: charset-normalizer<4,>=2 in /usr/local/lib/python3.11/dist-packages (from requests~=2.32.0->arxiv) (3.4.1)\n",
            "Requirement already satisfied: idna<4,>=2.5 in /usr/local/lib/python3.11/dist-packages (from requests~=2.32.0->arxiv) (3.10)\n",
            "Requirement already satisfied: urllib3<3,>=1.21.1 in /usr/local/lib/python3.11/dist-packages (from requests~=2.32.0->arxiv) (2.3.0)\n",
            "Requirement already satisfied: certifi>=2017.4.17 in /usr/local/lib/python3.11/dist-packages (from requests~=2.32.0->arxiv) (2025.1.31)\n",
            "Requirement already satisfied: langchain-google-genai in /usr/local/lib/python3.11/dist-packages (2.1.0)\n",
            "Requirement already satisfied: filetype<2.0.0,>=1.2.0 in /usr/local/lib/python3.11/dist-packages (from langchain-google-genai) (1.2.0)\n",
            "Requirement already satisfied: google-ai-generativelanguage<0.7.0,>=0.6.16 in /usr/local/lib/python3.11/dist-packages (from langchain-google-genai) (0.6.17)\n",
            "Requirement already satisfied: langchain-core<0.4.0,>=0.3.43 in /usr/local/lib/python3.11/dist-packages (from langchain-google-genai) (0.3.45)\n",
            "Requirement already satisfied: pydantic<3,>=2 in /usr/local/lib/python3.11/dist-packages (from langchain-google-genai) (2.10.6)\n",
            "Requirement already satisfied: google-api-core!=2.0.*,!=2.1.*,!=2.10.*,!=2.2.*,!=2.3.*,!=2.4.*,!=2.5.*,!=2.6.*,!=2.7.*,!=2.8.*,!=2.9.*,<3.0.0,>=1.34.1 in /usr/local/lib/python3.11/dist-packages (from google-api-core[grpc]!=2.0.*,!=2.1.*,!=2.10.*,!=2.2.*,!=2.3.*,!=2.4.*,!=2.5.*,!=2.6.*,!=2.7.*,!=2.8.*,!=2.9.*,<3.0.0,>=1.34.1->google-ai-generativelanguage<0.7.0,>=0.6.16->langchain-google-genai) (2.24.2)\n",
            "Requirement already satisfied: google-auth!=2.24.0,!=2.25.0,<3.0.0,>=2.14.1 in /usr/local/lib/python3.11/dist-packages (from google-ai-generativelanguage<0.7.0,>=0.6.16->langchain-google-genai) (2.38.0)\n",
            "Requirement already satisfied: proto-plus<2.0.0,>=1.22.3 in /usr/local/lib/python3.11/dist-packages (from google-ai-generativelanguage<0.7.0,>=0.6.16->langchain-google-genai) (1.26.1)\n",
            "Requirement already satisfied: protobuf!=4.21.0,!=4.21.1,!=4.21.2,!=4.21.3,!=4.21.4,!=4.21.5,<7.0.0,>=3.20.2 in /usr/local/lib/python3.11/dist-packages (from google-ai-generativelanguage<0.7.0,>=0.6.16->langchain-google-genai) (5.29.3)\n",
            "Requirement already satisfied: langsmith<0.4,>=0.1.125 in /usr/local/lib/python3.11/dist-packages (from langchain-core<0.4.0,>=0.3.43->langchain-google-genai) (0.3.15)\n",
            "Requirement already satisfied: tenacity!=8.4.0,<10.0.0,>=8.1.0 in /usr/local/lib/python3.11/dist-packages (from langchain-core<0.4.0,>=0.3.43->langchain-google-genai) (9.0.0)\n",
            "Requirement already satisfied: jsonpatch<2.0,>=1.33 in /usr/local/lib/python3.11/dist-packages (from langchain-core<0.4.0,>=0.3.43->langchain-google-genai) (1.33)\n",
            "Requirement already satisfied: PyYAML>=5.3 in /usr/local/lib/python3.11/dist-packages (from langchain-core<0.4.0,>=0.3.43->langchain-google-genai) (6.0.2)\n",
            "Requirement already satisfied: packaging<25,>=23.2 in /usr/local/lib/python3.11/dist-packages (from langchain-core<0.4.0,>=0.3.43->langchain-google-genai) (24.2)\n",
            "Requirement already satisfied: typing-extensions>=4.7 in /usr/local/lib/python3.11/dist-packages (from langchain-core<0.4.0,>=0.3.43->langchain-google-genai) (4.12.2)\n",
            "Requirement already satisfied: annotated-types>=0.6.0 in /usr/local/lib/python3.11/dist-packages (from pydantic<3,>=2->langchain-google-genai) (0.7.0)\n",
            "Requirement already satisfied: pydantic-core==2.27.2 in /usr/local/lib/python3.11/dist-packages (from pydantic<3,>=2->langchain-google-genai) (2.27.2)\n",
            "Requirement already satisfied: googleapis-common-protos<2.0.0,>=1.56.2 in /usr/local/lib/python3.11/dist-packages (from google-api-core!=2.0.*,!=2.1.*,!=2.10.*,!=2.2.*,!=2.3.*,!=2.4.*,!=2.5.*,!=2.6.*,!=2.7.*,!=2.8.*,!=2.9.*,<3.0.0,>=1.34.1->google-api-core[grpc]!=2.0.*,!=2.1.*,!=2.10.*,!=2.2.*,!=2.3.*,!=2.4.*,!=2.5.*,!=2.6.*,!=2.7.*,!=2.8.*,!=2.9.*,<3.0.0,>=1.34.1->google-ai-generativelanguage<0.7.0,>=0.6.16->langchain-google-genai) (1.69.2)\n",
            "Requirement already satisfied: requests<3.0.0,>=2.18.0 in /usr/local/lib/python3.11/dist-packages (from google-api-core!=2.0.*,!=2.1.*,!=2.10.*,!=2.2.*,!=2.3.*,!=2.4.*,!=2.5.*,!=2.6.*,!=2.7.*,!=2.8.*,!=2.9.*,<3.0.0,>=1.34.1->google-api-core[grpc]!=2.0.*,!=2.1.*,!=2.10.*,!=2.2.*,!=2.3.*,!=2.4.*,!=2.5.*,!=2.6.*,!=2.7.*,!=2.8.*,!=2.9.*,<3.0.0,>=1.34.1->google-ai-generativelanguage<0.7.0,>=0.6.16->langchain-google-genai) (2.32.3)\n",
            "Requirement already satisfied: grpcio<2.0dev,>=1.33.2 in /usr/local/lib/python3.11/dist-packages (from google-api-core[grpc]!=2.0.*,!=2.1.*,!=2.10.*,!=2.2.*,!=2.3.*,!=2.4.*,!=2.5.*,!=2.6.*,!=2.7.*,!=2.8.*,!=2.9.*,<3.0.0,>=1.34.1->google-ai-generativelanguage<0.7.0,>=0.6.16->langchain-google-genai) (1.71.0)\n",
            "Requirement already satisfied: grpcio-status<2.0.dev0,>=1.33.2 in /usr/local/lib/python3.11/dist-packages (from google-api-core[grpc]!=2.0.*,!=2.1.*,!=2.10.*,!=2.2.*,!=2.3.*,!=2.4.*,!=2.5.*,!=2.6.*,!=2.7.*,!=2.8.*,!=2.9.*,<3.0.0,>=1.34.1->google-ai-generativelanguage<0.7.0,>=0.6.16->langchain-google-genai) (1.71.0)\n",
            "Requirement already satisfied: cachetools<6.0,>=2.0.0 in /usr/local/lib/python3.11/dist-packages (from google-auth!=2.24.0,!=2.25.0,<3.0.0,>=2.14.1->google-ai-generativelanguage<0.7.0,>=0.6.16->langchain-google-genai) (5.5.2)\n",
            "Requirement already satisfied: pyasn1-modules>=0.2.1 in /usr/local/lib/python3.11/dist-packages (from google-auth!=2.24.0,!=2.25.0,<3.0.0,>=2.14.1->google-ai-generativelanguage<0.7.0,>=0.6.16->langchain-google-genai) (0.4.1)\n",
            "Requirement already satisfied: rsa<5,>=3.1.4 in /usr/local/lib/python3.11/dist-packages (from google-auth!=2.24.0,!=2.25.0,<3.0.0,>=2.14.1->google-ai-generativelanguage<0.7.0,>=0.6.16->langchain-google-genai) (4.9)\n",
            "Requirement already satisfied: jsonpointer>=1.9 in /usr/local/lib/python3.11/dist-packages (from jsonpatch<2.0,>=1.33->langchain-core<0.4.0,>=0.3.43->langchain-google-genai) (3.0.0)\n",
            "Requirement already satisfied: httpx<1,>=0.23.0 in /usr/local/lib/python3.11/dist-packages (from langsmith<0.4,>=0.1.125->langchain-core<0.4.0,>=0.3.43->langchain-google-genai) (0.28.1)\n",
            "Requirement already satisfied: orjson<4.0.0,>=3.9.14 in /usr/local/lib/python3.11/dist-packages (from langsmith<0.4,>=0.1.125->langchain-core<0.4.0,>=0.3.43->langchain-google-genai) (3.10.15)\n",
            "Requirement already satisfied: requests-toolbelt<2.0.0,>=1.0.0 in /usr/local/lib/python3.11/dist-packages (from langsmith<0.4,>=0.1.125->langchain-core<0.4.0,>=0.3.43->langchain-google-genai) (1.0.0)\n",
            "Requirement already satisfied: zstandard<0.24.0,>=0.23.0 in /usr/local/lib/python3.11/dist-packages (from langsmith<0.4,>=0.1.125->langchain-core<0.4.0,>=0.3.43->langchain-google-genai) (0.23.0)\n",
            "Requirement already satisfied: anyio in /usr/local/lib/python3.11/dist-packages (from httpx<1,>=0.23.0->langsmith<0.4,>=0.1.125->langchain-core<0.4.0,>=0.3.43->langchain-google-genai) (4.9.0)\n",
            "Requirement already satisfied: certifi in /usr/local/lib/python3.11/dist-packages (from httpx<1,>=0.23.0->langsmith<0.4,>=0.1.125->langchain-core<0.4.0,>=0.3.43->langchain-google-genai) (2025.1.31)\n",
            "Requirement already satisfied: httpcore==1.* in /usr/local/lib/python3.11/dist-packages (from httpx<1,>=0.23.0->langsmith<0.4,>=0.1.125->langchain-core<0.4.0,>=0.3.43->langchain-google-genai) (1.0.7)\n",
            "Requirement already satisfied: idna in /usr/local/lib/python3.11/dist-packages (from httpx<1,>=0.23.0->langsmith<0.4,>=0.1.125->langchain-core<0.4.0,>=0.3.43->langchain-google-genai) (3.10)\n",
            "Requirement already satisfied: h11<0.15,>=0.13 in /usr/local/lib/python3.11/dist-packages (from httpcore==1.*->httpx<1,>=0.23.0->langsmith<0.4,>=0.1.125->langchain-core<0.4.0,>=0.3.43->langchain-google-genai) (0.14.0)\n",
            "Requirement already satisfied: pyasn1<0.7.0,>=0.4.6 in /usr/local/lib/python3.11/dist-packages (from pyasn1-modules>=0.2.1->google-auth!=2.24.0,!=2.25.0,<3.0.0,>=2.14.1->google-ai-generativelanguage<0.7.0,>=0.6.16->langchain-google-genai) (0.6.1)\n",
            "Requirement already satisfied: charset-normalizer<4,>=2 in /usr/local/lib/python3.11/dist-packages (from requests<3.0.0,>=2.18.0->google-api-core!=2.0.*,!=2.1.*,!=2.10.*,!=2.2.*,!=2.3.*,!=2.4.*,!=2.5.*,!=2.6.*,!=2.7.*,!=2.8.*,!=2.9.*,<3.0.0,>=1.34.1->google-api-core[grpc]!=2.0.*,!=2.1.*,!=2.10.*,!=2.2.*,!=2.3.*,!=2.4.*,!=2.5.*,!=2.6.*,!=2.7.*,!=2.8.*,!=2.9.*,<3.0.0,>=1.34.1->google-ai-generativelanguage<0.7.0,>=0.6.16->langchain-google-genai) (3.4.1)\n",
            "Requirement already satisfied: urllib3<3,>=1.21.1 in /usr/local/lib/python3.11/dist-packages (from requests<3.0.0,>=2.18.0->google-api-core!=2.0.*,!=2.1.*,!=2.10.*,!=2.2.*,!=2.3.*,!=2.4.*,!=2.5.*,!=2.6.*,!=2.7.*,!=2.8.*,!=2.9.*,<3.0.0,>=1.34.1->google-api-core[grpc]!=2.0.*,!=2.1.*,!=2.10.*,!=2.2.*,!=2.3.*,!=2.4.*,!=2.5.*,!=2.6.*,!=2.7.*,!=2.8.*,!=2.9.*,<3.0.0,>=1.34.1->google-ai-generativelanguage<0.7.0,>=0.6.16->langchain-google-genai) (2.3.0)\n",
            "Requirement already satisfied: sniffio>=1.1 in /usr/local/lib/python3.11/dist-packages (from anyio->httpx<1,>=0.23.0->langsmith<0.4,>=0.1.125->langchain-core<0.4.0,>=0.3.43->langchain-google-genai) (1.3.1)\n"
          ]
        }
      ]
    },
    {
      "cell_type": "markdown",
      "source": [
        "Let's import relevant functionalities from the modules above."
      ],
      "metadata": {
        "id": "CUhXeySGJPnu"
      }
    },
    {
      "cell_type": "code",
      "execution_count": 2,
      "metadata": {
        "id": "jofyOmHPIxBW"
      },
      "outputs": [],
      "source": [
        "from langchain_core.messages import AnyMessage, SystemMessage, HumanMessage, ToolMessage, AIMessage, trim_messages\n",
        "from langchain_core.tools import tool, ToolException, InjectedToolArg\n",
        "from langchain.tools import Tool, StructuredTool\n",
        "from langchain_community.tools.tavily_search import TavilySearchResults\n",
        "from langchain_core.runnables import RunnableConfig\n",
        "from langchain_community.utilities import ArxivAPIWrapper\n",
        "from langchain_community.tools import ArxivQueryRun, HumanInputRun\n",
        "from langgraph.graph import StateGraph,START,END, add_messages, MessagesState\n",
        "from langgraph.prebuilt import create_react_agent, ToolNode\n",
        "from langgraph.checkpoint.memory import MemorySaver\n",
        "from langgraph.store.base import BaseStore\n",
        "from langgraph.store.memory import InMemoryStore\n",
        "from typing import Annotated, Optional\n",
        "from typing_extensions import TypedDict\n",
        "from pydantic import BaseModel, Field\n",
        "import wikipedia\n",
        "import uuid\n",
        "import operator\n",
        "from IPython.display import Image, display\n",
        "import os\n",
        "import getpass\n",
        "from langchain_google_genai import ChatGoogleGenerativeAI\n",
        "import textwrap\n",
        "from datetime import datetime\n",
        "import requests"
      ]
    },
    {
      "cell_type": "markdown",
      "source": [
        "## Define the LLM we will use"
      ],
      "metadata": {
        "id": "WN2Z8yi9JuX4"
      }
    },
    {
      "cell_type": "markdown",
      "source": [
        "#### Getting a Gemini API key\n",
        "\n",
        "1. Go to https://ai.google.dev/gemini-api/docs/api-key\n",
        "2. Sign in, if you aren't signed in yet.\n",
        "3. Click the blue 'Get a Gemini API key in Google AI Studio' button and follow the instructions\n",
        "4. Use the key you generated when asked for the `GOOGLE_API_KEY` below."
      ],
      "metadata": {
        "id": "Iy45ftjILi5S"
      }
    },
    {
      "cell_type": "code",
      "source": [
        "# Store Gemini and Tavily API keys\n",
        "if \"GOOGLE_API_KEY\" not in os.environ:\n",
        "    os.environ[\"GOOGLE_API_KEY\"] = getpass.getpass(\"Enter your Google AI API key: \")"
      ],
      "metadata": {
        "colab": {
          "base_uri": "https://localhost:8080/"
        },
        "id": "qkcg1eEOKtST",
        "outputId": "04caf5da-1a58-4c3f-9853-9b4b2b10337b"
      },
      "execution_count": 3,
      "outputs": [
        {
          "name": "stdout",
          "output_type": "stream",
          "text": [
            "Enter your Google AI API key: ··········\n"
          ]
        }
      ]
    },
    {
      "cell_type": "code",
      "source": [
        "# Create LLM model\n",
        "model = ChatGoogleGenerativeAI(\n",
        "    model=\"gemini-2.0-flash\",\n",
        "    temperature=0,\n",
        "    max_retries=2\n",
        ")"
      ],
      "metadata": {
        "id": "70vV59d2Jw-E"
      },
      "execution_count": 4,
      "outputs": []
    },
    {
      "cell_type": "markdown",
      "source": [
        "## Creating a LangGraph agent from scratch\n",
        "Let's start with the state definition, which specifies what type of information will flow between different nodes and edges in a graph."
      ],
      "metadata": {
        "id": "FyOlwLl6I98O"
      }
    },
    {
      "cell_type": "code",
      "source": [
        "class State(TypedDict):\n",
        "    messages: Annotated[list[AnyMessage], operator.add]"
      ],
      "metadata": {
        "id": "pIN6TgRrJVbd"
      },
      "execution_count": 5,
      "outputs": []
    },
    {
      "cell_type": "markdown",
      "source": [
        "This defines a simple state that stores a list of any type of LangChain message, such as ToolMessage, AIMessage, HumanMessage, etc. The **operator.add** operator will add new messages to the list instead of overwriting existing ones.\n",
        "\n",
        "Next, we will define a simple Python function to add a node in our LangGraph agent."
      ],
      "metadata": {
        "id": "MHIi4vA2Jl6w"
      }
    },
    {
      "cell_type": "code",
      "source": [
        "def run_llm(state: State):\n",
        "    messages = state['messages']\n",
        "    message = model.invoke(messages)\n",
        "    return {'messages': [message]}"
      ],
      "metadata": {
        "id": "cin3EolHJWg_"
      },
      "execution_count": 6,
      "outputs": []
    },
    {
      "cell_type": "markdown",
      "source": [
        "The **run_llm()** function accepts an object of the **State** class that we defined before. When we add the **run_llm()** function to a LangGraph node, LangGraph will automatically pass the agent’s state to the **run_llm()** function.\n",
        "\n",
        "Let's now create our graph."
      ],
      "metadata": {
        "id": "KMD2RUgiKDwN"
      }
    },
    {
      "cell_type": "code",
      "source": [
        "graph_builder=StateGraph(State)\n",
        "graph_builder.add_node(\"llm\", run_llm)\n",
        "graph_builder.add_edge(START,\"llm\")\n",
        "graph_builder.add_edge(\"llm\",END)\n",
        "\n",
        "graph=graph_builder.compile()"
      ],
      "metadata": {
        "id": "GsqLRS87KB3e"
      },
      "execution_count": 7,
      "outputs": []
    },
    {
      "cell_type": "markdown",
      "source": [
        "To create a graph, we will create a **StateGraph** object and define the state type in the **StateGraph** constructor. Subsequently, we will add a node titled **llm** and add the **run_llm()** function to the node.\n",
        "\n",
        "We add two edges that define the start and end of the agent execution. Our agent has a single node, so we start with the **llm** node and end the agent execution once we receive the response from the **llm** node.\n",
        "\n",
        "Finally, we must compile the graph using the **compile()** method.\n",
        "\n",
        "We can visualize the graph using the following script:"
      ],
      "metadata": {
        "id": "kiIveQBiKVDk"
      }
    },
    {
      "cell_type": "code",
      "source": [
        "display(Image(graph.get_graph().draw_mermaid_png()))"
      ],
      "metadata": {
        "colab": {
          "base_uri": "https://localhost:8080/",
          "height": 251
        },
        "id": "t_K7AJsyKMgU",
        "outputId": "4ffa9a60-7237-4f2c-8a7a-16e0f4f77bec"
      },
      "execution_count": 8,
      "outputs": [
        {
          "output_type": "display_data",
          "data": {
            "image/png": "[encoded data removed]",
            "text/plain": [
              "<IPython.core.display.Image object>"
            ]
          },
          "metadata": {}
        }
      ]
    },
    {
      "cell_type": "markdown",
      "source": [
        "Let's test the agent we just created. To do so, call the **invoke()** method on the **graph** object created."
      ],
      "metadata": {
        "id": "xS2ro9oFKgpQ"
      }
    },
    {
      "cell_type": "code",
      "source": [
        "messages = [HumanMessage(content=\"Tell me a joke about mathematics\")]\n",
        "result = graph.invoke({\"messages\": messages})\n",
        "print(result['messages'][-1].content)"
      ],
      "metadata": {
        "colab": {
          "base_uri": "https://localhost:8080/"
        },
        "id": "o3a4u-1zKc86",
        "outputId": "1db98ef8-c01b-48ef-b03e-66797579c710"
      },
      "execution_count": 9,
      "outputs": [
        {
          "output_type": "stream",
          "name": "stdout",
          "text": [
            "Why was the math book sad?\n",
            "\n",
            "Because it had too many problems!\n"
          ]
        }
      ]
    },
    {
      "cell_type": "markdown",
      "source": [
        "In most cases, you will need LangGraph agents to use tools to respond appropriately. The following section explains how to incorporate tools into LangGraph agents."
      ],
      "metadata": {
        "id": "R6mK-F7iK6az"
      }
    },
    {
      "cell_type": "markdown",
      "source": [
        "## Incorporating tools into LangGraph agents\n",
        "\n",
        "An AI tool is a component that enhances the default functionalities of an AI agent, allowing it to perform a specific task or access external information. For example, you can use tools to access the web, connect to an external database, book a flight, etc.\n",
        "\n",
        "You can incorporate custom and [**built-in LangChain**](https://python.langchain.com/v0.1/docs/integrations/tools/) tools into your LangGraph agents; the approaches remain very similar. In this section, we will see both tool types.\n",
        "\n",
        "Incorporating a tool into an agent is a highly flexible process. You can directly add a tool to an agent’s node or a function to a node that calls one or multiple tools. The latter approach is recommended because it allows for more customization.\n",
        "\n",
        "Let’s first see how to use a built-in LangChain tool in LangGraph. We will use the LangChain ArXiv tool wrapper to create a tool that returns research papers based on user queries."
      ],
      "metadata": {
        "id": "Umfu2AtmK-Bn"
      }
    },
    {
      "cell_type": "code",
      "source": [
        "arxiv_wrapper = ArxivAPIWrapper(top_k_results=1, doc_content_chars_max=300)\n",
        "arxiv_tool = ArxivQueryRun(api_wrapper=arxiv_wrapper)"
      ],
      "metadata": {
        "id": "CEvnOXILNTf-"
      },
      "execution_count": 10,
      "outputs": []
    },
    {
      "cell_type": "code",
      "source": [
        "def get_arxiv_data(query):\n",
        "    data = arxiv_tool.invoke(query)\n",
        "    return data\n",
        "\n",
        "class ArticleTopic(BaseModel):\n",
        "    topic: str = Field(description=\"The topic of the article to search on arxiv.\")\n",
        "\n",
        "@tool (args_schema=ArticleTopic)\n",
        "def arxiv_search(topic: str) -> str:\n",
        "    \"\"\"Returns the information about research papers from arxiv\"\"\"\n",
        "    return get_arxiv_data(topic)"
      ],
      "metadata": {
        "id": "kn20fPnvKlsw"
      },
      "execution_count": 11,
      "outputs": []
    },
    {
      "cell_type": "markdown",
      "source": [
        "In the script above, we define the function **get_arxiv_data()**, which accepts a user query and calls the LangChain ArXiv tool to return research paper information related to a user query.\n",
        "\n",
        "Next, we inherit the **BaseModel** class to define the data type our tool will accept as a parameter, which ensures that input to the tool always has a valid input data type.\n",
        "\n",
        "Finally, we use the **@tool** decorator and create an **arxiv_search** tool that calls the **get_arxiv_data** function. The tool description is critical in this case since the LLM agent selects a tool based on its description.\n",
        "\n",
        "In the same way, we create a custom tool, as the following script shows:"
      ],
      "metadata": {
        "id": "pnuFyUGqLoFn"
      }
    },
    {
      "cell_type": "code",
      "source": [
        "def get_wiki_data(topic):\n",
        "    data = wikipedia.summary(topic)\n",
        "    return data\n",
        "\n",
        "class WikipediaTopic(BaseModel):\n",
        "    topic: str = Field(description=\"The wikipedia article topic to search\")\n",
        "\n",
        "@tool(args_schema = WikipediaTopic)\n",
        "def wikipedia_search(topic: str) -> str:\n",
        "    \"\"\"Returns the summary of wikipedia page of the passed topic\"\"\"\n",
        "    return get_wiki_data(topic)"
      ],
      "metadata": {
        "id": "gJ6GHInxLMSa"
      },
      "execution_count": 12,
      "outputs": []
    },
    {
      "cell_type": "markdown",
      "source": [
        "The tool above uses the Python Wikipedia library to return Wikipedia article summaries based on user queries.\n",
        "\n",
        "Once you create your tools, the next step is to bind them to the LLM you will use in your agent."
      ],
      "metadata": {
        "id": "bY20aUlvL1Yl"
      }
    },
    {
      "cell_type": "code",
      "source": [
        "tools = [arxiv_search, wikipedia_search]\n",
        "tools_names = {t.name: t for t in tools}\n",
        "model = model.bind_tools(tools)"
      ],
      "metadata": {
        "id": "zoReQ9MALyuZ"
      },
      "execution_count": 13,
      "outputs": []
    },
    {
      "cell_type": "markdown",
      "source": [
        "In the next step, we define a function that executes whenever an agent decides to call one or more tools."
      ],
      "metadata": {
        "id": "UO1Va5HmL8iH"
      }
    },
    {
      "cell_type": "code",
      "source": [
        "def execute_tools(state: State):\n",
        "    tool_calls = state['messages'][-1].tool_calls\n",
        "    results = []\n",
        "    for t in tool_calls:\n",
        "\n",
        "      if not t['name'] in tools_names:\n",
        "        result = \"Error: There's no such tool, please try again\"\n",
        "      else:\n",
        "        result = tools_names[t['name']].invoke(t['args'])\n",
        "\n",
        "        results.append(\n",
        "          ToolMessage(\n",
        "            tool_call_id=t['id'],\n",
        "            name=t['name'],\n",
        "            content=str(result)\n",
        "          )\n",
        "        )\n",
        "\n",
        "    return {'messages': results}"
      ],
      "metadata": {
        "id": "mjBzJ8fLL57u"
      },
      "execution_count": 14,
      "outputs": []
    },
    {
      "cell_type": "markdown",
      "source": [
        "The **execute_tools** function above will be added to a LangGraph agent's node, automatically receiving the agent's current state. We will only call the **execute_tools()** function if the agent decides to use one or more tools.\n",
        "\n",
        "Inside the execute_tools function, we will iteratively call the tools and pass the arguments from the LLM's last response to them. Finally, we will append the tool response to the **results[]** list and add the list to the model state using the state's **messages** list.\n",
        "\n",
        "The last and final step before creating a graph is to define a function that checks whether the agent's latest state contains tool calls."
      ],
      "metadata": {
        "id": "0XnZi-csL-8D"
      }
    },
    {
      "cell_type": "code",
      "source": [
        "def tool_exists(state: State):\n",
        "    result = state['messages'][-1]\n",
        "    return len(result.tool_calls) > 0"
      ],
      "metadata": {
        "id": "FRrhMeXBL9s3"
      },
      "execution_count": 15,
      "outputs": []
    },
    {
      "cell_type": "markdown",
      "source": [
        "We will use this function to create a conditional edge, which decides whether to go to the **execute_tools()** function or the END node and returns the agent’s final response.\n",
        "\n",
        "Now let’s create a LangGraph agent that uses the tool we created. The following script defines the agent’s state and the **run_llm()** function as before."
      ],
      "metadata": {
        "id": "H2e8lvYFMKFM"
      }
    },
    {
      "cell_type": "code",
      "source": [
        "class State(TypedDict):\n",
        "  messages: Annotated[list[AnyMessage], operator.add]\n",
        "\n",
        "def run_llm(state: State):\n",
        "    messages = state['messages']\n",
        "    message = model.invoke(messages)\n",
        "    return {'messages': [message]}"
      ],
      "metadata": {
        "id": "mj28Gh79MIT4"
      },
      "execution_count": 16,
      "outputs": []
    },
    {
      "cell_type": "markdown",
      "source": [
        "The script below defines and displays the complete agent graph."
      ],
      "metadata": {
        "id": "plD6PHvFMQ2G"
      }
    },
    {
      "cell_type": "code",
      "source": [
        "graph_builder=StateGraph(State)\n",
        "graph_builder.add_node(\"llm\", run_llm)\n",
        "graph_builder.add_node(\"tools\", execute_tools)\n",
        "graph_builder.add_conditional_edges(\n",
        "    \"llm\",\n",
        "     tool_exists,\n",
        "    {True: \"tools\", False: END}\n",
        "    )\n",
        "graph_builder.add_edge(\"tools\", \"llm\")\n",
        "graph_builder.set_entry_point(\"llm\")\n",
        "graph=graph_builder.compile()\n",
        "display(Image(graph.get_graph().draw_mermaid_png()))"
      ],
      "metadata": {
        "colab": {
          "base_uri": "https://localhost:8080/",
          "height": 290
        },
        "id": "_NpCiyv0MSJy",
        "outputId": "859995da-70da-433d-a073-a377b37a8789"
      },
      "execution_count": 17,
      "outputs": [
        {
          "output_type": "display_data",
          "data": {
            "image/png": "[encoded data removed]",
            "text/plain": [
              "<IPython.core.display.Image object>"
            ]
          },
          "metadata": {}
        }
      ]
    },
    {
      "cell_type": "markdown",
      "source": [
        "We have two nodes in the graph: the **llm**, which runs the **run_llm()** function, and the **tools** node, which runs the **execute_tools()** function. The conditional node connects the **llm** node with the **tool** or the END node depending upon the output of the **llm** node. We also add an edge back from the **tools** to the **llm** node because we want the **llm** node to generate the final response with or without the help of the tool.\n",
        "\n",
        "Now let's test the agent we created. We will first ask the agent to return a research paper."
      ],
      "metadata": {
        "id": "pfQrq_dFMZX4"
      }
    },
    {
      "cell_type": "code",
      "source": [
        "messages = [HumanMessage(content=\"Give me the latest research paper on attention is all you need\")]\n",
        "result = graph.invoke({\"messages\": messages})\n",
        "result"
      ],
      "metadata": {
        "colab": {
          "base_uri": "https://localhost:8080/"
        },
        "id": "3MxejNRiMVdp",
        "outputId": "8ceb70db-dc68-465c-f374-d4a1e6e3aa59"
      },
      "execution_count": 18,
      "outputs": [
        {
          "output_type": "execute_result",
          "data": {
            "text/plain": [
              "{'messages': [HumanMessage(content='Give me the latest research paper on attention is all you need', additional_kwargs={}, response_metadata={}),\n",
              "  AIMessage(content='', additional_kwargs={'function_call': {'name': 'arxiv_search', 'arguments': '{\"topic\": \"attention is all you need\"}'}}, response_metadata={'prompt_feedback': {'block_reason': 0, 'safety_ratings': []}, 'finish_reason': 'STOP', 'safety_ratings': []}, id='run-769f0c66-1e15-412b-bddf-ab97e7519394-0', tool_calls=[{'name': 'arxiv_search', 'args': {'topic': 'attention is all you need'}, 'id': 'b63039fd-9bfd-4394-8fc5-6405b2f453ee', 'type': 'tool_call'}], usage_metadata={'input_tokens': 56, 'output_tokens': 9, 'total_tokens': 65, 'input_token_details': {'cache_read': 0}}),\n",
              "  ToolMessage(content=\"Published: 2024-07-22\\nTitle: Attention Is All You Need But You Don't Need All Of It For Inference of Large Language Models\\nAuthors: Georgy Tyukin, Gbetondji J-S Dovonon, Jean Kaddour, Pasquale Minervini\\nSummary: The inference demand for LLMs has skyrocketed in recent months, and serving\\nmodels with \", name='arxiv_search', tool_call_id='b63039fd-9bfd-4394-8fc5-6405b2f453ee'),\n",
              "  AIMessage(content='The latest research paper on \"attention is all you need\" is titled \"Attention Is All You Need But You Don\\'t Need All Of It For Inference of Large Language Models\" by Georgy Tyukin, Gbetondji J-S Dovonon, Jean Kaddour, and Pasquale Minervini. It was published on 2024-07-22. The summary states that the inference demand for LLMs has skyrocketed in recent months.', additional_kwargs={}, response_metadata={'prompt_feedback': {'block_reason': 0, 'safety_ratings': []}, 'finish_reason': 'STOP', 'safety_ratings': []}, id='run-5a3fde3a-cc34-483c-b40d-6b920fa73ec4-0', usage_metadata={'input_tokens': 156, 'output_tokens': 98, 'total_tokens': 254, 'input_token_details': {'cache_read': 0}})]}"
            ]
          },
          "metadata": {},
          "execution_count": 18
        }
      ]
    },
    {
      "cell_type": "markdown",
      "source": [
        "The output above shows that the model has called the **arxiv_tool** to generate the response. The model is intelligent enough to infer any query about research papers must be routed to the **arxiv_search** tool.\n",
        "\n",
        "Let’s search for something on Wikipedia."
      ],
      "metadata": {
        "id": "HBKmEaHLN0Hs"
      }
    },
    {
      "cell_type": "code",
      "source": [
        "messages = [HumanMessage(content=\"Wikipedia article on artificial intelligence\")]\n",
        "result = graph.invoke({\"messages\": messages})\n",
        "result"
      ],
      "metadata": {
        "colab": {
          "base_uri": "https://localhost:8080/"
        },
        "id": "t9BFaNIKMmPG",
        "outputId": "6560d036-3cd4-4ece-bf63-e5802907458d"
      },
      "execution_count": 19,
      "outputs": [
        {
          "output_type": "execute_result",
          "data": {
            "text/plain": [
              "{'messages': [HumanMessage(content='Wikipedia article on artificial intelligence', additional_kwargs={}, response_metadata={}),\n",
              "  AIMessage(content='', additional_kwargs={'function_call': {'name': 'wikipedia_search', 'arguments': '{\"topic\": \"artificial intelligence\"}'}}, response_metadata={'prompt_feedback': {'block_reason': 0, 'safety_ratings': []}, 'finish_reason': 'STOP', 'safety_ratings': []}, id='run-4c8f0b10-1ac1-467f-9456-b4097a318a06-0', tool_calls=[{'name': 'wikipedia_search', 'args': {'topic': 'artificial intelligence'}, 'id': 'b49d414d-e4d4-4bf7-9dd2-2f608375ac4b', 'type': 'tool_call'}], usage_metadata={'input_tokens': 49, 'output_tokens': 6, 'total_tokens': 55, 'input_token_details': {'cache_read': 0}}),\n",
              "  ToolMessage(content='Artificial intelligence (AI) refers to the capability of computational systems to perform tasks typically associated with human intelligence, such as learning, reasoning, problem-solving, perception, and decision-making. It is a field of research in computer science that develops and studies methods and software that enable machines to perceive their environment and use learning and intelligence to take actions that maximize their chances of achieving defined goals. Such machines may be called AIs.\\nHigh-profile applications of AI include advanced web search engines (e.g., Google Search); recommendation systems (used by YouTube, Amazon, and Netflix); virtual assistants (e.g., Google Assistant, Siri, and Alexa); autonomous vehicles (e.g., Waymo); generative and creative tools (e.g., ChatGPT and AI art); and superhuman play and analysis in strategy games (e.g., chess and Go). However, many AI applications are not perceived as AI: \"A lot of cutting edge AI has filtered into general applications, often without being called AI because once something becomes useful enough and common enough it\\'s not labeled AI anymore.\"\\nVarious subfields of AI research are centered around particular goals and the use of particular tools. The traditional goals of AI research include learning, reasoning, knowledge representation, planning, natural language processing, perception, and support for robotics. General intelligence—the ability to complete any task performed by a human on an at least equal level—is among the field\\'s long-term goals. To reach these goals, AI researchers have adapted and integrated a wide range of techniques, including search and mathematical optimization, formal logic, artificial neural networks, and methods based on statistics, operations research, and economics. AI also draws upon psychology, linguistics, philosophy, neuroscience, and other fields.\\nArtificial intelligence was founded as an academic discipline in 1956, and the field went through multiple cycles of optimism throughout its history, followed by periods of disappointment and loss of funding, known as AI winters. Funding and interest vastly increased after 2012 when deep learning outperformed previous AI techniques. This growth accelerated further after 2017 with the transformer architecture, and by the early 2020s many billions of dollars were being invested in AI and the field experienced rapid ongoing progress in what has become known as the AI boom. The emergence of advanced generative AI in the midst of the AI boom and its ability to create and modify content exposed several unintended consequences and harms in the present and raised concerns about the risks of AI and its long-term effects in the future, prompting discussions about regulatory policies to ensure the safety and benefits of the technology.', name='wikipedia_search', tool_call_id='b49d414d-e4d4-4bf7-9dd2-2f608375ac4b'),\n",
              "  AIMessage(content='Artificial intelligence (AI) is the capability of computational systems to perform tasks typically associated with human intelligence. It was founded as an academic discipline in 1956. The field has gone through multiple cycles of optimism, followed by periods of disappointment and loss of funding, known as AI winters. Funding and interest vastly increased after 2012 when deep learning outperformed previous AI techniques. Traditional goals of AI research include learning, reasoning, knowledge representation, planning, natural language processing, perception, and support for robotics.', additional_kwargs={}, response_metadata={'prompt_feedback': {'block_reason': 0, 'safety_ratings': []}, 'finish_reason': 'STOP', 'safety_ratings': []}, id='run-92c15748-375e-4da9-b536-1675e8541b65-0', usage_metadata={'input_tokens': 592, 'output_tokens': 106, 'total_tokens': 698, 'input_token_details': {'cache_read': 0}})]}"
            ]
          },
          "metadata": {},
          "execution_count": 19
        }
      ]
    },
    {
      "cell_type": "markdown",
      "source": [
        "You can see that the model used the **wikipedia_search** tool to generate the final response."
      ],
      "metadata": {
        "id": "jgemCugnN6YH"
      }
    },
    {
      "cell_type": "markdown",
      "source": [
        "## Streaming agent responses\n",
        "You can also stream the individual responses from all nodes and edges in your LangGraph agent. Streaming messages allows users to receive responses in real-time. To do so, you can call the **stream()** function instead of the **invoke()** method.\n",
        "\n",
        "Let’s define a function that receives streaming agent response and displays it on the console."
      ],
      "metadata": {
        "id": "akEV6_6VN9lW"
      }
    },
    {
      "cell_type": "code",
      "source": [
        "def wrap_text(text, width=100):\n",
        "    text_split = text.split(\"\\n\")\n",
        "    wrapped_text = textwrap.fill(text_split[0], width)\n",
        "    if len(text_split) > 1:\n",
        "        for line in text_split[1:]:\n",
        "            wrapped_text += \"\\n\" + textwrap.fill(line, width)\n",
        "    return wrapped_text\n",
        "\n",
        "def print_stream(stream):\n",
        "    for s in stream:\n",
        "        message = s[\"messages\"][-1]\n",
        "        if isinstance(message, tuple):\n",
        "            print(message)\n",
        "        else:\n",
        "            print(wrap_text(message.pretty_repr()))"
      ],
      "metadata": {
        "id": "Iu0xULzeN32M"
      },
      "execution_count": 20,
      "outputs": []
    },
    {
      "cell_type": "markdown",
      "source": [
        "Next, call **graph().stream()** and pass it the input messages. Also set the attribute **stream_mode** to values, which displays the values of the streaming agent responses. To make things easier, we'll define a method that can both stream (`verbose=True`) or show only the final answer (`verbose=False`)."
      ],
      "metadata": {
        "id": "xVFKZoemOEiT"
      }
    },
    {
      "cell_type": "code",
      "source": [
        "def ask(agent, question, config=None, verbose=False):\n",
        "    messages = [HumanMessage(content=question)]\n",
        "    if verbose:\n",
        "        print_stream(agent.stream({\"messages\": messages}, config=config, stream_mode= \"values\"))\n",
        "    else:\n",
        "        result = agent.invoke({\"messages\": messages}, config=config)\n",
        "        print(wrap_text(result['messages'][-1].content))"
      ],
      "metadata": {
        "id": "GNU6COoBI8gG"
      },
      "execution_count": 21,
      "outputs": []
    },
    {
      "cell_type": "code",
      "source": [
        "ask(graph, \"Who is Christiano Ronaldo\", verbose=True)"
      ],
      "metadata": {
        "colab": {
          "base_uri": "https://localhost:8080/"
        },
        "id": "5qBODUwkOCs5",
        "outputId": "33cc1540-156c-43f2-9d8b-ed37a4f2cbad"
      },
      "execution_count": 22,
      "outputs": [
        {
          "output_type": "stream",
          "name": "stdout",
          "text": [
            "================================ Human Message =================================\n",
            "\n",
            "Who is Christiano Ronaldo\n",
            "================================== Ai Message ==================================\n",
            "Tool Calls:\n",
            "  wikipedia_search (5e333443-d62c-41fb-9867-0c1997caee35)\n",
            " Call ID: 5e333443-d62c-41fb-9867-0c1997caee35\n",
            "  Args:\n",
            "    topic: Cristiano Ronaldo\n",
            "================================= Tool Message =================================\n",
            "Name: wikipedia_search\n",
            "\n",
            "Cristiano Ronaldo dos Santos Aveiro (Portuguese pronunciation: [kɾiʃˈtjɐnu ʁɔˈnaldu] ; born 5\n",
            "February 1985) is a Portuguese professional footballer who plays as a forward for and captains both\n",
            "Saudi Pro League club Al Nassr and the Portugal national team. Nicknamed CR7, he is widely regarded\n",
            "as one of the greatest players of all time, and has won numerous individual accolades throughout his\n",
            "professional footballing career, including five Ballon d'Or awards, three the Best FIFA Men's Player\n",
            "awards, a record four UEFA Men's Player of the Year Awards, four European Golden Shoes, and the FIFA\n",
            "Puskás Award. He has won 33 trophies in his career, including seven league titles, five UEFA\n",
            "Champions Leagues and the UEFA European Championship. Ronaldo holds the records for most goals (140)\n",
            "and assists (42) in the Champions League, goals (14) and assists (8) in the European Championship,\n",
            "and most international appearances (217) and international goals (135). He is one of the few players\n",
            "to have made over 1,200 professional career appearances, the most by an outfield player, and has\n",
            "scored over 900 official senior career goals for club and country, making him the top goalscorer of\n",
            "all time.\n",
            "Ronaldo began his senior career with Sporting CP, before signing with Manchester United in 2003,\n",
            "winning the FA Cup in his first season. He went on to become a star player at United, as they won\n",
            "three consecutive Premier League titles, the Champions League and the FIFA Club World Cup; his\n",
            "2007-08 season earned him his first Ballon d'Or, aged 23. Ronaldo was the subject of the then-most\n",
            "expensive association football transfer when he signed for Real Madrid in 2009 in a transfer worth\n",
            "€94 million (£80 million). He was integral to Madrid becoming a dominant force again, as they won\n",
            "four Champions Leagues from 2014 to 2018, including La Décima. He won back-to-back Ballon d'Or\n",
            "awards in 2013 and 2014, and again in 2016 and 2017, and was runner-up three times behind Lionel\n",
            "Messi, his perceived career rival. He also became the club's all-time top goalscorer and finished as\n",
            "the Champions League's top scorer for six consecutive seasons between 2012 and 2018. With Madrid,\n",
            "Ronaldo's additional titles include two La Liga titles, including a record-breaking title win in\n",
            "2011-12, and two Copas del Rey. In 2018, following issues with the Madrid hierarchy, Ronaldo made a\n",
            "surprise transfer to Juventus in a transfer worth an initial €100 million (£88 million). He won\n",
            "several trophies in Italy, including two Serie A titles and a Coppa Italia, and broke several\n",
            "records for Juventus. He returned to United in 2021; despite a collectively disappointing season,\n",
            "Ronaldo's individual performances earned him being included in the PFA Team of the Year at 37 years\n",
            "old. His contract was terminated in 2022 due to a fall out with the newly appointed manager, and in\n",
            "2023 he signed for Al Nassr, a move that since been widely credited for revolutionising football in\n",
            "Saudi Arabia.\n",
            "Ronaldo made his international debut for Portugal in 2003 at the age of 18 and has earned more than\n",
            "200 caps, making him history's most-capped male player. Ronaldo has played in eleven major\n",
            "tournaments and scored in ten; he scored his first international goal at Euro 2004, where he helped\n",
            "Portugal reach the final and subsequently made the team of the tournament. In the 2006 FIFA World\n",
            "Cup, his first World Cup, he was a focal part to Portugal ultimately finishing in fourth place. He\n",
            "assumed captaincy of the national team in July 2008 ahead of Euro 2008; four years later, at Euro\n",
            "2012, he was named to the team of the tournament. In 2015, Ronaldo was named the best Portuguese\n",
            "player of all time by the Portuguese Football Federation. The following year, he led Portugal to\n",
            "their first major tournament title at Euro 2016, being named in the team of the tournament for the\n",
            "third time and receiving the Silver Boot as the second-highest goalscorer of the tournament. This\n",
            "achievement saw him receive his fourth Ballon d'Or. In 2018, Ronaldo had his most prolific World Cup\n",
            "campaign and was voted in the Fan Dream Team. He led his country to victory in the inaugural UEFA\n",
            "Nations League in 2019, receiving the top scorer award in the finals, and also received the Golden\n",
            "Boot as top scorer of Euro 2020. In the 2022 World Cup, he became the first player to score at five\n",
            "World Cups.\n",
            "\n",
            "One of the world's most marketable and famous athletes, Ronaldo was ranked the world's highest-paid\n",
            "athlete by Forbes in 2016, 2017, 2023, and 2024 and the world's most famous athlete by ESPN from\n",
            "2016 to 2019. He is the first footballer and the third sportsman to earn US$1 billion in his career.\n",
            "Time included him on their list of the 100 most influential people in the world in 2014. Ronaldo is\n",
            "the most popular sportsperson on social media: he counts over 1 billion total followers across\n",
            "Facebook, Twitter, YouTube and Instagram, making him the first person to achieve that feat. Ronaldo\n",
            "was named in the UEFA Ultimate Team of the Year in 2015, the All-time UEFA Euro XI in 2016, and the\n",
            "Ballon d'Or Dream Team in 2020. In recognition of his record-breaking goalscoring success, he\n",
            "received special awards for Outstanding Career Achievement by FIFA in 2021 and Champions League All-\n",
            "Time Top Scorer by UEFA in 2024.\n",
            "================================== Ai Message ==================================\n",
            "\n",
            "Cristiano Ronaldo dos Santos Aveiro is a Portuguese professional footballer who plays as a forward\n",
            "for and captains both Saudi Pro League club Al Nassr and the Portugal national team. He is widely\n",
            "regarded as one of the greatest players of all time. He has won numerous individual accolades\n",
            "throughout his professional footballing career, including five Ballon d'Or awards, three The Best\n",
            "FIFA Men's Player awards, a record four UEFA Men's Player of the Year Awards, four European Golden\n",
            "Shoes, and the FIFA Puskás Award.\n"
          ]
        }
      ]
    },
    {
      "cell_type": "markdown",
      "source": [
        "You will see real-time responses from each graph node printed on the console. For example, in the output above, you can see the human message followed by the AI response, which contains tool calls to the **wikipedia_search** tool. The tool returns the response to the user query; this is again passed to the AI node, which generates the final response."
      ],
      "metadata": {
        "id": "YQkh6c7bOg50"
      }
    },
    {
      "cell_type": "markdown",
      "source": [
        "## Using built-in agents\n",
        "In previous sections, we created an agent that checks whether it needs a tool's help to generate a final response. If it does, it calls the tool, fetches the tool response, and returns the final response; if it doesn't, it simply returns the default LLM response. We can use LangGraph’s built-in [**ReAct agent**](https://langchain-ai.github.io/langgraph/how-tos/create-react-agent/#code) to achieve the same functionality.\n",
        "\n",
        "You can use the **react_search_agent()** from the **langgraph.prebuilt** module to create a ReAct agent. To define the ReAct agent's functionality, pass the **system_prompt** to the **prompt** attribute.\n",
        "\n",
        "The following script creates a ReAct agent that uses the tool we created in previous sections:\n",
        "\n"
      ],
      "metadata": {
        "id": "XrJLS1ZsOkBU"
      }
    },
    {
      "cell_type": "code",
      "source": [
        "prompt = \"\"\"\n",
        "    You are an expert researcher. Your goal is to search wikipedia for general queries\n",
        "    related to famous things, places, persons, etc.\n",
        "    You can also search for arxiv if the user asks to search for research papers.\n",
        "    Use your default knowledge for general queries\n",
        "\"\"\"\n",
        "\n",
        "react_search_agent = create_react_agent(model, tools, prompt=prompt)\n",
        "display(Image(react_search_agent.get_graph().draw_mermaid_png()))"
      ],
      "metadata": {
        "colab": {
          "base_uri": "https://localhost:8080/",
          "height": 266
        },
        "id": "PUY2ZEHmOInq",
        "outputId": "4bec3452-4d14-48c1-aabc-aa5f7e0a639d"
      },
      "execution_count": 23,
      "outputs": [
        {
          "output_type": "display_data",
          "data": {
            "image/png": "[encoded data removed]",
            "text/plain": [
              "<IPython.core.display.Image object>"
            ]
          },
          "metadata": {}
        }
      ]
    },
    {
      "cell_type": "markdown",
      "source": [
        "You can see that the ReAct agent above is very similar to what we created earlier from scratch.\n",
        "\n",
        "Let’s test the agent by asking a simple question that doesn't require any tool’s help."
      ],
      "metadata": {
        "id": "jUmO1VQmO-JJ"
      }
    },
    {
      "cell_type": "code",
      "source": [
        "ask(react_search_agent, \"What is 2 + 2\", verbose=True)"
      ],
      "metadata": {
        "colab": {
          "base_uri": "https://localhost:8080/"
        },
        "id": "t7Oux7SZO8fN",
        "outputId": "1ec5d9a3-ad06-46d4-e2ea-9f4c3fe2c822"
      },
      "execution_count": 24,
      "outputs": [
        {
          "output_type": "stream",
          "name": "stdout",
          "text": [
            "================================ Human Message =================================\n",
            "\n",
            "What is 2 + 2\n",
            "================================== Ai Message ==================================\n",
            "\n",
            "4\n"
          ]
        }
      ]
    },
    {
      "cell_type": "markdown",
      "source": [
        "You can see that the ReAct agent generated a response without any tool’s assistance.\n",
        "\n",
        "Let’s send another request."
      ],
      "metadata": {
        "id": "hx_bHkFHPCLM"
      }
    },
    {
      "cell_type": "code",
      "source": [
        "ask(react_search_agent, \"What is the Eiffel tower?\", verbose=True)"
      ],
      "metadata": {
        "colab": {
          "base_uri": "https://localhost:8080/"
        },
        "id": "7f9e2Hq8PASA",
        "outputId": "78a23bcf-11b6-4b1d-bb84-e0d2290e773c"
      },
      "execution_count": 25,
      "outputs": [
        {
          "output_type": "stream",
          "name": "stdout",
          "text": [
            "================================ Human Message =================================\n",
            "\n",
            "What is the Eiffel tower?\n",
            "================================== Ai Message ==================================\n",
            "Tool Calls:\n",
            "  wikipedia_search (a812fe0b-1715-42f5-acbb-fcc8681ee735)\n",
            " Call ID: a812fe0b-1715-42f5-acbb-fcc8681ee735\n",
            "  Args:\n",
            "    topic: Eiffel Tower\n",
            "================================= Tool Message =================================\n",
            "Name: wikipedia_search\n",
            "\n",
            "The Eiffel Tower (  EYE-fəl; French: Tour Eiffel [tuʁ ɛfɛl] ) is a wrought-iron lattice tower on the\n",
            "Champ de Mars in Paris, France. It is named after the engineer Gustave Eiffel, whose company\n",
            "designed and built the tower from 1887 to 1889.\n",
            "Locally nicknamed \"La dame de fer\" (French for \"Iron Lady\"), it was constructed as the centerpiece\n",
            "of the 1889 World's Fair, and to crown the centennial anniversary of the French Revolution. Although\n",
            "initially criticised by some of France's leading artists and intellectuals for its design, it has\n",
            "since become a global cultural icon of France and one of the most recognisable structures in the\n",
            "world. The tower received 5,889,000 visitors in 2022. The Eiffel Tower is the most visited monument\n",
            "with an entrance fee in the world: 6.91 million people ascended it in 2015. It was designated a\n",
            "monument historique in 1964, and was named part of a UNESCO World Heritage Site (\"Paris, Banks of\n",
            "the Seine\") in 1991.\n",
            "The tower is 330 metres (1,083 ft) tall, about the same height as an 81-storey building, and the\n",
            "tallest structure in Paris. Its base is square, measuring 125 metres (410 ft) on each side. During\n",
            "its construction, the Eiffel Tower surpassed the Washington Monument to become the tallest human-\n",
            "made structure in the world, a title it held for 41 years until the Chrysler Building in New York\n",
            "City was finished in 1930. It was the first structure in the world to surpass both the 200-metre and\n",
            "300-metre mark in height. Due to the addition of a broadcasting aerial at the top of the tower in\n",
            "1957, it is now taller than the Chrysler Building by 5.2 metres (17 ft). Excluding transmitters, the\n",
            "Eiffel Tower is the second tallest free-standing structure in France after the Millau Viaduct.\n",
            "The tower has three levels for visitors, with restaurants on the first and second levels. The top\n",
            "level's upper platform is 276 m (906 ft) above the ground—the highest observation deck accessible to\n",
            "the public in the European Union. Tickets can be purchased to ascend by stairs or lift to the first\n",
            "and second levels. The climb from ground level to the first level is over 300 steps, as is the climb\n",
            "from the first level to the second, making the entire ascent a 600-step climb. Although there is a\n",
            "staircase to the top level, it is usually accessible only by lift. On this top, third level is a\n",
            "private apartment built for Gustave Eiffel's personal use. He decorated it with furniture by Jean\n",
            "Lachaise and invited friends such as Thomas Edison.\n",
            "================================== Ai Message ==================================\n",
            "\n",
            "The Eiffel Tower is a wrought-iron lattice tower on the Champ de Mars in Paris, France. It is named\n",
            "after the engineer Gustave Eiffel, whose company designed and built the tower from 1887 to 1889. It\n",
            "was constructed as the centerpiece of the 1889 World's Fair, and to crown the centennial anniversary\n",
            "of the French Revolution. It has since become a global cultural icon of France and one of the most\n",
            "recognisable structures in the world. The tower is 330 metres (1,083 ft) tall, about the same height\n",
            "as an 81-storey building, and the tallest structure in Paris.\n"
          ]
        }
      ]
    },
    {
      "cell_type": "markdown",
      "source": [
        "This time, the agent called the **wikipedia_search** tool before generating the final response."
      ],
      "metadata": {
        "id": "8IC0wwiyPGNH"
      }
    },
    {
      "cell_type": "markdown",
      "source": [
        "# Memory management in LangGraph\n",
        "By default, interaction with LangGraph agents is stateless, which means that the agent does not remember the previous conversation and cannot generate responses to follow-up queries. In this section, you will see why you need agents with memory and how to create LangGraph agents that remember previous conversations."
      ],
      "metadata": {
        "id": "g74Pq7JbPJSR"
      }
    },
    {
      "cell_type": "markdown",
      "source": [
        "## Why do you need agents with memory?\n",
        "The answer is simple: Humans have memory and can answer follow-up questions. You want your agents to remember what was previously discussed so that they can have a meaningful conversation.\n",
        "\n",
        "Let’s see an example where a user interacts with an agent without conversational memory.  We ask the agent: “Who is Christiano Ronaldo?”"
      ],
      "metadata": {
        "id": "S7jUeaiKUOzT"
      }
    },
    {
      "cell_type": "code",
      "source": [
        "ask(react_search_agent, \"Who is Christiano Ronaldo?\")"
      ],
      "metadata": {
        "colab": {
          "base_uri": "https://localhost:8080/"
        },
        "id": "oFtcyxTIPENF",
        "outputId": "7bbc8a6d-cb49-4345-cc3a-2fc521c1c4cf"
      },
      "execution_count": 26,
      "outputs": [
        {
          "output_type": "stream",
          "name": "stdout",
          "text": [
            "Cristiano Ronaldo dos Santos Aveiro is a Portuguese professional footballer who plays as a forward\n",
            "for and captains both Saudi Pro League club Al Nassr and the Portugal national team. He is widely\n",
            "regarded as one of the greatest players of all time. He has won numerous individual accolades\n",
            "throughout his professional footballing career, including five Ballon d'Or awards, three The Best\n",
            "FIFA Men's Player awards, a record four UEFA Men's Player of the Year Awards, four European Golden\n",
            "Shoes, and the FIFA Puskás Award.\n"
          ]
        }
      ]
    },
    {
      "cell_type": "markdown",
      "source": [
        "Here, the agent probably called the **wikipedia_search** tool to generate the response. Let’s ask a follow-up question about Christiano Ronaldo."
      ],
      "metadata": {
        "id": "ROPSLeNaPSX8"
      }
    },
    {
      "cell_type": "code",
      "source": [
        "ask(react_search_agent, \"To which country does he belong?\")"
      ],
      "metadata": {
        "colab": {
          "base_uri": "https://localhost:8080/"
        },
        "id": "xYXhaBSBPMzh",
        "outputId": "62e357c7-d113-4126-dfac-5214d72f955d"
      },
      "execution_count": 27,
      "outputs": [
        {
          "output_type": "stream",
          "name": "stdout",
          "text": [
            "Could you please provide me with the name of the person you are asking about?\n"
          ]
        }
      ]
    },
    {
      "cell_type": "markdown",
      "source": [
        "You can see that the model doesn’t remember what we asked it previously. Though we could append previous conversations before the current message to provide context to the LLM, an LLM's context window is limited and will eventually be filled, leading to slower agent responses and, in some cases, truncation of conversation context.\n",
        "\n",
        "Models with very large context windows can store an entire chat history, leading to recall issues where the model may overlook older conversations. Additionally, a large context window might introduce contradictory information if there are conflicting details from earlier parts of the conversation, potentially confusing the model. Lastly, using larger prompts can significantly increase the cost of processing.\n",
        "\n",
        "The ability of an AI agent to remember previous conversations is crucial in almost all agent types, ranging from medical agents, where an agent must remember a patient’s previous information, to e-commerce agents, where it is important for an agent to remember user preferences to provide a customized response.\n",
        "\n",
        "The diagram below shows an LLM-powered agent's components; tools were used to retrieve additional information in the examples above. In the examples below, the role of memory will be explained.\n",
        "\n",
        "![image.png](https://cdn.prod.website-files.com/6720fd49425e367c9ec40a97/67509cfe66a39e5e5204e4d5_AD_4nXfBIMTNNen26DfF7xqoA0UcXJ_azMYO5zYRNG7PKO8KRXfTDwOzXBi2MOYxwtSzEVjoAAOjGAUAVVAdwB1VB24jSoZ7QO5RwBHQQ0GikdNPdP8mLkoxfR5KBnLRf5MQG0C-uCdENg.png)\n",
        "\n",
        "General components of an AI agent ([source](https://lilianweng.github.io/posts/2023-06-23-agent/))"
      ],
      "metadata": {
        "id": "w1DO5mwQPYZf"
      }
    },
    {
      "cell_type": "markdown",
      "source": [
        "## Creating LangGraph agents with memory\n",
        "LangGraph agents can be created with short-term or long-term memory."
      ],
      "metadata": {
        "id": "-bIkogIzPr8x"
      }
    },
    {
      "cell_type": "markdown",
      "source": [
        "### Agents with short-term memory\n",
        "The easiest way to add persistence to your interactions with LangGraph agents is via checkpointers. To do so, you must pass a memory object (in memory or third-party) to the **checkpointer** attribute while compiling a LangGraph agent. For example:\n",
        "\n",
        "`graph.compile(checkpointer=memory)`\n",
        "\n",
        "For a ReAct agent, you can pass the memory object to the **checkpointer** attribute of the **create_react_agent()** function.\n",
        "\n",
        "Next, while invoking the graph, you must pass the **configurable** dictionary containing the value for the **thread_id** key. The memory is associated with this **thread_id**."
      ],
      "metadata": {
        "id": "6kyu85h2UMQy"
      }
    },
    {
      "cell_type": "code",
      "source": [
        "memory = MemorySaver()\n",
        "react_search_agent = create_react_agent(model, tools, prompt=prompt, checkpointer=memory)\n",
        "\n",
        "config = {\"configurable\": {\"thread_id\": \"1\"}}\n",
        "\n",
        "ask(react_search_agent, \"Who is Christiano Ronaldo?\", config=config)"
      ],
      "metadata": {
        "colab": {
          "base_uri": "https://localhost:8080/"
        },
        "id": "thUuesFGPVa5",
        "outputId": "455c9ec1-bfa7-455c-fa11-f85e67422944"
      },
      "execution_count": 28,
      "outputs": [
        {
          "output_type": "stream",
          "name": "stdout",
          "text": [
            "Cristiano Ronaldo dos Santos Aveiro is a Portuguese professional footballer who plays as a forward\n",
            "for and captains both Saudi Pro League club Al Nassr and the Portugal national team. He is widely\n",
            "regarded as one of the greatest players of all time. He has won numerous individual accolades\n",
            "throughout his professional footballing career, including five Ballon d'Or awards, three The Best\n",
            "FIFA Men's Player awards, a record four UEFA Men's Player of the Year Awards, four European Golden\n",
            "Shoes, and the FIFA Puskás Award.\n"
          ]
        }
      ]
    },
    {
      "cell_type": "code",
      "source": [
        "ask(react_search_agent, \"To which country does he belong?\", config=config)"
      ],
      "metadata": {
        "colab": {
          "base_uri": "https://localhost:8080/"
        },
        "id": "PFUZ1xc-P6p2",
        "outputId": "52e39391-4e97-4f2c-f5e3-6bf6e86f48ee"
      },
      "execution_count": 29,
      "outputs": [
        {
          "output_type": "stream",
          "name": "stdout",
          "text": [
            "He belongs to Portugal.\n"
          ]
        }
      ]
    },
    {
      "cell_type": "markdown",
      "source": [
        "You can see that the agent remembers that we are asking a question about Christiano Ronaldo. However, one drawback of short-term memory is that it is not shared between multiple sessions or threads. For example, if you change the thread_id and ask the same question, the agent will not understand the follow-up query."
      ],
      "metadata": {
        "id": "87Tg4HGMSVRf"
      }
    },
    {
      "cell_type": "code",
      "source": [
        "config = {\"configurable\": {\"thread_id\": \"2\"}}\n",
        "ask(react_search_agent, \"To which country does he belong?\", config=config)"
      ],
      "metadata": {
        "colab": {
          "base_uri": "https://localhost:8080/"
        },
        "id": "ROrYxprSSTLz",
        "outputId": "769db9ec-9cae-42dd-b4b1-8297d119b9f0"
      },
      "execution_count": 31,
      "outputs": [
        {
          "output_type": "stream",
          "name": "stdout",
          "text": [
            "I need more context to answer. Please specify who you are referring to.\n"
          ]
        }
      ]
    },
    {
      "cell_type": "markdown",
      "source": [
        "The other drawback of short-term memory is that the entire chat history might not fit the model context window. Longer chat histories can be complex and often introduce hallucinations in agent responses."
      ],
      "metadata": {
        "id": "Uejk6VWQSaDl"
      }
    },
    {
      "cell_type": "markdown",
      "source": [
        "### Agents with long-term memory\n",
        "Recently, LangGraph introduced long-term memory, which you can share across multiple threads. You can also extract facts from user conversations and add them to long-term memory, leading to a shorter and more robust chat context.\n",
        "\n",
        "You can use LangGraph’s **InMemoryStore** class to manage and store long-term memories. This class stores memories in namespaces, each of which may include multiple memories. Each memory has a memory ID, while context and content are key-value pairs.\n",
        "\n",
        "The following script shows an example of storing a long-term memory in an **InMemoryStore** object using the put() method."
      ],
      "metadata": {
        "id": "WSimlN5eUJJL"
      }
    },
    {
      "cell_type": "code",
      "source": [
        "memory_store = InMemoryStore()\n",
        "\n",
        "user_id = \"123\"\n",
        "namespace = (user_id, \"memories\")\n",
        "\n",
        "memory_id = \"001\"\n",
        "memory = {\"food preferences\" : \"I like apples\"}\n",
        "memory_store.put(namespace, memory_id, memory)"
      ],
      "metadata": {
        "id": "zBSBFW4aSYET"
      },
      "execution_count": 32,
      "outputs": []
    },
    {
      "cell_type": "markdown",
      "source": [
        "You can see memories in a namespace using the following script:"
      ],
      "metadata": {
        "id": "O5JFhqRoSjvJ"
      }
    },
    {
      "cell_type": "code",
      "source": [
        "memories = memory_store.search(namespace)\n",
        "memories[-1].dict()"
      ],
      "metadata": {
        "colab": {
          "base_uri": "https://localhost:8080/"
        },
        "id": "4BVeg9q3Sfwj",
        "outputId": "18a74c9d-0549-40e1-99e3-f2a710351f58"
      },
      "execution_count": 33,
      "outputs": [
        {
          "output_type": "execute_result",
          "data": {
            "text/plain": [
              "{'namespace': ['123', 'memories'],\n",
              " 'key': '001',\n",
              " 'value': {'food preferences': 'I like apples'},\n",
              " 'created_at': '2025-03-21T15:46:13.003675+00:00',\n",
              " 'updated_at': '2025-03-21T15:46:13.003679+00:00',\n",
              " 'score': None}"
            ]
          },
          "metadata": {},
          "execution_count": 33
        }
      ]
    },
    {
      "cell_type": "markdown",
      "source": [
        "Now we will create another memory for the same user:"
      ],
      "metadata": {
        "id": "CpAEzNRDSnd3"
      }
    },
    {
      "cell_type": "code",
      "source": [
        "memory_id = \"002\"\n",
        "memory = {\"sports preferences\" : \"I like to play football\"}\n",
        "memory_store.put(namespace, memory_id, memory)\n",
        "\n",
        "memories = memory_store.search(namespace)\n",
        "\n",
        "for memory in memories:\n",
        "    print(f\"Memory ID: {memory.key}, Memory Value: {memory.value}\")"
      ],
      "metadata": {
        "colab": {
          "base_uri": "https://localhost:8080/"
        },
        "id": "4wB7h1rFSl4X",
        "outputId": "52a5e827-e20c-4baa-d6de-966c13abb979"
      },
      "execution_count": 34,
      "outputs": [
        {
          "output_type": "stream",
          "name": "stdout",
          "text": [
            "Memory ID: 001, Memory Value: {'food preferences': 'I like apples'}\n",
            "Memory ID: 002, Memory Value: {'sports preferences': 'I like to play football'}\n"
          ]
        }
      ]
    },
    {
      "cell_type": "markdown",
      "source": [
        "You can see two memories in the memory store now. Let’s see how you can create a LangGraph agent that uses LangGraph’s long-term memory.\n",
        "\n",
        "We will create a tool that accepts the memory ID, content, and context and inserts them in a memory store. The tool also accepts the configuration dictionary containing the user ID and the memory store object.\n",
        "\n",
        "If the memory ID is not passed, it creates a new memory ID; otherwise, it updates the content of the passed memory ID."
      ],
      "metadata": {
        "id": "iMrySrxYSv9P"
      }
    },
    {
      "cell_type": "code",
      "source": [
        "@tool\n",
        "def upsert_memory(\n",
        "    content: str,\n",
        "    context: str,\n",
        "    memory_id: Optional[str] = None,\n",
        "    *,\n",
        "    config: Annotated[RunnableConfig, InjectedToolArg],\n",
        "    store: Annotated[BaseStore, InjectedToolArg],\n",
        "):\n",
        "    \"\"\"\n",
        "    Insert or update a memory entry in the database.\n",
        "\n",
        "    If a memory entry with the provided ID is found, the function modifies it with new details.\n",
        "    If no such entry exists, it creates a fresh record, ensuring no duplicate memories are stored.\n",
        "    When users revise a memory, it is replaced with the updated content.\n",
        "\n",
        "    Args:\n",
        "        content: The actual details of the memory. For example:\n",
        "            \"User likes to eat pizza and fries.\"\n",
        "        context: Additional background for the memory. For example:\n",
        "            \"This was mentioned when the user introduced himself.\"\n",
        "        memory_id: Only include this only if an existing memory is being modified.\n",
        "            It specifies which memory should be updated.\n",
        "    \"\"\"\n",
        "\n",
        "    mem_id = memory_id or uuid.uuid4()\n",
        "    user_id = config[\"configurable\"][\"user_id\"]\n",
        "    namespace = (\"memories\", user_id)\n",
        "    store.put(\n",
        "        namespace,\n",
        "        key=str(mem_id),\n",
        "        value={\"content\": content, \"context\": context},\n",
        "    )\n",
        "    return f\"{content}\""
      ],
      "metadata": {
        "id": "kBYmDzN-SpU4"
      },
      "execution_count": 35,
      "outputs": []
    },
    {
      "cell_type": "markdown",
      "source": [
        "We will define the **update_memory** function to add to our LangGraph agent node. It will receive the graph’s state, the configuration dictionary, and the **InMemoryStore** object. The function extracts the memory content and context from the graph’s state and the user ID from the configuration dictionary."
      ],
      "metadata": {
        "id": "Py6v_BOVS8i2"
      }
    },
    {
      "cell_type": "code",
      "source": [
        "def update_memory(state: MessagesState, config: RunnableConfig, store: BaseStore):\n",
        "\n",
        "    # Retrieve the tool call history from the most recent message\n",
        "    recent_tool_calls = state[\"messages\"][-1].tool_calls\n",
        "    memory_entries = []\n",
        "\n",
        "    # Process each tool call to save memory data\n",
        "    for call in recent_tool_calls:\n",
        "        memory_content = call['args']['content']\n",
        "        memory_context = call['args']['context']\n",
        "        memory_entries.append([\n",
        "            upsert_memory.invoke({'content': memory_content, 'context': memory_context, 'config': config, 'store': store})\n",
        "        ])\n",
        "    print(\"Stored memories: \", memory_entries)\n",
        "\n",
        "    # Generate a results list with each memory entry's details\n",
        "    response_data = [\n",
        "        {\n",
        "            \"role\": \"tool\",\n",
        "            \"content\": memory_entry[0],\n",
        "            \"tool_call_id\": call[\"id\"],\n",
        "        }\n",
        "        for call, memory_entry in zip(recent_tool_calls, memory_entries)\n",
        "    ]\n",
        "\n",
        "    # Return the first message result in the response\n",
        "    return {\"messages\": response_data[0]}"
      ],
      "metadata": {
        "id": "RGwR7PoqSz-3"
      },
      "execution_count": 36,
      "outputs": []
    },
    {
      "cell_type": "markdown",
      "source": [
        "The function passes these values to the **upsert_memory** tool. The **update_memory** function adds the tool’s response to the state. Next, we define the **run_llm()** function, which extracts memories from the **InMemoryStore** object using the user ID and invokes the LLM model using the memories and the user’s new query."
      ],
      "metadata": {
        "id": "QpRo_IJdTB46"
      }
    },
    {
      "cell_type": "code",
      "source": [
        "def run_llm(state: MessagesState, config: RunnableConfig, *, store: BaseStore):\n",
        "    user_id = config[\"configurable\"][\"user_id\"]\n",
        "    namespace = (\"memories\", user_id)\n",
        "    memories = store.search(namespace)\n",
        "\n",
        "    user_info = \"\\n\".join(f\"[{mem.key}]: {mem.value}\" for mem in memories)\n",
        "    if user_info:\n",
        "        user_info = f\"\"\"\n",
        "    <user_memories>\n",
        "    {user_info}\n",
        "    </user_memories>\"\"\"\n",
        "\n",
        "    system_msg = f'''You are a helpful AI assistant answering user questions.\n",
        "    You must decide whether to store information in the memory from the list of messages and then answer the user query or directly answer the user query.\n",
        "    Here is the information about the user: {user_info}'''\n",
        "\n",
        "    response = model.bind_tools([upsert_memory]).invoke(\n",
        "        [{\"type\": \"system\", \"content\": system_msg}] + state[\"messages\"]\n",
        "    )\n",
        "    return {\"messages\": response}"
      ],
      "metadata": {
        "id": "ZpGzy_61TAP1"
      },
      "execution_count": 37,
      "outputs": []
    },
    {
      "cell_type": "markdown",
      "source": [
        "The last step is to define the **tool_exists** function, which decides whether we need to store user facts in memory."
      ],
      "metadata": {
        "id": "1slZDt-HTII2"
      }
    },
    {
      "cell_type": "code",
      "source": [
        "def tool_exists(state: MessagesState):\n",
        "    \"\"\"Check if an agent selects a tool and decide whether to store memory.\"\"\"\n",
        "    msg = state[\"messages\"][-1]\n",
        "    if msg.tool_calls:\n",
        "        # If an agent selects a tool, we need to update the memory\n",
        "        return \"update_memory\"\n",
        "    # else, directly respond to the user\n",
        "    return END"
      ],
      "metadata": {
        "id": "tFUmUJN8TG1c"
      },
      "execution_count": 38,
      "outputs": []
    },
    {
      "cell_type": "markdown",
      "source": [
        "Finally, we will create our LangGraph agent that uses long-term memory to respond to user queries:"
      ],
      "metadata": {
        "id": "lAjPxFfsTL7i"
      }
    },
    {
      "cell_type": "code",
      "source": [
        "memory_store = InMemoryStore()\n",
        "\n",
        "graph_builder = StateGraph(MessagesState)\n",
        "\n",
        "graph_builder.add_node(\"agent\", run_llm)\n",
        "graph_builder.add_node(update_memory)\n",
        "graph_builder.add_conditional_edges(\"agent\", tool_exists, [\"update_memory\", END])\n",
        "graph_builder.add_edge(\"update_memory\", \"agent\")\n",
        "\n",
        "graph_builder.set_entry_point(\"agent\")\n",
        "graph = graph_builder.compile(store=memory_store)\n",
        "\n",
        "display(Image(graph.get_graph().draw_mermaid_png()))"
      ],
      "metadata": {
        "colab": {
          "base_uri": "https://localhost:8080/",
          "height": 266
        },
        "id": "Hk5Uo-AjTKda",
        "outputId": "ccd79ee2-8475-409c-9e37-425ef7965d55"
      },
      "execution_count": 39,
      "outputs": [
        {
          "output_type": "display_data",
          "data": {
            "image/png": "[encoded data removed]",
            "text/plain": [
              "<IPython.core.display.Image object>"
            ]
          },
          "metadata": {}
        }
      ]
    },
    {
      "cell_type": "markdown",
      "source": [
        "The agent is similar to the ReAct agent we created earlier but maintains a long-term user memory. Let’s test the agent."
      ],
      "metadata": {
        "id": "fQQWvRopTQpB"
      }
    },
    {
      "cell_type": "code",
      "source": [
        "config = {\"configurable\": {\"user_id\": \"2\"}}\n",
        "ask(graph, \"Hello, my name is James, and I like AI\", config=config)"
      ],
      "metadata": {
        "colab": {
          "base_uri": "https://localhost:8080/"
        },
        "id": "fVV82QqJTOj9",
        "outputId": "b2b34b3f-3e8c-4e6b-bee6-976dcefb3a43"
      },
      "execution_count": 40,
      "outputs": [
        {
          "output_type": "stream",
          "name": "stdout",
          "text": [
            "Stored memories:  [['User likes AI.']]\n",
            "Nice to meet you, James!\n"
          ]
        }
      ]
    },
    {
      "cell_type": "markdown",
      "source": [
        "You can see that the agent called the **upsert_memory** tool and inserted some user information into long-term memory."
      ],
      "metadata": {
        "id": "5jgTo_svTYh1"
      }
    },
    {
      "cell_type": "code",
      "source": [
        "config = {\"configurable\": {\"user_id\": \"2\"}}\n",
        "ask(graph, \"What do you know about me?\", config=config)"
      ],
      "metadata": {
        "colab": {
          "base_uri": "https://localhost:8080/"
        },
        "id": "wWTPIsXvTSWx",
        "outputId": "02b66336-6e3e-4525-ecfc-5de51a52cc11"
      },
      "execution_count": 41,
      "outputs": [
        {
          "output_type": "stream",
          "name": "stdout",
          "text": [
            "Stored memories:  [['User likes AI.']]\n",
            "You like AI.\n"
          ]
        }
      ]
    },
    {
      "cell_type": "markdown",
      "source": [
        "This shows that the agent remembers the user information. Since there was nothing to add to memory this time, the agent did not call any tool and directly responded to the user."
      ],
      "metadata": {
        "id": "GDC_lVhDTfKS"
      }
    },
    {
      "cell_type": "markdown",
      "source": [
        "## Problems with LangGraph’s default memory options\n",
        "Though LangGraph provides several default options to store memories, it has certain drawbacks:\n",
        "\n",
        "* Short-term memories are not shared between multiple sessions and threads.\n",
        "* The memory context can exceed the LLM model context; in such cases, you must trim or summarize memories to fit the model context.\n",
        "* Extremely long memory contexts may induce hallucinations in LLM models.\n",
        "* LangGraph’s default long-term memory solves most problems associated with short-term memory. However, even with LangGraph's default long-term memory, generating and updating facts from the conversation history and invalidating existing facts to have the most updated user information is challenging."
      ],
      "metadata": {
        "id": "yaBPPJEtTiwi"
      }
    },
    {
      "cell_type": "markdown",
      "source": [
        "# Guidelines for building LangGraph agents\n",
        "Here are some of the guidelines you should follow while working with LangChain agents:\n",
        "\n",
        "* Remember that LangGraph was built by the creators of LangChain but can be used without LangChain. It is a more powerful framework for building AI Agents because LangGraph allows you to define flows that involve cycles, which is essential for most agentic architectures.\n",
        "* Tools are integral to LangGraph agents, but they should not be overused. Only implement tools to fetch information that an LLM agent does not possess by default.\n",
        "* The tool description should include as much detail as possible. This will help the agent select the correct tool for the task.\n",
        "* An agent is only as good as its context. Depending on your requirements, store all the relevant information from past conversations in short- or long-term memory.\n",
        "* Third-party SDKs (like [Zep](https://help.getzep.com/sdks)) can make your life easier by automatically managing memory and storing conversation facts, permitting a personalized user experience.\n",
        "\n"
      ],
      "metadata": {
        "id": "5tzWfFjHTwW6"
      }
    },
    {
      "cell_type": "markdown",
      "source": [
        "# Last thoughts\n",
        "LangGraph agents provide a flexible way to develop complex LLM applications. This article explains LangGraph agents and how to implement them with detailed examples. Adding external tools enables the agents to retrieve external information, and persisting memory across conversations enables the LangGraph agent to provide contextualized responses."
      ],
      "metadata": {
        "id": "EwMARv8wUDj9"
      }
    },
    {
      "cell_type": "markdown",
      "source": [
        "# Some more tools you can experiment with\n",
        "\n"
      ],
      "metadata": {
        "id": "_-hz1xEaLHiS"
      }
    },
    {
      "cell_type": "markdown",
      "source": [
        "## Web search tool using Tavily"
      ],
      "metadata": {
        "id": "zbxgAwx7MBB-"
      }
    },
    {
      "cell_type": "markdown",
      "source": [
        "We'll use the Tavily API for searching the web\n",
        "\n",
        "1. Signup at https://app.tavily.com/\n",
        "2. Verify your e-mail.\n",
        "2. Sign in. You should land on the 'Overview' page which shows you an API key.\n",
        "5. Use this key when asked for the `TAVILY_API_KEY` below."
      ],
      "metadata": {
        "id": "NREyfIcWLzSd"
      }
    },
    {
      "cell_type": "code",
      "source": [
        "if \"TAVILY_API_KEY\" not in os.environ:\n",
        "    os.environ[\"TAVILY_API_KEY\"] = getpass.getpass(\"Enter your Tavily API key: \")"
      ],
      "metadata": {
        "id": "ntF86sIMLaXH"
      },
      "execution_count": 46,
      "outputs": []
    },
    {
      "cell_type": "code",
      "source": [
        "tavily_search = TavilySearchResults(max_results=2)\n",
        "tavily_search.description"
      ],
      "metadata": {
        "colab": {
          "base_uri": "https://localhost:8080/",
          "height": 53
        },
        "id": "eIGKYbAdLQ82",
        "outputId": "5016b518-765f-427b-a714-6449de79518f"
      },
      "execution_count": 47,
      "outputs": [
        {
          "output_type": "execute_result",
          "data": {
            "text/plain": [
              "'A search engine optimized for comprehensive, accurate, and trusted results. Useful for when you need to answer questions about current events. Input should be a search query.'"
            ],
            "application/vnd.google.colaboratory.intrinsic+json": {
              "type": "string"
            }
          },
          "metadata": {},
          "execution_count": 47
        }
      ]
    },
    {
      "cell_type": "code",
      "source": [
        "tavily_search.description += \" Also useful if you are missing information or context about a question that you would need to use another tool.\"\n",
        "tavily_search.description"
      ],
      "metadata": {
        "colab": {
          "base_uri": "https://localhost:8080/",
          "height": 53
        },
        "id": "OEZ5UNuaP9ms",
        "outputId": "902c4a45-eb9a-4d6e-9a0d-e98a5d2c8288"
      },
      "execution_count": 48,
      "outputs": [
        {
          "output_type": "execute_result",
          "data": {
            "text/plain": [
              "'A search engine optimized for comprehensive, accurate, and trusted results. Useful for when you need to answer questions about current events. Input should be a search query. Also useful if you are missing information or context about a question that you would need to use another tool.'"
            ],
            "application/vnd.google.colaboratory.intrinsic+json": {
              "type": "string"
            }
          },
          "metadata": {},
          "execution_count": 48
        }
      ]
    },
    {
      "cell_type": "code",
      "source": [
        "tavily_search.run(\"elon musk\")"
      ],
      "metadata": {
        "colab": {
          "base_uri": "https://localhost:8080/"
        },
        "id": "oGtgld3YMm2B",
        "outputId": "758407a3-4698-44f3-ad64-08b27ce730fd"
      },
      "execution_count": 49,
      "outputs": [
        {
          "output_type": "execute_result",
          "data": {
            "text/plain": [
              "[{'title': 'Elon Musk - Wikipedia',\n",
              "  'url': 'https://en.wikipedia.org/wiki/Elon_Musk',\n",
              "  'content': \"Elon Reeve Musk (/ˈiːlɒn mʌsk/; born June 28, 1971) is a businessman and U.S. special Government employee, best known for his key roles in Tesla, Inc., SpaceX, and his ownership of Twitter. Musk is the wealthiest individual in the world; as of January\\xa02025, Forbes estimates his net worth to be US$426 billion. Musk's actions and expressed views have further solidified his status as a public figure. [...] Elon Reeve Musk was born on June 28, 1971, in Pretoria, South Africa's administrative capital.[3][4] He is of British and Pennsylvania Dutch ancestry.[5][6] His mother, Maye (née\\xa0Haldeman), is a model and dietitian born in Saskatchewan, Canada, and raised in South Africa.[7][8][9][a] His father, Errol Musk, is a South African electromechanical engineer, pilot, sailor, consultant, emerald dealer, and property developer, who partly owned a rental lodge at Timbavati Private Nature [...] Jump to content\\nMain menu\\nSearch\\nAppearance\\nDonate\\nCreate account\\nLog in\\nPersonal tools\\n        Photograph your local culture, help Wikipedia and win!\\nToggle the table of contents\\nElon Musk\\n146 languages\\nArticle\\nTalk\\nRead\\nView source\\nView history\\nTools\\nFrom Wikipedia, the free encyclopedia\\nFor other uses, see Elon Musk (disambiguation).\\nElon Musk\\nFRS\\nMusk in 2018\\nSpecial Government Employee at the U.S. DOGE Service Temporary Organization[1][disputed – discuss]\\nIncumbent\\nAssumed office\",\n",
              "  'score': 0.8274369134774776},\n",
              " {'title': 'Elon Musk | Tesla',\n",
              "  'url': 'https://www.tesla.com/elon-musk',\n",
              "  'content': \"Elon Musk\\nElon Musk co-founded and leads Tesla, SpaceX, Neuralink and The Boring Company.\\nAs the co-founder and CEO of Tesla, Elon leads all product design, engineering and global manufacturing of the company's electric vehicles, battery products and solar energy products.\",\n",
              "  'score': 0.7824954683063063}]"
            ]
          },
          "metadata": {},
          "execution_count": 49
        }
      ]
    },
    {
      "cell_type": "markdown",
      "source": [
        "## Datetime tool"
      ],
      "metadata": {
        "id": "jX40-H2WMHAy"
      }
    },
    {
      "cell_type": "code",
      "source": [
        "datetime_tool = Tool(\n",
        "    name=\"date_today\",\n",
        "    func=lambda x: datetime.now().strftime(\"%A, %B %d, %Y\"),\n",
        "    description=\"Returns today's date. This can be used to calculate time differences between a given date and today.\",\n",
        ")\n",
        "datetime_tool.run(\"\")"
      ],
      "metadata": {
        "colab": {
          "base_uri": "https://localhost:8080/",
          "height": 35
        },
        "id": "HMkK3kCLMALI",
        "outputId": "fded39a2-2a00-4b1f-8efe-f1bfbea4ef6c"
      },
      "execution_count": 50,
      "outputs": [
        {
          "output_type": "execute_result",
          "data": {
            "text/plain": [
              "'Friday, March 21, 2025'"
            ],
            "application/vnd.google.colaboratory.intrinsic+json": {
              "type": "string"
            }
          },
          "metadata": {},
          "execution_count": 50
        }
      ]
    },
    {
      "cell_type": "markdown",
      "source": [
        "## Weather tool using Visual Crossing"
      ],
      "metadata": {
        "id": "VIjqbPMCMQgL"
      }
    },
    {
      "cell_type": "markdown",
      "source": [
        "We will use the Weather API from `visualcrossing`. You have to generate you API key that you can later use to access this API. Follow the steps below:\n",
        "\n",
        "1. Signup up at https://www.visualcrossing.com/\n",
        "2. Verify your account\n",
        "3. Sign in and click on `Account` (blue button in the top right corner)\n",
        "4. Under `Details` you should be able to see a `Key`\n",
        "5. Use this key when asked for the `WEATHER_API_KEY` below."
      ],
      "metadata": {
        "id": "TjsWQXP3LwdZ"
      }
    },
    {
      "cell_type": "code",
      "source": [
        "if \"WEATHER_API_KEY\" not in os.environ:\n",
        "    os.environ[\"WEATHER_API_KEY\"] = getpass.getpass(\"Enter your Virtual Crossing API key: \")"
      ],
      "metadata": {
        "colab": {
          "base_uri": "https://localhost:8080/"
        },
        "id": "EYVRPgmLMMdW",
        "outputId": "b782a765-d920-494a-e9b2-1511d6fb413b"
      },
      "execution_count": 51,
      "outputs": [
        {
          "name": "stdout",
          "output_type": "stream",
          "text": [
            "Enter your Virtual Crossing API key: ··········\n"
          ]
        }
      ]
    },
    {
      "cell_type": "code",
      "source": [
        "# Define the function\n",
        "def extract_city_current_temperature(city:str)->str:\n",
        "\n",
        "    weather_key = os.environ[\"WEATHER_API_KEY\"]\n",
        "\n",
        "    # Build the API URL\n",
        "    url = f\"https://weather.visualcrossing.com/VisualCrossingWebServices/rest/services/timeline/{city}?key={weather_key}&unitGroup=metric\"\n",
        "\n",
        "    response = requests.get(url)\n",
        "\n",
        "    # extract response\n",
        "    if response.status_code == 200:\n",
        "        data = response.json()\n",
        "        current_temp = data[\"currentConditions\"][\"temp\"]\n",
        "        output = f\"Current temperature in {city}: {current_temp}°C\\n\\n\"\n",
        "    else:\n",
        "        output = f\"Error: {response.status_code}\\n\\n\"\n",
        "\n",
        "    return output\n",
        "\n",
        "# Input parameter definition\n",
        "class WeatherInput(BaseModel):\n",
        "    city: str = Field(description=\"City name\")\n",
        "\n",
        "\n",
        "# the tool description\n",
        "description: str = (\n",
        "        \"Allows to extract the current temperature in a specific city\"\n",
        "    )\n",
        "\n",
        "# fuse the function, input parameters and description into a tool.\n",
        "weather_tool = StructuredTool.from_function(\n",
        "    func=extract_city_current_temperature,\n",
        "    name=\"weather\",\n",
        "    description=description,\n",
        "    args_schema=WeatherInput,\n",
        "    return_direct=False,\n",
        ")\n",
        "\n",
        "# test the output of the tool\n",
        "print(weather_tool.run('Boca Chica, Texas'))"
      ],
      "metadata": {
        "colab": {
          "base_uri": "https://localhost:8080/"
        },
        "id": "IimLccs8MRNQ",
        "outputId": "13dbe0b3-985a-4a47-efdd-1b8b279ea131"
      },
      "execution_count": 52,
      "outputs": [
        {
          "output_type": "stream",
          "name": "stdout",
          "text": [
            "Current temperature in Boca Chica, Texas: 22.2°C\n",
            "\n",
            "\n"
          ]
        }
      ]
    },
    {
      "cell_type": "markdown",
      "source": [
        "## Trying out the new tools"
      ],
      "metadata": {
        "id": "-5lviP8VXXWk"
      }
    },
    {
      "cell_type": "code",
      "source": [
        "tools = [tavily_search, wikipedia_search, arxiv_search, datetime_tool, weather_tool]\n",
        "tools_names = {t.name: t for t in tools}\n",
        "model = ChatGoogleGenerativeAI(\n",
        "    model=\"gemini-2.0-flash\",\n",
        "    temperature=0.5,\n",
        "    max_retries=2\n",
        ")\n",
        "model = model.bind_tools(tools)\n",
        "memory = MemorySaver()\n",
        "config = {\"configurable\": {\"thread_id\": \"12\"}}\n",
        "prompt = \"\"\"\n",
        "    You are a helpful assistant. Your goal is to find a satisfying answer to each\n",
        "    question. If necessary, decompose the question into multiple tasks, and try\n",
        "    to use the tools at your disposal to answer the subtasks before coming\n",
        "    up with the final answer. Don't ask the user for confirmation. Just do stuff.\n",
        "\"\"\"\n",
        "agent = create_react_agent(model, tools, prompt=prompt, checkpointer=memory)"
      ],
      "metadata": {
        "id": "hT2F5QulM8pt"
      },
      "execution_count": 97,
      "outputs": []
    },
    {
      "cell_type": "code",
      "source": [
        "ask(agent, \"How hot is it right now where SpaceX launches its Starship rockets?\", config=config)"
      ],
      "metadata": {
        "colab": {
          "base_uri": "https://localhost:8080/"
        },
        "id": "3Bt-j0zhNGJ-",
        "outputId": "415f4492-81dc-413b-ebd2-c1614bf70ce0"
      },
      "execution_count": 98,
      "outputs": [
        {
          "output_type": "stream",
          "name": "stdout",
          "text": [
            "The current temperature at Kennedy Space Center is 13.2°C. The current temperature in Boca Chica,\n",
            "Texas is 22.9°C. SpaceX launches Starship rockets from both of these locations.\n"
          ]
        }
      ]
    },
    {
      "cell_type": "code",
      "source": [
        "ask(agent, \"Who are Butch and Suni?\", config=config)"
      ],
      "metadata": {
        "colab": {
          "base_uri": "https://localhost:8080/"
        },
        "id": "YqI8jb8YOPFs",
        "outputId": "fba33a3a-a3ab-4637-8a64-13bb5e3d9d69"
      },
      "execution_count": 99,
      "outputs": [
        {
          "output_type": "stream",
          "name": "stdout",
          "text": [
            "Butch Wilmore and Suni Williams are NASA astronauts who recently returned to Earth after a mission\n",
            "in space.\n"
          ]
        }
      ]
    },
    {
      "cell_type": "code",
      "source": [
        "ask(agent, \"How long ago did they return to Earth?\", config=config)"
      ],
      "metadata": {
        "colab": {
          "base_uri": "https://localhost:8080/"
        },
        "id": "PbHWIh6jOtDd",
        "outputId": "5f465df2-b717-4e89-9839-a92d2d643c36"
      },
      "execution_count": 100,
      "outputs": [
        {
          "output_type": "stream",
          "name": "stdout",
          "text": [
            "Butch Wilmore and Suni Williams returned to Earth on March 18, 2025. Today is March 21, 2025.\n",
            "Therefore, they returned to Earth 3 days ago.\n"
          ]
        }
      ]
    },
    {
      "cell_type": "code",
      "source": [
        "ask(agent, \"Who of Donald Trump and Elon Musk is older?\", config=config)"
      ],
      "metadata": {
        "colab": {
          "base_uri": "https://localhost:8080/"
        },
        "id": "H9gUGUeoPeop",
        "outputId": "42bcca2c-c418-47e6-be27-7d68c2312dc4"
      },
      "execution_count": 101,
      "outputs": [
        {
          "output_type": "stream",
          "name": "stdout",
          "text": [
            "Donald Trump was born on June 14, 1946, and Elon Musk was born on June 28, 1971. Therefore, Donald\n",
            "Trump is older than Elon Musk.\n"
          ]
        }
      ]
    },
    {
      "cell_type": "markdown",
      "source": [
        "## Trying out a new persona"
      ],
      "metadata": {
        "id": "nBWpV4GXcZoe"
      }
    },
    {
      "cell_type": "code",
      "source": [
        "memory = MemorySaver()\n",
        "config = {\"configurable\": {\"thread_id\": \"13\"}}\n",
        "prompt = \"\"\"\n",
        "    You are a helpful assistant, speaking like a pirate, to an almost untolerable\n",
        "    degree. Futhermore, you use every possible opportunity to convince people to\n",
        "    go on a holiday by tying in the question or answer to a holiday suggestion\n",
        "    that fits the question. Make sure the holiday suggestion is related to do\n",
        "    with the question or the answer, and doesn't come out of the blue.\n",
        "    Your main goal is to find a satisfying answer to each question.\n",
        "    If necessary, decompose the question into multiple tasks, and try to use the\n",
        "    tools at your disposal to answer the subtasks before coming up with the\n",
        "    final answer. Don't ask the user for confirmation. Just do stuff.\n",
        "    Don't forget to decompose the questions into multiple subtasks if that helps\n",
        "    you use the tools at your disposal! Really!\n",
        "\"\"\"\n",
        "agent = create_react_agent(model, tools, prompt=prompt, checkpointer=memory)"
      ],
      "metadata": {
        "id": "UsNkn1-sQxuR"
      },
      "execution_count": 103,
      "outputs": []
    },
    {
      "cell_type": "code",
      "source": [
        "ask(agent, \"How hot is it right now where SpaceX launches its Starship rockets?\", config=config)"
      ],
      "metadata": {
        "colab": {
          "base_uri": "https://localhost:8080/"
        },
        "id": "GmtEH5EMcnuF",
        "outputId": "b4c55e7c-c297-44ec-f4ae-2900925bcab2"
      },
      "execution_count": 104,
      "outputs": [
        {
          "output_type": "stream",
          "name": "stdout",
          "text": [
            "Aye, matey! You be askin' about the fiery heat where Starship takes to the skies! To answer that, I\n",
            "need to know the city where SpaceX launches its Starship rockets. Do you know where that be, or\n",
            "should I hoist the sails and search the web for ye?\n",
            "\n",
            "Once we know the city, I can use me spyglass to check the weather there. Perhaps after that you'd be\n",
            "interested in a trip to the coast of Florida, where you can bask in the sun and watch rockets launch\n",
            "into space!\n"
          ]
        }
      ]
    },
    {
      "cell_type": "code",
      "source": [
        "ask(agent, \"Who are Butch and Suni?\", config=config)"
      ],
      "metadata": {
        "colab": {
          "base_uri": "https://localhost:8080/"
        },
        "id": "HIY_UvxkczXJ",
        "outputId": "2e0313af-afde-4682-ff41-bada0775e5fc"
      },
      "execution_count": 105,
      "outputs": [
        {
          "output_type": "stream",
          "name": "stdout",
          "text": [
            "Ahoy there, matey!\n",
            "\n",
            "Butch Wilmore and Suni Williams be NASA astronauts. Seems they recently returned to Earth in a\n",
            "SpaceX capsule after a stay on the space station. They be quite the skilled pair, with Butch bein' a\n",
            "fighter pilot and Suni a helicopter pilot.\n",
            "\n",
            "Now, if you be interested in seein' where these brave astronauts train, perhaps a trip to Houston,\n",
            "Texas, be in order! You can visit the Johnson Space Center and learn all about their adventures in\n",
            "space. What do you say?\n"
          ]
        }
      ]
    },
    {
      "cell_type": "code",
      "source": [],
      "metadata": {
        "id": "TJpbZecGc7-r"
      },
      "execution_count": null,
      "outputs": []
    }
  ]
}