{
  "nbformat": 4,
  "nbformat_minor": 0,
  "metadata": {
    "colab": {
      "provenance": [],
      "toc_visible": true
    },
    "kernelspec": {
      "name": "python3",
      "display_name": "Python 3"
    },
    "language_info": {
      "name": "python"
    }
  },
  "cells": [
    {
      "cell_type": "markdown",
      "source": [
        "# Using a pre-built LangGraph agent"
      ],
      "metadata": {
        "id": "tLSBFGnSbrZ_"
      }
    },
    {
      "cell_type": "markdown",
      "source": [
        "## Installing and importing required libraries\n",
        "This article uses the Python version of LangGraph for examples. To run scripts in this section and the upcoming sections, you need to install the following Python libraries, which allow you to access the various LangGraph functions and tools you will incorporate into your agents."
      ],
      "metadata": {
        "id": "kyJ6rFBcJIbV"
      }
    },
    {
      "cell_type": "code",
      "source": [
        "!pip install langchain-core\n",
        "!pip install -U langgraph\n",
        "!pip install langchain-community\n",
        "!pip install --upgrade --quiet wikipedia\n",
        "!pip install arxiv\n",
        "!pip install langchain-google-genai"
      ],
      "metadata": {
        "colab": {
          "base_uri": "https://localhost:8080/",
          "height": 1000
        },
        "id": "XtEQb_xHJLaK",
        "outputId": "19488a44-f44a-43d2-f2d5-873305824b44"
      },
      "execution_count": 1,
      "outputs": [
        {
          "output_type": "stream",
          "name": "stdout",
          "text": [
            "Requirement already satisfied: langchain-core in /usr/local/lib/python3.11/dist-packages (0.3.47)\n",
            "Requirement already satisfied: langsmith<0.4,>=0.1.125 in /usr/local/lib/python3.11/dist-packages (from langchain-core) (0.3.18)\n",
            "Requirement already satisfied: tenacity!=8.4.0,<10.0.0,>=8.1.0 in /usr/local/lib/python3.11/dist-packages (from langchain-core) (9.0.0)\n",
            "Requirement already satisfied: jsonpatch<2.0,>=1.33 in /usr/local/lib/python3.11/dist-packages (from langchain-core) (1.33)\n",
            "Requirement already satisfied: PyYAML>=5.3 in /usr/local/lib/python3.11/dist-packages (from langchain-core) (6.0.2)\n",
            "Requirement already satisfied: packaging<25,>=23.2 in /usr/local/lib/python3.11/dist-packages (from langchain-core) (24.2)\n",
            "Requirement already satisfied: typing-extensions>=4.7 in /usr/local/lib/python3.11/dist-packages (from langchain-core) (4.12.2)\n",
            "Requirement already satisfied: pydantic<3.0.0,>=2.5.2 in /usr/local/lib/python3.11/dist-packages (from langchain-core) (2.10.6)\n",
            "Requirement already satisfied: jsonpointer>=1.9 in /usr/local/lib/python3.11/dist-packages (from jsonpatch<2.0,>=1.33->langchain-core) (3.0.0)\n",
            "Requirement already satisfied: httpx<1,>=0.23.0 in /usr/local/lib/python3.11/dist-packages (from langsmith<0.4,>=0.1.125->langchain-core) (0.28.1)\n",
            "Requirement already satisfied: orjson<4.0.0,>=3.9.14 in /usr/local/lib/python3.11/dist-packages (from langsmith<0.4,>=0.1.125->langchain-core) (3.10.15)\n",
            "Requirement already satisfied: requests<3,>=2 in /usr/local/lib/python3.11/dist-packages (from langsmith<0.4,>=0.1.125->langchain-core) (2.32.3)\n",
            "Requirement already satisfied: requests-toolbelt<2.0.0,>=1.0.0 in /usr/local/lib/python3.11/dist-packages (from langsmith<0.4,>=0.1.125->langchain-core) (1.0.0)\n",
            "Requirement already satisfied: zstandard<0.24.0,>=0.23.0 in /usr/local/lib/python3.11/dist-packages (from langsmith<0.4,>=0.1.125->langchain-core) (0.23.0)\n",
            "Requirement already satisfied: annotated-types>=0.6.0 in /usr/local/lib/python3.11/dist-packages (from pydantic<3.0.0,>=2.5.2->langchain-core) (0.7.0)\n",
            "Requirement already satisfied: pydantic-core==2.27.2 in /usr/local/lib/python3.11/dist-packages (from pydantic<3.0.0,>=2.5.2->langchain-core) (2.27.2)\n",
            "Requirement already satisfied: anyio in /usr/local/lib/python3.11/dist-packages (from httpx<1,>=0.23.0->langsmith<0.4,>=0.1.125->langchain-core) (4.9.0)\n",
            "Requirement already satisfied: certifi in /usr/local/lib/python3.11/dist-packages (from httpx<1,>=0.23.0->langsmith<0.4,>=0.1.125->langchain-core) (2025.1.31)\n",
            "Requirement already satisfied: httpcore==1.* in /usr/local/lib/python3.11/dist-packages (from httpx<1,>=0.23.0->langsmith<0.4,>=0.1.125->langchain-core) (1.0.7)\n",
            "Requirement already satisfied: idna in /usr/local/lib/python3.11/dist-packages (from httpx<1,>=0.23.0->langsmith<0.4,>=0.1.125->langchain-core) (3.10)\n",
            "Requirement already satisfied: h11<0.15,>=0.13 in /usr/local/lib/python3.11/dist-packages (from httpcore==1.*->httpx<1,>=0.23.0->langsmith<0.4,>=0.1.125->langchain-core) (0.14.0)\n",
            "Requirement already satisfied: charset-normalizer<4,>=2 in /usr/local/lib/python3.11/dist-packages (from requests<3,>=2->langsmith<0.4,>=0.1.125->langchain-core) (3.4.1)\n",
            "Requirement already satisfied: urllib3<3,>=1.21.1 in /usr/local/lib/python3.11/dist-packages (from requests<3,>=2->langsmith<0.4,>=0.1.125->langchain-core) (2.3.0)\n",
            "Requirement already satisfied: sniffio>=1.1 in /usr/local/lib/python3.11/dist-packages (from anyio->httpx<1,>=0.23.0->langsmith<0.4,>=0.1.125->langchain-core) (1.3.1)\n",
            "Collecting langgraph\n",
            "  Downloading langgraph-0.3.20-py3-none-any.whl.metadata (7.7 kB)\n",
            "Requirement already satisfied: langchain-core<0.4,>=0.1 in /usr/local/lib/python3.11/dist-packages (from langgraph) (0.3.47)\n",
            "Collecting langgraph-checkpoint<3.0.0,>=2.0.10 (from langgraph)\n",
            "  Downloading langgraph_checkpoint-2.0.23-py3-none-any.whl.metadata (4.6 kB)\n",
            "Collecting langgraph-prebuilt<0.2,>=0.1.1 (from langgraph)\n",
            "  Downloading langgraph_prebuilt-0.1.7-py3-none-any.whl.metadata (5.0 kB)\n",
            "Collecting langgraph-sdk<0.2.0,>=0.1.42 (from langgraph)\n",
            "  Downloading langgraph_sdk-0.1.59-py3-none-any.whl.metadata (1.8 kB)\n",
            "Collecting xxhash<4.0.0,>=3.5.0 (from langgraph)\n",
            "  Downloading xxhash-3.5.0-cp311-cp311-manylinux_2_17_x86_64.manylinux2014_x86_64.whl.metadata (12 kB)\n",
            "Requirement already satisfied: langsmith<0.4,>=0.1.125 in /usr/local/lib/python3.11/dist-packages (from langchain-core<0.4,>=0.1->langgraph) (0.3.18)\n",
            "Requirement already satisfied: tenacity!=8.4.0,<10.0.0,>=8.1.0 in /usr/local/lib/python3.11/dist-packages (from langchain-core<0.4,>=0.1->langgraph) (9.0.0)\n",
            "Requirement already satisfied: jsonpatch<2.0,>=1.33 in /usr/local/lib/python3.11/dist-packages (from langchain-core<0.4,>=0.1->langgraph) (1.33)\n",
            "Requirement already satisfied: PyYAML>=5.3 in /usr/local/lib/python3.11/dist-packages (from langchain-core<0.4,>=0.1->langgraph) (6.0.2)\n",
            "Requirement already satisfied: packaging<25,>=23.2 in /usr/local/lib/python3.11/dist-packages (from langchain-core<0.4,>=0.1->langgraph) (24.2)\n",
            "Requirement already satisfied: typing-extensions>=4.7 in /usr/local/lib/python3.11/dist-packages (from langchain-core<0.4,>=0.1->langgraph) (4.12.2)\n",
            "Requirement already satisfied: pydantic<3.0.0,>=2.5.2 in /usr/local/lib/python3.11/dist-packages (from langchain-core<0.4,>=0.1->langgraph) (2.10.6)\n",
            "Collecting ormsgpack<2.0.0,>=1.8.0 (from langgraph-checkpoint<3.0.0,>=2.0.10->langgraph)\n",
            "  Downloading ormsgpack-1.9.0-cp311-cp311-manylinux_2_17_x86_64.manylinux2014_x86_64.whl.metadata (43 kB)\n",
            "\u001b[2K     \u001b[90m━━━━━━━━━━━━━━━━━━━━━━━━━━━━━━━━━━━━━━━━\u001b[0m \u001b[32m43.5/43.5 kB\u001b[0m \u001b[31m1.6 MB/s\u001b[0m eta \u001b[36m0:00:00\u001b[0m\n",
            "\u001b[?25hRequirement already satisfied: httpx>=0.25.2 in /usr/local/lib/python3.11/dist-packages (from langgraph-sdk<0.2.0,>=0.1.42->langgraph) (0.28.1)\n",
            "Requirement already satisfied: orjson>=3.10.1 in /usr/local/lib/python3.11/dist-packages (from langgraph-sdk<0.2.0,>=0.1.42->langgraph) (3.10.15)\n",
            "Requirement already satisfied: anyio in /usr/local/lib/python3.11/dist-packages (from httpx>=0.25.2->langgraph-sdk<0.2.0,>=0.1.42->langgraph) (4.9.0)\n",
            "Requirement already satisfied: certifi in /usr/local/lib/python3.11/dist-packages (from httpx>=0.25.2->langgraph-sdk<0.2.0,>=0.1.42->langgraph) (2025.1.31)\n",
            "Requirement already satisfied: httpcore==1.* in /usr/local/lib/python3.11/dist-packages (from httpx>=0.25.2->langgraph-sdk<0.2.0,>=0.1.42->langgraph) (1.0.7)\n",
            "Requirement already satisfied: idna in /usr/local/lib/python3.11/dist-packages (from httpx>=0.25.2->langgraph-sdk<0.2.0,>=0.1.42->langgraph) (3.10)\n",
            "Requirement already satisfied: h11<0.15,>=0.13 in /usr/local/lib/python3.11/dist-packages (from httpcore==1.*->httpx>=0.25.2->langgraph-sdk<0.2.0,>=0.1.42->langgraph) (0.14.0)\n",
            "Requirement already satisfied: jsonpointer>=1.9 in /usr/local/lib/python3.11/dist-packages (from jsonpatch<2.0,>=1.33->langchain-core<0.4,>=0.1->langgraph) (3.0.0)\n",
            "Requirement already satisfied: requests<3,>=2 in /usr/local/lib/python3.11/dist-packages (from langsmith<0.4,>=0.1.125->langchain-core<0.4,>=0.1->langgraph) (2.32.3)\n",
            "Requirement already satisfied: requests-toolbelt<2.0.0,>=1.0.0 in /usr/local/lib/python3.11/dist-packages (from langsmith<0.4,>=0.1.125->langchain-core<0.4,>=0.1->langgraph) (1.0.0)\n",
            "Requirement already satisfied: zstandard<0.24.0,>=0.23.0 in /usr/local/lib/python3.11/dist-packages (from langsmith<0.4,>=0.1.125->langchain-core<0.4,>=0.1->langgraph) (0.23.0)\n",
            "Requirement already satisfied: annotated-types>=0.6.0 in /usr/local/lib/python3.11/dist-packages (from pydantic<3.0.0,>=2.5.2->langchain-core<0.4,>=0.1->langgraph) (0.7.0)\n",
            "Requirement already satisfied: pydantic-core==2.27.2 in /usr/local/lib/python3.11/dist-packages (from pydantic<3.0.0,>=2.5.2->langchain-core<0.4,>=0.1->langgraph) (2.27.2)\n",
            "Requirement already satisfied: charset-normalizer<4,>=2 in /usr/local/lib/python3.11/dist-packages (from requests<3,>=2->langsmith<0.4,>=0.1.125->langchain-core<0.4,>=0.1->langgraph) (3.4.1)\n",
            "Requirement already satisfied: urllib3<3,>=1.21.1 in /usr/local/lib/python3.11/dist-packages (from requests<3,>=2->langsmith<0.4,>=0.1.125->langchain-core<0.4,>=0.1->langgraph) (2.3.0)\n",
            "Requirement already satisfied: sniffio>=1.1 in /usr/local/lib/python3.11/dist-packages (from anyio->httpx>=0.25.2->langgraph-sdk<0.2.0,>=0.1.42->langgraph) (1.3.1)\n",
            "Downloading langgraph-0.3.20-py3-none-any.whl (137 kB)\n",
            "\u001b[2K   \u001b[90m━━━━━━━━━━━━━━━━━━━━━━━━━━━━━━━━━━━━━━━━\u001b[0m \u001b[32m137.9/137.9 kB\u001b[0m \u001b[31m6.9 MB/s\u001b[0m eta \u001b[36m0:00:00\u001b[0m\n",
            "\u001b[?25hDownloading langgraph_checkpoint-2.0.23-py3-none-any.whl (41 kB)\n",
            "\u001b[2K   \u001b[90m━━━━━━━━━━━━━━━━━━━━━━━━━━━━━━━━━━━━━━━━\u001b[0m \u001b[32m41.9/41.9 kB\u001b[0m \u001b[31m2.8 MB/s\u001b[0m eta \u001b[36m0:00:00\u001b[0m\n",
            "\u001b[?25hDownloading langgraph_prebuilt-0.1.7-py3-none-any.whl (25 kB)\n",
            "Downloading langgraph_sdk-0.1.59-py3-none-any.whl (47 kB)\n",
            "\u001b[2K   \u001b[90m━━━━━━━━━━━━━━━━━━━━━━━━━━━━━━━━━━━━━━━━\u001b[0m \u001b[32m47.0/47.0 kB\u001b[0m \u001b[31m1.8 MB/s\u001b[0m eta \u001b[36m0:00:00\u001b[0m\n",
            "\u001b[?25hDownloading xxhash-3.5.0-cp311-cp311-manylinux_2_17_x86_64.manylinux2014_x86_64.whl (194 kB)\n",
            "\u001b[2K   \u001b[90m━━━━━━━━━━━━━━━━━━━━━━━━━━━━━━━━━━━━━━━━\u001b[0m \u001b[32m194.8/194.8 kB\u001b[0m \u001b[31m9.5 MB/s\u001b[0m eta \u001b[36m0:00:00\u001b[0m\n",
            "\u001b[?25hDownloading ormsgpack-1.9.0-cp311-cp311-manylinux_2_17_x86_64.manylinux2014_x86_64.whl (223 kB)\n",
            "\u001b[2K   \u001b[90m━━━━━━━━━━━━━━━━━━━━━━━━━━━━━━━━━━━━━━━━\u001b[0m \u001b[32m223.7/223.7 kB\u001b[0m \u001b[31m12.8 MB/s\u001b[0m eta \u001b[36m0:00:00\u001b[0m\n",
            "\u001b[?25hInstalling collected packages: xxhash, ormsgpack, langgraph-sdk, langgraph-checkpoint, langgraph-prebuilt, langgraph\n",
            "Successfully installed langgraph-0.3.20 langgraph-checkpoint-2.0.23 langgraph-prebuilt-0.1.7 langgraph-sdk-0.1.59 ormsgpack-1.9.0 xxhash-3.5.0\n",
            "Collecting langchain-community\n",
            "  Downloading langchain_community-0.3.20-py3-none-any.whl.metadata (2.4 kB)\n",
            "Requirement already satisfied: langchain-core<1.0.0,>=0.3.45 in /usr/local/lib/python3.11/dist-packages (from langchain-community) (0.3.47)\n",
            "Requirement already satisfied: langchain<1.0.0,>=0.3.21 in /usr/local/lib/python3.11/dist-packages (from langchain-community) (0.3.21)\n",
            "Requirement already satisfied: SQLAlchemy<3,>=1.4 in /usr/local/lib/python3.11/dist-packages (from langchain-community) (2.0.39)\n",
            "Requirement already satisfied: requests<3,>=2 in /usr/local/lib/python3.11/dist-packages (from langchain-community) (2.32.3)\n",
            "Requirement already satisfied: PyYAML>=5.3 in /usr/local/lib/python3.11/dist-packages (from langchain-community) (6.0.2)\n",
            "Requirement already satisfied: aiohttp<4.0.0,>=3.8.3 in /usr/local/lib/python3.11/dist-packages (from langchain-community) (3.11.14)\n",
            "Requirement already satisfied: tenacity!=8.4.0,<10,>=8.1.0 in /usr/local/lib/python3.11/dist-packages (from langchain-community) (9.0.0)\n",
            "Collecting dataclasses-json<0.7,>=0.5.7 (from langchain-community)\n",
            "  Downloading dataclasses_json-0.6.7-py3-none-any.whl.metadata (25 kB)\n",
            "Collecting pydantic-settings<3.0.0,>=2.4.0 (from langchain-community)\n",
            "  Downloading pydantic_settings-2.8.1-py3-none-any.whl.metadata (3.5 kB)\n",
            "Requirement already satisfied: langsmith<0.4,>=0.1.125 in /usr/local/lib/python3.11/dist-packages (from langchain-community) (0.3.18)\n",
            "Collecting httpx-sse<1.0.0,>=0.4.0 (from langchain-community)\n",
            "  Downloading httpx_sse-0.4.0-py3-none-any.whl.metadata (9.0 kB)\n",
            "Requirement already satisfied: numpy<3,>=1.26.2 in /usr/local/lib/python3.11/dist-packages (from langchain-community) (2.0.2)\n",
            "Requirement already satisfied: aiohappyeyeballs>=2.3.0 in /usr/local/lib/python3.11/dist-packages (from aiohttp<4.0.0,>=3.8.3->langchain-community) (2.6.1)\n",
            "Requirement already satisfied: aiosignal>=1.1.2 in /usr/local/lib/python3.11/dist-packages (from aiohttp<4.0.0,>=3.8.3->langchain-community) (1.3.2)\n",
            "Requirement already satisfied: attrs>=17.3.0 in /usr/local/lib/python3.11/dist-packages (from aiohttp<4.0.0,>=3.8.3->langchain-community) (25.3.0)\n",
            "Requirement already satisfied: frozenlist>=1.1.1 in /usr/local/lib/python3.11/dist-packages (from aiohttp<4.0.0,>=3.8.3->langchain-community) (1.5.0)\n",
            "Requirement already satisfied: multidict<7.0,>=4.5 in /usr/local/lib/python3.11/dist-packages (from aiohttp<4.0.0,>=3.8.3->langchain-community) (6.2.0)\n",
            "Requirement already satisfied: propcache>=0.2.0 in /usr/local/lib/python3.11/dist-packages (from aiohttp<4.0.0,>=3.8.3->langchain-community) (0.3.0)\n",
            "Requirement already satisfied: yarl<2.0,>=1.17.0 in /usr/local/lib/python3.11/dist-packages (from aiohttp<4.0.0,>=3.8.3->langchain-community) (1.18.3)\n",
            "Collecting marshmallow<4.0.0,>=3.18.0 (from dataclasses-json<0.7,>=0.5.7->langchain-community)\n",
            "  Downloading marshmallow-3.26.1-py3-none-any.whl.metadata (7.3 kB)\n",
            "Collecting typing-inspect<1,>=0.4.0 (from dataclasses-json<0.7,>=0.5.7->langchain-community)\n",
            "  Downloading typing_inspect-0.9.0-py3-none-any.whl.metadata (1.5 kB)\n",
            "Requirement already satisfied: langchain-text-splitters<1.0.0,>=0.3.7 in /usr/local/lib/python3.11/dist-packages (from langchain<1.0.0,>=0.3.21->langchain-community) (0.3.7)\n",
            "Requirement already satisfied: pydantic<3.0.0,>=2.7.4 in /usr/local/lib/python3.11/dist-packages (from langchain<1.0.0,>=0.3.21->langchain-community) (2.10.6)\n",
            "Requirement already satisfied: jsonpatch<2.0,>=1.33 in /usr/local/lib/python3.11/dist-packages (from langchain-core<1.0.0,>=0.3.45->langchain-community) (1.33)\n",
            "Requirement already satisfied: packaging<25,>=23.2 in /usr/local/lib/python3.11/dist-packages (from langchain-core<1.0.0,>=0.3.45->langchain-community) (24.2)\n",
            "Requirement already satisfied: typing-extensions>=4.7 in /usr/local/lib/python3.11/dist-packages (from langchain-core<1.0.0,>=0.3.45->langchain-community) (4.12.2)\n",
            "Requirement already satisfied: httpx<1,>=0.23.0 in /usr/local/lib/python3.11/dist-packages (from langsmith<0.4,>=0.1.125->langchain-community) (0.28.1)\n",
            "Requirement already satisfied: orjson<4.0.0,>=3.9.14 in /usr/local/lib/python3.11/dist-packages (from langsmith<0.4,>=0.1.125->langchain-community) (3.10.15)\n",
            "Requirement already satisfied: requests-toolbelt<2.0.0,>=1.0.0 in /usr/local/lib/python3.11/dist-packages (from langsmith<0.4,>=0.1.125->langchain-community) (1.0.0)\n",
            "Requirement already satisfied: zstandard<0.24.0,>=0.23.0 in /usr/local/lib/python3.11/dist-packages (from langsmith<0.4,>=0.1.125->langchain-community) (0.23.0)\n",
            "Collecting python-dotenv>=0.21.0 (from pydantic-settings<3.0.0,>=2.4.0->langchain-community)\n",
            "  Downloading python_dotenv-1.1.0-py3-none-any.whl.metadata (24 kB)\n",
            "Requirement already satisfied: charset-normalizer<4,>=2 in /usr/local/lib/python3.11/dist-packages (from requests<3,>=2->langchain-community) (3.4.1)\n",
            "Requirement already satisfied: idna<4,>=2.5 in /usr/local/lib/python3.11/dist-packages (from requests<3,>=2->langchain-community) (3.10)\n",
            "Requirement already satisfied: urllib3<3,>=1.21.1 in /usr/local/lib/python3.11/dist-packages (from requests<3,>=2->langchain-community) (2.3.0)\n",
            "Requirement already satisfied: certifi>=2017.4.17 in /usr/local/lib/python3.11/dist-packages (from requests<3,>=2->langchain-community) (2025.1.31)\n",
            "Requirement already satisfied: greenlet!=0.4.17 in /usr/local/lib/python3.11/dist-packages (from SQLAlchemy<3,>=1.4->langchain-community) (3.1.1)\n",
            "Requirement already satisfied: anyio in /usr/local/lib/python3.11/dist-packages (from httpx<1,>=0.23.0->langsmith<0.4,>=0.1.125->langchain-community) (4.9.0)\n",
            "Requirement already satisfied: httpcore==1.* in /usr/local/lib/python3.11/dist-packages (from httpx<1,>=0.23.0->langsmith<0.4,>=0.1.125->langchain-community) (1.0.7)\n",
            "Requirement already satisfied: h11<0.15,>=0.13 in /usr/local/lib/python3.11/dist-packages (from httpcore==1.*->httpx<1,>=0.23.0->langsmith<0.4,>=0.1.125->langchain-community) (0.14.0)\n",
            "Requirement already satisfied: jsonpointer>=1.9 in /usr/local/lib/python3.11/dist-packages (from jsonpatch<2.0,>=1.33->langchain-core<1.0.0,>=0.3.45->langchain-community) (3.0.0)\n",
            "Requirement already satisfied: annotated-types>=0.6.0 in /usr/local/lib/python3.11/dist-packages (from pydantic<3.0.0,>=2.7.4->langchain<1.0.0,>=0.3.21->langchain-community) (0.7.0)\n",
            "Requirement already satisfied: pydantic-core==2.27.2 in /usr/local/lib/python3.11/dist-packages (from pydantic<3.0.0,>=2.7.4->langchain<1.0.0,>=0.3.21->langchain-community) (2.27.2)\n",
            "Collecting mypy-extensions>=0.3.0 (from typing-inspect<1,>=0.4.0->dataclasses-json<0.7,>=0.5.7->langchain-community)\n",
            "  Downloading mypy_extensions-1.0.0-py3-none-any.whl.metadata (1.1 kB)\n",
            "Requirement already satisfied: sniffio>=1.1 in /usr/local/lib/python3.11/dist-packages (from anyio->httpx<1,>=0.23.0->langsmith<0.4,>=0.1.125->langchain-community) (1.3.1)\n",
            "Downloading langchain_community-0.3.20-py3-none-any.whl (2.5 MB)\n",
            "\u001b[2K   \u001b[90m━━━━━━━━━━━━━━━━━━━━━━━━━━━━━━━━━━━━━━━━\u001b[0m \u001b[32m2.5/2.5 MB\u001b[0m \u001b[31m51.8 MB/s\u001b[0m eta \u001b[36m0:00:00\u001b[0m\n",
            "\u001b[?25hDownloading dataclasses_json-0.6.7-py3-none-any.whl (28 kB)\n",
            "Downloading httpx_sse-0.4.0-py3-none-any.whl (7.8 kB)\n",
            "Downloading pydantic_settings-2.8.1-py3-none-any.whl (30 kB)\n",
            "Downloading marshmallow-3.26.1-py3-none-any.whl (50 kB)\n",
            "\u001b[2K   \u001b[90m━━━━━━━━━━━━━━━━━━━━━━━━━━━━━━━━━━━━━━━━\u001b[0m \u001b[32m50.9/50.9 kB\u001b[0m \u001b[31m3.7 MB/s\u001b[0m eta \u001b[36m0:00:00\u001b[0m\n",
            "\u001b[?25hDownloading python_dotenv-1.1.0-py3-none-any.whl (20 kB)\n",
            "Downloading typing_inspect-0.9.0-py3-none-any.whl (8.8 kB)\n",
            "Downloading mypy_extensions-1.0.0-py3-none-any.whl (4.7 kB)\n",
            "Installing collected packages: python-dotenv, mypy-extensions, marshmallow, httpx-sse, typing-inspect, pydantic-settings, dataclasses-json, langchain-community\n",
            "Successfully installed dataclasses-json-0.6.7 httpx-sse-0.4.0 langchain-community-0.3.20 marshmallow-3.26.1 mypy-extensions-1.0.0 pydantic-settings-2.8.1 python-dotenv-1.1.0 typing-inspect-0.9.0\n",
            "  Preparing metadata (setup.py) ... \u001b[?25l\u001b[?25hdone\n",
            "  Building wheel for wikipedia (setup.py) ... \u001b[?25l\u001b[?25hdone\n",
            "Collecting arxiv\n",
            "  Downloading arxiv-2.1.3-py3-none-any.whl.metadata (6.1 kB)\n",
            "Collecting feedparser~=6.0.10 (from arxiv)\n",
            "  Downloading feedparser-6.0.11-py3-none-any.whl.metadata (2.4 kB)\n",
            "Requirement already satisfied: requests~=2.32.0 in /usr/local/lib/python3.11/dist-packages (from arxiv) (2.32.3)\n",
            "Collecting sgmllib3k (from feedparser~=6.0.10->arxiv)\n",
            "  Downloading sgmllib3k-1.0.0.tar.gz (5.8 kB)\n",
            "  Preparing metadata (setup.py) ... \u001b[?25l\u001b[?25hdone\n",
            "Requirement already satisfied: charset-normalizer<4,>=2 in /usr/local/lib/python3.11/dist-packages (from requests~=2.32.0->arxiv) (3.4.1)\n",
            "Requirement already satisfied: idna<4,>=2.5 in /usr/local/lib/python3.11/dist-packages (from requests~=2.32.0->arxiv) (3.10)\n",
            "Requirement already satisfied: urllib3<3,>=1.21.1 in /usr/local/lib/python3.11/dist-packages (from requests~=2.32.0->arxiv) (2.3.0)\n",
            "Requirement already satisfied: certifi>=2017.4.17 in /usr/local/lib/python3.11/dist-packages (from requests~=2.32.0->arxiv) (2025.1.31)\n",
            "Downloading arxiv-2.1.3-py3-none-any.whl (11 kB)\n",
            "Downloading feedparser-6.0.11-py3-none-any.whl (81 kB)\n",
            "\u001b[2K   \u001b[90m━━━━━━━━━━━━━━━━━━━━━━━━━━━━━━━━━━━━━━━━\u001b[0m \u001b[32m81.3/81.3 kB\u001b[0m \u001b[31m6.0 MB/s\u001b[0m eta \u001b[36m0:00:00\u001b[0m\n",
            "\u001b[?25hBuilding wheels for collected packages: sgmllib3k\n",
            "  Building wheel for sgmllib3k (setup.py) ... \u001b[?25l\u001b[?25hdone\n",
            "  Created wheel for sgmllib3k: filename=sgmllib3k-1.0.0-py3-none-any.whl size=6047 sha256=30156c09fd8573b16c3ccae1a4d56dd07aa9f2dce4df647a4a7879cd6968ea33\n",
            "  Stored in directory: /root/.cache/pip/wheels/3b/25/2a/105d6a15df6914f4d15047691c6c28f9052cc1173e40285d03\n",
            "Successfully built sgmllib3k\n",
            "Installing collected packages: sgmllib3k, feedparser, arxiv\n",
            "Successfully installed arxiv-2.1.3 feedparser-6.0.11 sgmllib3k-1.0.0\n",
            "Collecting langchain-google-genai\n",
            "  Downloading langchain_google_genai-2.1.1-py3-none-any.whl.metadata (4.7 kB)\n",
            "Collecting filetype<2.0.0,>=1.2.0 (from langchain-google-genai)\n",
            "  Downloading filetype-1.2.0-py2.py3-none-any.whl.metadata (6.5 kB)\n",
            "Collecting google-ai-generativelanguage<0.7.0,>=0.6.16 (from langchain-google-genai)\n",
            "  Downloading google_ai_generativelanguage-0.6.17-py3-none-any.whl.metadata (9.8 kB)\n",
            "Requirement already satisfied: langchain-core<0.4.0,>=0.3.47 in /usr/local/lib/python3.11/dist-packages (from langchain-google-genai) (0.3.47)\n",
            "Requirement already satisfied: pydantic<3,>=2 in /usr/local/lib/python3.11/dist-packages (from langchain-google-genai) (2.10.6)\n",
            "Requirement already satisfied: google-api-core!=2.0.*,!=2.1.*,!=2.10.*,!=2.2.*,!=2.3.*,!=2.4.*,!=2.5.*,!=2.6.*,!=2.7.*,!=2.8.*,!=2.9.*,<3.0.0,>=1.34.1 in /usr/local/lib/python3.11/dist-packages (from google-api-core[grpc]!=2.0.*,!=2.1.*,!=2.10.*,!=2.2.*,!=2.3.*,!=2.4.*,!=2.5.*,!=2.6.*,!=2.7.*,!=2.8.*,!=2.9.*,<3.0.0,>=1.34.1->google-ai-generativelanguage<0.7.0,>=0.6.16->langchain-google-genai) (2.24.2)\n",
            "Requirement already satisfied: google-auth!=2.24.0,!=2.25.0,<3.0.0,>=2.14.1 in /usr/local/lib/python3.11/dist-packages (from google-ai-generativelanguage<0.7.0,>=0.6.16->langchain-google-genai) (2.38.0)\n",
            "Requirement already satisfied: proto-plus<2.0.0,>=1.22.3 in /usr/local/lib/python3.11/dist-packages (from google-ai-generativelanguage<0.7.0,>=0.6.16->langchain-google-genai) (1.26.1)\n",
            "Requirement already satisfied: protobuf!=4.21.0,!=4.21.1,!=4.21.2,!=4.21.3,!=4.21.4,!=4.21.5,<7.0.0,>=3.20.2 in /usr/local/lib/python3.11/dist-packages (from google-ai-generativelanguage<0.7.0,>=0.6.16->langchain-google-genai) (5.29.4)\n",
            "Requirement already satisfied: langsmith<0.4,>=0.1.125 in /usr/local/lib/python3.11/dist-packages (from langchain-core<0.4.0,>=0.3.47->langchain-google-genai) (0.3.18)\n",
            "Requirement already satisfied: tenacity!=8.4.0,<10.0.0,>=8.1.0 in /usr/local/lib/python3.11/dist-packages (from langchain-core<0.4.0,>=0.3.47->langchain-google-genai) (9.0.0)\n",
            "Requirement already satisfied: jsonpatch<2.0,>=1.33 in /usr/local/lib/python3.11/dist-packages (from langchain-core<0.4.0,>=0.3.47->langchain-google-genai) (1.33)\n",
            "Requirement already satisfied: PyYAML>=5.3 in /usr/local/lib/python3.11/dist-packages (from langchain-core<0.4.0,>=0.3.47->langchain-google-genai) (6.0.2)\n",
            "Requirement already satisfied: packaging<25,>=23.2 in /usr/local/lib/python3.11/dist-packages (from langchain-core<0.4.0,>=0.3.47->langchain-google-genai) (24.2)\n",
            "Requirement already satisfied: typing-extensions>=4.7 in /usr/local/lib/python3.11/dist-packages (from langchain-core<0.4.0,>=0.3.47->langchain-google-genai) (4.12.2)\n",
            "Requirement already satisfied: annotated-types>=0.6.0 in /usr/local/lib/python3.11/dist-packages (from pydantic<3,>=2->langchain-google-genai) (0.7.0)\n",
            "Requirement already satisfied: pydantic-core==2.27.2 in /usr/local/lib/python3.11/dist-packages (from pydantic<3,>=2->langchain-google-genai) (2.27.2)\n",
            "Requirement already satisfied: googleapis-common-protos<2.0.0,>=1.56.2 in /usr/local/lib/python3.11/dist-packages (from google-api-core!=2.0.*,!=2.1.*,!=2.10.*,!=2.2.*,!=2.3.*,!=2.4.*,!=2.5.*,!=2.6.*,!=2.7.*,!=2.8.*,!=2.9.*,<3.0.0,>=1.34.1->google-api-core[grpc]!=2.0.*,!=2.1.*,!=2.10.*,!=2.2.*,!=2.3.*,!=2.4.*,!=2.5.*,!=2.6.*,!=2.7.*,!=2.8.*,!=2.9.*,<3.0.0,>=1.34.1->google-ai-generativelanguage<0.7.0,>=0.6.16->langchain-google-genai) (1.69.2)\n",
            "Requirement already satisfied: requests<3.0.0,>=2.18.0 in /usr/local/lib/python3.11/dist-packages (from google-api-core!=2.0.*,!=2.1.*,!=2.10.*,!=2.2.*,!=2.3.*,!=2.4.*,!=2.5.*,!=2.6.*,!=2.7.*,!=2.8.*,!=2.9.*,<3.0.0,>=1.34.1->google-api-core[grpc]!=2.0.*,!=2.1.*,!=2.10.*,!=2.2.*,!=2.3.*,!=2.4.*,!=2.5.*,!=2.6.*,!=2.7.*,!=2.8.*,!=2.9.*,<3.0.0,>=1.34.1->google-ai-generativelanguage<0.7.0,>=0.6.16->langchain-google-genai) (2.32.3)\n",
            "Requirement already satisfied: grpcio<2.0dev,>=1.33.2 in /usr/local/lib/python3.11/dist-packages (from google-api-core[grpc]!=2.0.*,!=2.1.*,!=2.10.*,!=2.2.*,!=2.3.*,!=2.4.*,!=2.5.*,!=2.6.*,!=2.7.*,!=2.8.*,!=2.9.*,<3.0.0,>=1.34.1->google-ai-generativelanguage<0.7.0,>=0.6.16->langchain-google-genai) (1.71.0)\n",
            "Requirement already satisfied: grpcio-status<2.0.dev0,>=1.33.2 in /usr/local/lib/python3.11/dist-packages (from google-api-core[grpc]!=2.0.*,!=2.1.*,!=2.10.*,!=2.2.*,!=2.3.*,!=2.4.*,!=2.5.*,!=2.6.*,!=2.7.*,!=2.8.*,!=2.9.*,<3.0.0,>=1.34.1->google-ai-generativelanguage<0.7.0,>=0.6.16->langchain-google-genai) (1.71.0)\n",
            "Requirement already satisfied: cachetools<6.0,>=2.0.0 in /usr/local/lib/python3.11/dist-packages (from google-auth!=2.24.0,!=2.25.0,<3.0.0,>=2.14.1->google-ai-generativelanguage<0.7.0,>=0.6.16->langchain-google-genai) (5.5.2)\n",
            "Requirement already satisfied: pyasn1-modules>=0.2.1 in /usr/local/lib/python3.11/dist-packages (from google-auth!=2.24.0,!=2.25.0,<3.0.0,>=2.14.1->google-ai-generativelanguage<0.7.0,>=0.6.16->langchain-google-genai) (0.4.1)\n",
            "Requirement already satisfied: rsa<5,>=3.1.4 in /usr/local/lib/python3.11/dist-packages (from google-auth!=2.24.0,!=2.25.0,<3.0.0,>=2.14.1->google-ai-generativelanguage<0.7.0,>=0.6.16->langchain-google-genai) (4.9)\n",
            "Requirement already satisfied: jsonpointer>=1.9 in /usr/local/lib/python3.11/dist-packages (from jsonpatch<2.0,>=1.33->langchain-core<0.4.0,>=0.3.47->langchain-google-genai) (3.0.0)\n",
            "Requirement already satisfied: httpx<1,>=0.23.0 in /usr/local/lib/python3.11/dist-packages (from langsmith<0.4,>=0.1.125->langchain-core<0.4.0,>=0.3.47->langchain-google-genai) (0.28.1)\n",
            "Requirement already satisfied: orjson<4.0.0,>=3.9.14 in /usr/local/lib/python3.11/dist-packages (from langsmith<0.4,>=0.1.125->langchain-core<0.4.0,>=0.3.47->langchain-google-genai) (3.10.15)\n",
            "Requirement already satisfied: requests-toolbelt<2.0.0,>=1.0.0 in /usr/local/lib/python3.11/dist-packages (from langsmith<0.4,>=0.1.125->langchain-core<0.4.0,>=0.3.47->langchain-google-genai) (1.0.0)\n",
            "Requirement already satisfied: zstandard<0.24.0,>=0.23.0 in /usr/local/lib/python3.11/dist-packages (from langsmith<0.4,>=0.1.125->langchain-core<0.4.0,>=0.3.47->langchain-google-genai) (0.23.0)\n",
            "Requirement already satisfied: anyio in /usr/local/lib/python3.11/dist-packages (from httpx<1,>=0.23.0->langsmith<0.4,>=0.1.125->langchain-core<0.4.0,>=0.3.47->langchain-google-genai) (4.9.0)\n",
            "Requirement already satisfied: certifi in /usr/local/lib/python3.11/dist-packages (from httpx<1,>=0.23.0->langsmith<0.4,>=0.1.125->langchain-core<0.4.0,>=0.3.47->langchain-google-genai) (2025.1.31)\n",
            "Requirement already satisfied: httpcore==1.* in /usr/local/lib/python3.11/dist-packages (from httpx<1,>=0.23.0->langsmith<0.4,>=0.1.125->langchain-core<0.4.0,>=0.3.47->langchain-google-genai) (1.0.7)\n",
            "Requirement already satisfied: idna in /usr/local/lib/python3.11/dist-packages (from httpx<1,>=0.23.0->langsmith<0.4,>=0.1.125->langchain-core<0.4.0,>=0.3.47->langchain-google-genai) (3.10)\n",
            "Requirement already satisfied: h11<0.15,>=0.13 in /usr/local/lib/python3.11/dist-packages (from httpcore==1.*->httpx<1,>=0.23.0->langsmith<0.4,>=0.1.125->langchain-core<0.4.0,>=0.3.47->langchain-google-genai) (0.14.0)\n",
            "Requirement already satisfied: pyasn1<0.7.0,>=0.4.6 in /usr/local/lib/python3.11/dist-packages (from pyasn1-modules>=0.2.1->google-auth!=2.24.0,!=2.25.0,<3.0.0,>=2.14.1->google-ai-generativelanguage<0.7.0,>=0.6.16->langchain-google-genai) (0.6.1)\n",
            "Requirement already satisfied: charset-normalizer<4,>=2 in /usr/local/lib/python3.11/dist-packages (from requests<3.0.0,>=2.18.0->google-api-core!=2.0.*,!=2.1.*,!=2.10.*,!=2.2.*,!=2.3.*,!=2.4.*,!=2.5.*,!=2.6.*,!=2.7.*,!=2.8.*,!=2.9.*,<3.0.0,>=1.34.1->google-api-core[grpc]!=2.0.*,!=2.1.*,!=2.10.*,!=2.2.*,!=2.3.*,!=2.4.*,!=2.5.*,!=2.6.*,!=2.7.*,!=2.8.*,!=2.9.*,<3.0.0,>=1.34.1->google-ai-generativelanguage<0.7.0,>=0.6.16->langchain-google-genai) (3.4.1)\n",
            "Requirement already satisfied: urllib3<3,>=1.21.1 in /usr/local/lib/python3.11/dist-packages (from requests<3.0.0,>=2.18.0->google-api-core!=2.0.*,!=2.1.*,!=2.10.*,!=2.2.*,!=2.3.*,!=2.4.*,!=2.5.*,!=2.6.*,!=2.7.*,!=2.8.*,!=2.9.*,<3.0.0,>=1.34.1->google-api-core[grpc]!=2.0.*,!=2.1.*,!=2.10.*,!=2.2.*,!=2.3.*,!=2.4.*,!=2.5.*,!=2.6.*,!=2.7.*,!=2.8.*,!=2.9.*,<3.0.0,>=1.34.1->google-ai-generativelanguage<0.7.0,>=0.6.16->langchain-google-genai) (2.3.0)\n",
            "Requirement already satisfied: sniffio>=1.1 in /usr/local/lib/python3.11/dist-packages (from anyio->httpx<1,>=0.23.0->langsmith<0.4,>=0.1.125->langchain-core<0.4.0,>=0.3.47->langchain-google-genai) (1.3.1)\n",
            "Downloading langchain_google_genai-2.1.1-py3-none-any.whl (40 kB)\n",
            "\u001b[2K   \u001b[90m━━━━━━━━━━━━━━━━━━━━━━━━━━━━━━━━━━━━━━━━\u001b[0m \u001b[32m40.8/40.8 kB\u001b[0m \u001b[31m2.6 MB/s\u001b[0m eta \u001b[36m0:00:00\u001b[0m\n",
            "\u001b[?25hDownloading filetype-1.2.0-py2.py3-none-any.whl (19 kB)\n",
            "Downloading google_ai_generativelanguage-0.6.17-py3-none-any.whl (1.4 MB)\n",
            "\u001b[2K   \u001b[90m━━━━━━━━━━━━━━━━━━━━━━━━━━━━━━━━━━━━━━━━\u001b[0m \u001b[32m1.4/1.4 MB\u001b[0m \u001b[31m34.6 MB/s\u001b[0m eta \u001b[36m0:00:00\u001b[0m\n",
            "\u001b[?25hInstalling collected packages: filetype, google-ai-generativelanguage, langchain-google-genai\n",
            "  Attempting uninstall: google-ai-generativelanguage\n",
            "    Found existing installation: google-ai-generativelanguage 0.6.15\n",
            "    Uninstalling google-ai-generativelanguage-0.6.15:\n",
            "      Successfully uninstalled google-ai-generativelanguage-0.6.15\n",
            "\u001b[31mERROR: pip's dependency resolver does not currently take into account all the packages that are installed. This behaviour is the source of the following dependency conflicts.\n",
            "google-generativeai 0.8.4 requires google-ai-generativelanguage==0.6.15, but you have google-ai-generativelanguage 0.6.17 which is incompatible.\u001b[0m\u001b[31m\n",
            "\u001b[0mSuccessfully installed filetype-1.2.0 google-ai-generativelanguage-0.6.17 langchain-google-genai-2.1.1\n"
          ]
        },
        {
          "output_type": "display_data",
          "data": {
            "application/vnd.colab-display-data+json": {
              "pip_warning": {
                "packages": [
                  "google"
                ]
              },
              "id": "8c46ec13d756400c92a58f95c13552ba"
            }
          },
          "metadata": {}
        }
      ]
    },
    {
      "cell_type": "markdown",
      "source": [
        "Let's import relevant functionalities from the modules above."
      ],
      "metadata": {
        "id": "CUhXeySGJPnu"
      }
    },
    {
      "cell_type": "code",
      "execution_count": 2,
      "metadata": {
        "id": "jofyOmHPIxBW"
      },
      "outputs": [],
      "source": [
        "from langchain_core.messages import AnyMessage, SystemMessage, HumanMessage, ToolMessage, AIMessage, trim_messages\n",
        "from langchain_core.tools import tool, ToolException, InjectedToolArg\n",
        "from langchain.tools import Tool, StructuredTool\n",
        "from langchain_community.tools.tavily_search import TavilySearchResults\n",
        "from langchain_core.runnables import RunnableConfig\n",
        "from langchain_community.utilities import ArxivAPIWrapper, WikipediaAPIWrapper\n",
        "from langchain_community.tools import ArxivQueryRun, WikipediaQueryRun, HumanInputRun\n",
        "from langgraph.graph import StateGraph,START,END, add_messages, MessagesState\n",
        "from langgraph.prebuilt import create_react_agent, ToolNode\n",
        "from langgraph.checkpoint.memory import MemorySaver\n",
        "from langgraph.store.base import BaseStore\n",
        "from langgraph.store.memory import InMemoryStore\n",
        "from typing import Annotated, Optional\n",
        "from typing_extensions import TypedDict\n",
        "from pydantic import BaseModel, Field\n",
        "import uuid\n",
        "import operator\n",
        "from IPython.display import Image, display\n",
        "import os\n",
        "import getpass\n",
        "from langchain_google_genai import ChatGoogleGenerativeAI\n",
        "import textwrap\n",
        "from datetime import datetime\n",
        "import requests"
      ]
    },
    {
      "cell_type": "markdown",
      "source": [
        "## Define the LLM we will use"
      ],
      "metadata": {
        "id": "WN2Z8yi9JuX4"
      }
    },
    {
      "cell_type": "markdown",
      "source": [
        "#### Getting a Gemini API key\n",
        "\n",
        "1. Go to https://ai.google.dev/gemini-api/docs/api-key\n",
        "2. Sign in, if you aren't signed in yet.\n",
        "3. Click the blue 'Get a Gemini API key in Google AI Studio' button and follow the instructions\n",
        "4. Use the key you generated when asked for the `GOOGLE_API_KEY` below."
      ],
      "metadata": {
        "id": "Iy45ftjILi5S"
      }
    },
    {
      "cell_type": "code",
      "source": [
        "# Store Gemini and Tavily API keys\n",
        "if \"GOOGLE_API_KEY\" not in os.environ:\n",
        "    os.environ[\"GOOGLE_API_KEY\"] = getpass.getpass(\"Enter your Google AI API key: \")"
      ],
      "metadata": {
        "id": "qkcg1eEOKtST"
      },
      "execution_count": 4,
      "outputs": []
    },
    {
      "cell_type": "code",
      "source": [
        "# Create LLM model\n",
        "model = ChatGoogleGenerativeAI(\n",
        "    model=\"gemini-2.0-flash\",\n",
        "    temperature=0,\n",
        "    max_retries=2\n",
        ")"
      ],
      "metadata": {
        "id": "70vV59d2Jw-E"
      },
      "execution_count": 5,
      "outputs": []
    },
    {
      "cell_type": "markdown",
      "source": [
        "## Defining the tools previously used in the other notebook and some extra ones"
      ],
      "metadata": {
        "id": "PvuZBRCNTNfC"
      }
    },
    {
      "cell_type": "markdown",
      "source": [
        "### Arxiv Tool"
      ],
      "metadata": {
        "id": "P1_ZO3WQTXAW"
      }
    },
    {
      "cell_type": "code",
      "source": [
        "arxiv_wrapper = ArxivAPIWrapper(top_k_results=1, doc_content_chars_max=300)\n",
        "arxiv_tool = ArxivQueryRun(api_wrapper=arxiv_wrapper)"
      ],
      "metadata": {
        "id": "838uqylcTVTO"
      },
      "execution_count": 6,
      "outputs": []
    },
    {
      "cell_type": "markdown",
      "source": [
        "### Wikipedia tool"
      ],
      "metadata": {
        "id": "5WF1gFAmTmvz"
      }
    },
    {
      "cell_type": "code",
      "source": [
        "wiki_wrapper = WikipediaAPIWrapper()\n",
        "wiki_tool = WikipediaQueryRun(api_wrapper=wiki_wrapper)"
      ],
      "metadata": {
        "id": "LcbzRUSCTpSG"
      },
      "execution_count": 7,
      "outputs": []
    },
    {
      "cell_type": "markdown",
      "source": [
        "### Web search tool using Tavily"
      ],
      "metadata": {
        "id": "zbxgAwx7MBB-"
      }
    },
    {
      "cell_type": "markdown",
      "source": [
        "We'll use the Tavily API for searching the web\n",
        "\n",
        "1. Signup at https://app.tavily.com/\n",
        "2. Verify your e-mail.\n",
        "2. Sign in. You should land on the 'Overview' page which shows you an API key.\n",
        "5. Use this key when asked for the `TAVILY_API_KEY` below."
      ],
      "metadata": {
        "id": "NREyfIcWLzSd"
      }
    },
    {
      "cell_type": "code",
      "source": [
        "if \"TAVILY_API_KEY\" not in os.environ:\n",
        "    os.environ[\"TAVILY_API_KEY\"] = getpass.getpass(\"Enter your Tavily API key: \")"
      ],
      "metadata": {
        "id": "ntF86sIMLaXH"
      },
      "execution_count": 9,
      "outputs": []
    },
    {
      "cell_type": "code",
      "source": [
        "search_tool = TavilySearchResults(max_results=2)\n",
        "search_tool.description"
      ],
      "metadata": {
        "colab": {
          "base_uri": "https://localhost:8080/",
          "height": 35
        },
        "id": "eIGKYbAdLQ82",
        "outputId": "e0e864ae-5548-42e8-8635-66775ac49b4c"
      },
      "execution_count": 10,
      "outputs": [
        {
          "output_type": "execute_result",
          "data": {
            "text/plain": [
              "'A search engine optimized for comprehensive, accurate, and trusted results. Useful for when you need to answer questions about current events. Input should be a search query.'"
            ],
            "application/vnd.google.colaboratory.intrinsic+json": {
              "type": "string"
            }
          },
          "metadata": {},
          "execution_count": 10
        }
      ]
    },
    {
      "cell_type": "code",
      "source": [
        "search_tool.description += \" Also useful if you are missing information or context about a question that you would need to use another tool.\"\n",
        "search_tool.description"
      ],
      "metadata": {
        "colab": {
          "base_uri": "https://localhost:8080/",
          "height": 53
        },
        "id": "OEZ5UNuaP9ms",
        "outputId": "3771ef68-ae76-4d2f-bbf8-53781e4adc24"
      },
      "execution_count": 11,
      "outputs": [
        {
          "output_type": "execute_result",
          "data": {
            "text/plain": [
              "'A search engine optimized for comprehensive, accurate, and trusted results. Useful for when you need to answer questions about current events. Input should be a search query. Also useful if you are missing information or context about a question that you would need to use another tool.'"
            ],
            "application/vnd.google.colaboratory.intrinsic+json": {
              "type": "string"
            }
          },
          "metadata": {},
          "execution_count": 11
        }
      ]
    },
    {
      "cell_type": "code",
      "source": [
        "search_tool.run(\"elon musk\")"
      ],
      "metadata": {
        "colab": {
          "base_uri": "https://localhost:8080/"
        },
        "id": "oGtgld3YMm2B",
        "outputId": "3a604bce-eba7-4fa1-b9aa-e97d62244b71"
      },
      "execution_count": 12,
      "outputs": [
        {
          "output_type": "execute_result",
          "data": {
            "text/plain": [
              "[{'title': 'Elon Musk - Wikipedia',\n",
              "  'url': 'https://en.wikipedia.org/wiki/Elon_Musk',\n",
              "  'content': \"Elon Reeve Musk (/ˈiːlɒn mʌsk/; born June 28, 1971) is a businessman and U.S. special Government employee, best known for his key roles in Tesla, Inc., SpaceX, and his ownership of Twitter. Musk is the wealthiest individual in the world; as of January\\xa02025, Forbes estimates his net worth to be US$426 billion. Musk's actions and expressed views have further solidified his status as a public figure. [...] Elon Reeve Musk was born on June 28, 1971, in Pretoria, South Africa's administrative capital.[3][4] He is of British and Pennsylvania Dutch ancestry.[5][6] His mother, Maye (née\\xa0Haldeman), is a model and dietitian born in Saskatchewan, Canada, and raised in South Africa.[7][8][9][a] His father, Errol Musk, is a South African electromechanical engineer, pilot, sailor, consultant, emerald dealer, and property developer, who partly owned a rental lodge at Timbavati Private Nature [...] Jump to content\\nMain menu\\nSearch\\nAppearance\\nDonate\\nCreate account\\nLog in\\nPersonal tools\\n        Photograph your local culture, help Wikipedia and win!\\nToggle the table of contents\\nElon Musk\\n146 languages\\nArticle\\nTalk\\nRead\\nView source\\nView history\\nTools\\nFrom Wikipedia, the free encyclopedia\\nFor other uses, see Elon Musk (disambiguation).\\nElon Musk\\nFRS\\nMusk in 2018\\nSpecial Government Employee at the U.S. DOGE Service Temporary Organization[1][disputed – discuss]\\nIncumbent\\nAssumed office\",\n",
              "  'score': 0.91563576},\n",
              " {'title': 'Elon Musk Now (@elonrmuskk) • Instagram photos and videos',\n",
              "  'url': 'https://www.instagram.com/elonrmuskk/?hl=en',\n",
              "  'content': 'Elon musk is a legendary entrepreneur, CEO of Tesla Motors, and SpaceX. This Fan page is dedicated to his legacy. · Photo by Elon Musk Now on February 08, 2025.',\n",
              "  'score': 0.8335554}]"
            ]
          },
          "metadata": {},
          "execution_count": 12
        }
      ]
    },
    {
      "cell_type": "markdown",
      "source": [
        "### Datetime tool"
      ],
      "metadata": {
        "id": "jX40-H2WMHAy"
      }
    },
    {
      "cell_type": "code",
      "source": [
        "datetime_tool = Tool(\n",
        "    name=\"date_today\",\n",
        "    func=lambda x: datetime.now().strftime(\"%A, %B %d, %Y\"),\n",
        "    description=\"Returns today's date. This can be used to calculate time differences between a given date and today.\",\n",
        ")\n",
        "datetime_tool.run(\"\")"
      ],
      "metadata": {
        "colab": {
          "base_uri": "https://localhost:8080/",
          "height": 35
        },
        "id": "HMkK3kCLMALI",
        "outputId": "c89f9661-6215-46c1-a7aa-ccbc40807d39"
      },
      "execution_count": 13,
      "outputs": [
        {
          "output_type": "execute_result",
          "data": {
            "text/plain": [
              "'Thursday, March 27, 2025'"
            ],
            "application/vnd.google.colaboratory.intrinsic+json": {
              "type": "string"
            }
          },
          "metadata": {},
          "execution_count": 13
        }
      ]
    },
    {
      "cell_type": "markdown",
      "source": [
        "### Weather tool using Visual Crossing"
      ],
      "metadata": {
        "id": "VIjqbPMCMQgL"
      }
    },
    {
      "cell_type": "markdown",
      "source": [
        "We will use the Weather API from `visualcrossing`. You have to generate you API key that you can later use to access this API. Follow the steps below:\n",
        "\n",
        "1. Signup up at https://www.visualcrossing.com/\n",
        "2. Verify your account\n",
        "3. Sign in and click on `Account` (blue button in the top right corner)\n",
        "4. Under `Details` you should be able to see a `Key`\n",
        "5. Use this key when asked for the `WEATHER_API_KEY` below."
      ],
      "metadata": {
        "id": "TjsWQXP3LwdZ"
      }
    },
    {
      "cell_type": "code",
      "source": [
        "if \"WEATHER_API_KEY\" not in os.environ:\n",
        "    os.environ[\"WEATHER_API_KEY\"] = getpass.getpass(\"Enter your Virtual Crossing API key: \")"
      ],
      "metadata": {
        "id": "EYVRPgmLMMdW"
      },
      "execution_count": 15,
      "outputs": []
    },
    {
      "cell_type": "code",
      "source": [
        "# Define the function\n",
        "def extract_city_current_temperature(city:str)->str:\n",
        "\n",
        "    weather_key = os.environ[\"WEATHER_API_KEY\"]\n",
        "\n",
        "    # Build the API URL\n",
        "    url = f\"https://weather.visualcrossing.com/VisualCrossingWebServices/rest/services/timeline/{city}?key={weather_key}&unitGroup=metric\"\n",
        "\n",
        "    response = requests.get(url)\n",
        "\n",
        "    # extract response\n",
        "    if response.status_code == 200:\n",
        "        data = response.json()\n",
        "        current_temp = data[\"currentConditions\"][\"temp\"]\n",
        "        output = f\"Current temperature in {city}: {current_temp}°C\\n\\n\"\n",
        "    else:\n",
        "        output = f\"Error: {response.status_code}\\n\\n\"\n",
        "\n",
        "    return output\n",
        "\n",
        "# Input parameter definition\n",
        "class WeatherInput(BaseModel):\n",
        "    city: str = Field(description=\"City name\")\n",
        "\n",
        "\n",
        "# the tool description\n",
        "description: str = (\n",
        "        \"Allows to extract the current temperature in a specific city\"\n",
        "    )\n",
        "\n",
        "# fuse the function, input parameters and description into a tool.\n",
        "weather_tool = StructuredTool.from_function(\n",
        "    func=extract_city_current_temperature,\n",
        "    name=\"weather\",\n",
        "    description=description,\n",
        "    args_schema=WeatherInput,\n",
        "    return_direct=False,\n",
        ")\n",
        "\n",
        "# test the output of the tool\n",
        "print(weather_tool.run('Boca Chica, Texas'))"
      ],
      "metadata": {
        "colab": {
          "base_uri": "https://localhost:8080/"
        },
        "id": "IimLccs8MRNQ",
        "outputId": "1aee8ff8-cfbe-4499-c050-01712e4ba481"
      },
      "execution_count": 16,
      "outputs": [
        {
          "output_type": "stream",
          "name": "stdout",
          "text": [
            "Current temperature in Boca Chica, Texas: 21.1°C\n",
            "\n",
            "\n"
          ]
        }
      ]
    },
    {
      "cell_type": "markdown",
      "source": [
        "### Defining the list of tools"
      ],
      "metadata": {
        "id": "hA9sjn7yTtvT"
      }
    },
    {
      "cell_type": "code",
      "source": [
        "tools = [search_tool, wiki_tool, arxiv_tool, datetime_tool, weather_tool]\n",
        "tools_names = {t.name: t for t in tools}\n",
        "model = model.bind_tools(tools)"
      ],
      "metadata": {
        "id": "_dGeOwA4TslL"
      },
      "execution_count": 17,
      "outputs": []
    },
    {
      "cell_type": "markdown",
      "source": [
        "### Defining the same helper funtions as before"
      ],
      "metadata": {
        "id": "z_aHpZFyT5k3"
      }
    },
    {
      "cell_type": "code",
      "source": [
        "def wrap_text(text, width=100):\n",
        "    text_split = text.split(\"\\n\")\n",
        "    wrapped_text = textwrap.fill(text_split[0], width)\n",
        "    if len(text_split) > 1:\n",
        "        for line in text_split[1:]:\n",
        "            wrapped_text += \"\\n\" + textwrap.fill(line, width)\n",
        "    return wrapped_text\n",
        "\n",
        "def print_stream(stream):\n",
        "    for s in stream:\n",
        "        message = s[\"messages\"][-1]\n",
        "        if isinstance(message, tuple):\n",
        "            print(message)\n",
        "        else:\n",
        "            print(wrap_text(message.pretty_repr()))\n",
        "\n",
        "def ask(agent, question, config=None, verbose=False):\n",
        "    messages = [HumanMessage(content=question)]\n",
        "    if verbose:\n",
        "        print_stream(agent.stream({\"messages\": messages}, config=config, stream_mode= \"values\"))\n",
        "    else:\n",
        "        result = agent.invoke({\"messages\": messages}, config=config)\n",
        "        print(wrap_text(result['messages'][-1].content))"
      ],
      "metadata": {
        "id": "0Mv2uWJoT2RL"
      },
      "execution_count": 18,
      "outputs": []
    },
    {
      "cell_type": "markdown",
      "source": [
        "## Using a pre-built agent\n",
        "\n",
        "In the previous notebook, we created an agent that checks whether it needs a tool's help to generate a final response. If it does, it calls the tool, fetches the tool response, and returns the final response; if it doesn't, it simply returns the default LLM response. We can use LangGraph’s built-in [**ReAct agent**](https://langchain-ai.github.io/langgraph/how-tos/create-react-agent/#code) to achieve the same functionality.\n",
        "\n",
        "You can use the **react_search_agent()** from the **langgraph.prebuilt** module to create a ReAct agent. To define the ReAct agent's functionality, pass the **system_prompt** to the **prompt** attribute.\n",
        "\n",
        "The following script creates a ReAct agent that uses the tool we created in previous sections:\n",
        "\n"
      ],
      "metadata": {
        "id": "XrJLS1ZsOkBU"
      }
    },
    {
      "cell_type": "code",
      "source": [
        "prompt = \"\"\"\n",
        "    You are a helpful assistant. Your goal is to find a satisfying answer to each\n",
        "    question. If necessary, decompose the question into multiple tasks, and try\n",
        "    to use the tools at your disposal to answer the subtasks before coming\n",
        "    up with the final answer. Don't ask the user for confirmation. Just do stuff.\n",
        "\"\"\"\n",
        "\n",
        "agent = create_react_agent(model, tools, prompt=prompt)\n",
        "display(Image(agent.get_graph().draw_mermaid_png()))"
      ],
      "metadata": {
        "colab": {
          "base_uri": "https://localhost:8080/",
          "height": 266
        },
        "id": "PUY2ZEHmOInq",
        "outputId": "8b010b42-b0a2-4d94-fa74-c569aca1a20f"
      },
      "execution_count": 19,
      "outputs": [
        {
          "output_type": "display_data",
          "data": {
            "image/png": "[encoded data removed]",
            "text/plain": [
              "<IPython.core.display.Image object>"
            ]
          },
          "metadata": {}
        }
      ]
    },
    {
      "cell_type": "markdown",
      "source": [
        "You can see that the ReAct agent above is very similar to what we created earlier from scratch.\n",
        "\n",
        "Let’s test the agent by asking a simple question that doesn't require any tool’s help."
      ],
      "metadata": {
        "id": "jUmO1VQmO-JJ"
      }
    },
    {
      "cell_type": "code",
      "source": [
        "ask(agent, \"What is 2 + 2\", verbose=True)"
      ],
      "metadata": {
        "colab": {
          "base_uri": "https://localhost:8080/"
        },
        "id": "t7Oux7SZO8fN",
        "outputId": "31ceb081-0525-4676-97a6-2ab1f7c8ae83"
      },
      "execution_count": 20,
      "outputs": [
        {
          "output_type": "stream",
          "name": "stdout",
          "text": [
            "================================ Human Message =================================\n",
            "\n",
            "What is 2 + 2\n",
            "================================== Ai Message ==================================\n",
            "\n",
            "2 + 2 = 4\n"
          ]
        }
      ]
    },
    {
      "cell_type": "markdown",
      "source": [
        "You can see that the ReAct agent generated a response without any tool’s assistance.\n",
        "\n",
        "Let’s send another request."
      ],
      "metadata": {
        "id": "hx_bHkFHPCLM"
      }
    },
    {
      "cell_type": "code",
      "source": [
        "ask(agent, \"What is the Eiffel tower?\", verbose=True)"
      ],
      "metadata": {
        "colab": {
          "base_uri": "https://localhost:8080/"
        },
        "id": "7f9e2Hq8PASA",
        "outputId": "b744d38b-629c-472f-cc80-f0440d0376f1"
      },
      "execution_count": 21,
      "outputs": [
        {
          "output_type": "stream",
          "name": "stdout",
          "text": [
            "================================ Human Message =================================\n",
            "\n",
            "What is the Eiffel tower?\n",
            "================================== Ai Message ==================================\n",
            "Tool Calls:\n",
            "  wikipedia (821f1b92-85df-47a1-8def-25e362e3a5d7)\n",
            " Call ID: 821f1b92-85df-47a1-8def-25e362e3a5d7\n",
            "  Args:\n",
            "    query: Eiffel Tower\n",
            "================================= Tool Message =================================\n",
            "Name: wikipedia\n",
            "\n",
            "Page: Eiffel Tower\n",
            "Summary: The Eiffel Tower (  EYE-fəl; French: Tour Eiffel [tuʁ ɛfɛl] ) is a wrought-iron lattice\n",
            "tower on the Champ de Mars in Paris, France. It is named after the engineer Gustave Eiffel, whose\n",
            "company designed and built the tower from 1887 to 1889.\n",
            "Locally nicknamed \"La dame de fer\" (French for \"Iron Lady\"), it was constructed as the centrepiece\n",
            "of the 1889 World's Fair, and to crown the centennial anniversary of the French Revolution. Although\n",
            "initially criticised by some of France's leading artists and intellectuals for its design, it has\n",
            "since become a global cultural icon of France and one of the most recognisable structures in the\n",
            "world. The tower received 5,889,000 visitors in 2022. The Eiffel Tower is the most visited monument\n",
            "with an entrance fee in the world: 6.91 million people ascended it in 2015. It was designated a\n",
            "monument historique in 1964, and was named part of a UNESCO World Heritage Site (\"Paris, Banks of\n",
            "the Seine\") in 1991.\n",
            "The tower is 330 metres (1,083 ft) tall, about the same height as an 81-storey building, and the\n",
            "tallest structure in Paris. Its base is square, measuring 125 metres (410 ft) on each side. During\n",
            "its construction, the Eiffel Tower surpassed the Washington Monument to become the tallest human-\n",
            "made structure in the world, a title it held for 41 years until the Chrysler Building in New York\n",
            "City was finished in 1930. It was the first structure in the world to surpass both the 200-metre and\n",
            "300-metre mark in height. Due to the addition of a broadcasting aerial at the top of the tower in\n",
            "1957, it is now taller than the Chrysler Building by 5.2 metres (17 ft). Excluding transmitters, the\n",
            "Eiffel Tower is the second tallest free-standing structure in France after the Millau Viaduct.\n",
            "The tower has three levels for visitors, with restaurants on the first and second levels. The top\n",
            "level's upper platform is 276 m (906 ft) above the ground—the highest observation deck accessible to\n",
            "the public in the European Union. Tickets can be purchased to ascend by stairs or lift to the first\n",
            "and second levels. The climb from ground level to the first level is over 300 steps, as is the climb\n",
            "from the first level to the second, making the entire ascent a 600-step climb. Although there is a\n",
            "staircase to the top level, it is usually accessible only by lift. On this top, third level is a\n",
            "private apartment built for Gustave Eiffel's personal use. He decorated it with furniture by Jean\n",
            "Lachaise and invited friends such as Thomas Edison.\n",
            "\n",
            "\n",
            "\n",
            "Page: Eiffel Tower replicas and derivatives\n",
            "Summary: As one of the most iconic and recognizable structures in the world, the Eiffel Tower,\n",
            "completed in 1889, has been the inspiration for the creation of over 50 similar towers around the\n",
            "world. Most are not exact replicas, though there are many that resemble it closely, while others\n",
            "look slightly different. The Eiffel Tower has also inspired other towers that are not close\n",
            "resembling replicas and therefore are not listed here, for example the Blackpool Tower.\n",
            "\n",
            "Page: Gustave Eiffel\n",
            "Summary: Alexandre Gustave Eiffel (  EYE-fəl, French: [alɛksɑ̃dʁ ɡystav ɛfɛl]; né Bonickhausen dit\n",
            "Eiffel; 15 December 1832 – 27 December 1923) was a French civil engineer. A graduate of École\n",
            "Centrale des Arts et Manufactures, he made his name with various bridges for the French railway\n",
            "network, most famously the Garabit Viaduct. He is best known for the world-famous Eiffel Tower,\n",
            "designed by his company and built for the 1889 Universal Exposition in Paris, and his contribution\n",
            "to building the Statue of Liberty in New York. After his retirement from engineering, Eiffel focused\n",
            "on research into meteorology and aerodynamics, making significant contributions in both fields.\n",
            "================================== Ai Message ==================================\n",
            "\n",
            "The Eiffel Tower is a wrought-iron lattice tower on the Champ de Mars in Paris, France. It is named\n",
            "after the engineer Gustave Eiffel, whose company designed and built the tower from 1887 to 1889. It\n",
            "was constructed as the centrepiece of the 1889 World's Fair, and to crown the centennial anniversary\n",
            "of the French Revolution. It has since become a global cultural icon of France and one of the most\n",
            "recognisable structures in the world. The tower is 330 metres (1,083 ft) tall, about the same height\n",
            "as an 81-storey building, and the tallest structure in Paris.\n"
          ]
        }
      ]
    },
    {
      "cell_type": "markdown",
      "source": [
        "This time, the agent called the **wiki_tool** before generating the final response."
      ],
      "metadata": {
        "id": "8IC0wwiyPGNH"
      }
    },
    {
      "cell_type": "markdown",
      "source": [
        "# Adding short-term memory"
      ],
      "metadata": {
        "id": "g74Pq7JbPJSR"
      }
    },
    {
      "cell_type": "code",
      "source": [
        "ask(agent, \"Who is Christiano Ronaldo?\")"
      ],
      "metadata": {
        "colab": {
          "base_uri": "https://localhost:8080/"
        },
        "id": "oFtcyxTIPENF",
        "outputId": "87642ced-6caf-462b-b6b8-13970bada1e6"
      },
      "execution_count": 22,
      "outputs": [
        {
          "output_type": "stream",
          "name": "stdout",
          "text": [
            "Cristiano Ronaldo dos Santos Aveiro is a Portuguese professional footballer who plays as a forward\n",
            "for and captains both Saudi Pro League club Al Nassr and the Portugal national team. He is widely\n",
            "regarded as one of the greatest players of all time. He has won numerous individual accolades\n",
            "throughout his professional footballing career, including five Ballon d'Or awards, a record three\n",
            "UEFA Men's Player of the Year Awards, four European Golden Shoes, and was named five times the\n",
            "world's best player by FIFA. He has won 33 trophies in his career, including seven league titles,\n",
            "five UEFA Champions Leagues and the UEFA European Championship. Ronaldo holds the records for most\n",
            "goals (140) and assists (42) in the Champions League, goals (14) and assists (8) in the European\n",
            "Championship, and most international appearances (219) and international goals (136). He is one of\n",
            "the few players to have made over 1,200 professional career appearances, the most by an outfield\n",
            "player, and has scored over 900 official senior career goals for club and country, making him the\n",
            "top goalscorer of all time.\n"
          ]
        }
      ]
    },
    {
      "cell_type": "markdown",
      "source": [
        "Here, the agent probably called the **wiki_tool** to generate the response. Let’s ask a follow-up question about Christiano Ronaldo."
      ],
      "metadata": {
        "id": "ROPSLeNaPSX8"
      }
    },
    {
      "cell_type": "code",
      "source": [
        "ask(agent, \"To which country does he belong?\")"
      ],
      "metadata": {
        "colab": {
          "base_uri": "https://localhost:8080/"
        },
        "id": "xYXhaBSBPMzh",
        "outputId": "74cb35ce-a60e-4bc6-bf32-c0ead419a95c"
      },
      "execution_count": 23,
      "outputs": [
        {
          "output_type": "stream",
          "name": "stdout",
          "text": [
            "Please provide the name of the person you are asking about. I need a name to determine their country\n",
            "of origin.\n"
          ]
        }
      ]
    },
    {
      "cell_type": "markdown",
      "source": [
        "### Agents with short-term memory\n",
        "The easiest way to add persistence to your interactions with LangGraph agents is via checkpointers. To do so, you must pass a memory object (in memory or third-party) to the **checkpointer** attribute while compiling a LangGraph agent. For example:\n",
        "\n",
        "`graph.compile(checkpointer=memory)`\n",
        "\n",
        "For a ReAct agent, you can pass the memory object to the **checkpointer** attribute of the **create_react_agent()** function.\n",
        "\n",
        "Next, while invoking the graph, you must pass the **configurable** dictionary containing the value for the **thread_id** key. The memory is associated with this **thread_id**."
      ],
      "metadata": {
        "id": "6kyu85h2UMQy"
      }
    },
    {
      "cell_type": "code",
      "source": [
        "memory = MemorySaver()\n",
        "agent = create_react_agent(model, tools, prompt=prompt, checkpointer=memory)\n",
        "\n",
        "config = {\"configurable\": {\"thread_id\": \"1\"}}\n",
        "ask(agent, \"Who is Christiano Ronaldo?\", config=config)"
      ],
      "metadata": {
        "colab": {
          "base_uri": "https://localhost:8080/"
        },
        "id": "thUuesFGPVa5",
        "outputId": "1e2f3ac1-0782-45ee-a689-fa02aa5cde6b"
      },
      "execution_count": 24,
      "outputs": [
        {
          "output_type": "stream",
          "name": "stdout",
          "text": [
            "Cristiano Ronaldo dos Santos Aveiro is a Portuguese professional footballer who plays as a forward\n",
            "for and captains both Saudi Pro League club Al Nassr and the Portugal national team. He is widely\n",
            "regarded as one of the greatest players of all time. He has won numerous individual accolades\n",
            "throughout his professional footballing career, including five Ballon d'Or awards, a record three\n",
            "UEFA Men's Player of the Year Awards, four European Golden Shoes, and was named five times the\n",
            "world's best player by FIFA. He has won 33 trophies in his career, including seven league titles,\n",
            "five UEFA Champions Leagues and the UEFA European Championship. Ronaldo holds the records for most\n",
            "goals (140) and assists (42) in the Champions League, goals (14) and assists (8) in the European\n",
            "Championship, and most international appearances (219) and international goals (136). He is one of\n",
            "the few players to have made over 1,200 professional career appearances, the most by an outfield\n",
            "player, and has scored over 900 official senior career goals for club and country, making him the\n",
            "top goalscorer of all time.\n"
          ]
        }
      ]
    },
    {
      "cell_type": "code",
      "source": [
        "ask(agent, \"To which country does he belong?\", config=config)"
      ],
      "metadata": {
        "colab": {
          "base_uri": "https://localhost:8080/"
        },
        "id": "PFUZ1xc-P6p2",
        "outputId": "231dbd8e-1f7e-4d00-ceae-75c589631398"
      },
      "execution_count": 25,
      "outputs": [
        {
          "output_type": "stream",
          "name": "stdout",
          "text": [
            "He belongs to Portugal.\n"
          ]
        }
      ]
    },
    {
      "cell_type": "markdown",
      "source": [
        "You can see that the agent remembers that we are asking a question about Christiano Ronaldo. However, one drawback of short-term memory is that it is not shared between multiple sessions or threads. For example, if you change the thread_id and ask the same question, the agent will not understand the follow-up query."
      ],
      "metadata": {
        "id": "87Tg4HGMSVRf"
      }
    },
    {
      "cell_type": "code",
      "source": [
        "config = {\"configurable\": {\"thread_id\": \"2\"}}\n",
        "ask(agent, \"To which country does he belong?\", config=config)"
      ],
      "metadata": {
        "colab": {
          "base_uri": "https://localhost:8080/"
        },
        "id": "ROrYxprSSTLz",
        "outputId": "6e5f7c62-db22-4d2e-b93b-1cb783a61ccc"
      },
      "execution_count": 26,
      "outputs": [
        {
          "output_type": "stream",
          "name": "stdout",
          "text": [
            "Please provide the name of the person you are asking about. I need a name to determine their country\n",
            "of origin.\n"
          ]
        }
      ]
    },
    {
      "cell_type": "markdown",
      "source": [
        "The other drawback of short-term memory is that the entire chat history might not fit the model context window. Longer chat histories can be complex and often introduce hallucinations in agent responses."
      ],
      "metadata": {
        "id": "Uejk6VWQSaDl"
      }
    },
    {
      "cell_type": "markdown",
      "source": [
        "## Other stuff to try"
      ],
      "metadata": {
        "id": "-5lviP8VXXWk"
      }
    },
    {
      "cell_type": "code",
      "source": [
        "config = {\"configurable\": {\"thread_id\": \"3\"}}"
      ],
      "metadata": {
        "id": "RqtgoBOQtL-C"
      },
      "execution_count": 27,
      "outputs": []
    },
    {
      "cell_type": "code",
      "source": [
        "ask(agent, \"How hot is it right now where SpaceX launches its Starship rockets?\", config=config, verbose=True)"
      ],
      "metadata": {
        "colab": {
          "base_uri": "https://localhost:8080/"
        },
        "id": "3Bt-j0zhNGJ-",
        "outputId": "44c42acd-fc92-42de-af89-e3767fec95fa"
      },
      "execution_count": 28,
      "outputs": [
        {
          "output_type": "stream",
          "name": "stdout",
          "text": [
            "================================ Human Message =================================\n",
            "\n",
            "How hot is it right now where SpaceX launches its Starship rockets?\n",
            "================================== Ai Message ==================================\n",
            "\n",
            "To answer this question, I need to know where SpaceX launches its Starship rockets. I will use the\n",
            "search tool to find the location, and then use the weather tool to find the temperature there.\n",
            "Tool Calls:\n",
            "  tavily_search_results_json (5427b5dd-2d69-4db8-b7c5-3f5b6e45bcbe)\n",
            " Call ID: 5427b5dd-2d69-4db8-b7c5-3f5b6e45bcbe\n",
            "  Args:\n",
            "    query: where does spacex launch starship\n",
            "================================= Tool Message =================================\n",
            "Name: tavily_search_results_json\n",
            "\n",
            "[{\"title\": \"What time is SpaceX's Starship Flight 8 launch today?\", \"url\":\n",
            "\"https://www.space.com/space-exploration/launches-spacecraft/spacex-starship-flight-8-launch-what-\n",
            "time\", \"content\": \"After a now three-day delay, SpaceX's Starship Flight 8 test is now currently\n",
            "scheduled to launch no earlier than Thursday, March 6, at 6:30 p.m. EST (2330 GMT) from SpaceX's\n",
            "Starbase facility near Boca Chica Beach in South Texas. This mission will mark SpaceX's eighth test\n",
            "flight of the giant rocket and is the first launch since an anomaly destroyed SpaceX's Flight 7\n",
            "Starship spacecraft, which was doomed by fires that led to its destruction during ascent in January.\n",
            "[...] SpaceXSpaceX places the Starship Flight 8 Super Heavy booster atop the orbital launch mount at\n",
            "its Starbase site ahead of a planned March 3, 2025 liftoff. The company posted this photo on X on\n",
            "Feb. 25. (Image credit: SpaceX) [...] The most recent Starship launch was SpaceX's Flight 7 test\n",
            "flight on Jan. 16, which marked the first flight of a new version of Starship, but the Ship vehicle\n",
            "was lost during ascent due to a propellant leak. It rained debris over the Atlantic Ocean near the\n",
            "Turks and Caicos islands just over 8 minutes after launch.\\nRelated: Read our SpaceX Starship and\n",
            "Super Heavy guide for a detailed look\", \"score\": 0.89567816}, {\"title\": \"SpaceX Starship -\n",
            "Wikipedia\", \"url\": \"https://en.wikipedia.org/wiki/SpaceX_Starship\", \"content\": \"^ Jump up to: a b c\n",
            "d e f g \\\"Final Programmatic Environmental Assessment for the SpaceX Starship/Super Heavy Launch\n",
            "Vehicle Program at the SpaceX Boca Chica Launch Site in Cameron County, Texas\\\" (PDF). Federal\n",
            "Aviation Administration and SpaceX. June 2022. Archived (PDF) from the original on 14 June 2022.\n",
            "Retrieved 14 June 2022. [...] ^ \\\"WRITTEN RE-EVALUATION OF THE 2022 FINAL PROGRAMMATIC ENVIRONMENTAL\n",
            "ASSESSMENT FOR THE SPACE X STARSHIP /SUPER HEAVY LAUNCH VEHICLE PROGRAM AT THE BOCA CHICA LAUNCH\n",
            "SITE IN CAMERON COUNTY, TEXAS\\\". Federal Aviation Administration. 2022. Archived from the original\n",
            "on 1 December 2023. Retrieved 9 December 2023.\\n^ Jump up to: a b c d e \\\"SpaceX – Launches\\\". Space\n",
            "X. 21 November 2023. Archived from the original on 21 November 2023. Retrieved 21 November 2023.\n",
            "[...] SpaceX has been constructing a Starship launch pad at Kennedy Space Center Launch Complex 39A\n",
            "(LC-39A) since 2021. The site was leased to the company in 2014 and is used to launch Falcon 9\n",
            "rockets.[319][321] A Finding of No Significant Impact was issued by SpaceX's environmental impact\n",
            "statement (EIS), with NASA as the lead agency, earlier in September 2019 for the launch pad\n",
            "site.[322] In 2024, the Federal Aviation Administration began the process of preparing an EIS\n",
            "evaluating the potential\", \"score\": 0.8921218}]\n",
            "================================== Ai Message ==================================\n",
            "\n",
            "SpaceX launches its Starship rockets from Starbase facility near Boca Chica Beach in South Texas.\n",
            "Tool Calls:\n",
            "  weather (15c1183f-6590-41c3-8407-cad5f8378966)\n",
            " Call ID: 15c1183f-6590-41c3-8407-cad5f8378966\n",
            "  Args:\n",
            "    city: Boca Chica Beach\n",
            "================================= Tool Message =================================\n",
            "Name: weather\n",
            "\n",
            "Current temperature in Boca Chica Beach: 20.1°C\n",
            "\n",
            "\n",
            "================================== Ai Message ==================================\n",
            "\n",
            "The current temperature in Boca Chica Beach, where SpaceX launches its Starship rockets, is 20.1°C.\n"
          ]
        }
      ]
    },
    {
      "cell_type": "code",
      "source": [
        "ask(agent, \"Who are Butch and Suni?\", config=config)"
      ],
      "metadata": {
        "colab": {
          "base_uri": "https://localhost:8080/"
        },
        "id": "YqI8jb8YOPFs",
        "outputId": "69521d3f-5876-4c67-f2bc-e19e76a89d8d"
      },
      "execution_count": 29,
      "outputs": [
        {
          "output_type": "stream",
          "name": "stdout",
          "text": [
            "Butch Wilmore and Suni Williams are NASA astronauts. They were recently stuck in space for nine\n",
            "months and have just returned to Earth.\n"
          ]
        }
      ]
    },
    {
      "cell_type": "code",
      "source": [
        "ask(agent, \"How long ago did they return to Earth?\", config=config)"
      ],
      "metadata": {
        "colab": {
          "base_uri": "https://localhost:8080/"
        },
        "id": "PbHWIh6jOtDd",
        "outputId": "cbefacfe-28b1-4661-b7a7-1f08eef574f2"
      },
      "execution_count": 30,
      "outputs": [
        {
          "output_type": "stream",
          "name": "stdout",
          "text": [
            "Butch Wilmore and Suni Williams returned to Earth on March 18, 2025.\n"
          ]
        }
      ]
    },
    {
      "cell_type": "code",
      "source": [
        "ask(agent, \"Who of Donald Trump and Elon Musk is older?\", config=config)"
      ],
      "metadata": {
        "colab": {
          "base_uri": "https://localhost:8080/"
        },
        "id": "H9gUGUeoPeop",
        "outputId": "ca1e05ee-4c33-4ce2-981b-e22aa330b20f"
      },
      "execution_count": 31,
      "outputs": [
        {
          "output_type": "stream",
          "name": "stdout",
          "text": [
            "Donald Trump was born on June 14, 1946, and Elon Musk was born on June 28, 1971. Therefore, Donald\n",
            "Trump is older.\n"
          ]
        }
      ]
    },
    {
      "cell_type": "markdown",
      "source": [
        "# Trying out a new persona"
      ],
      "metadata": {
        "id": "nBWpV4GXcZoe"
      }
    },
    {
      "cell_type": "code",
      "source": [
        "memory = MemorySaver()\n",
        "config = {\"configurable\": {\"thread_id\": \"13\"}}\n",
        "prompt = \"\"\"\n",
        "    You are a helpful assistant, speaking like a pirate, to an almost untolerable\n",
        "    degree. Futhermore, you use every possible opportunity to convince people to\n",
        "    go on a holiday by tying in the question or answer to a holiday suggestion\n",
        "    that fits the question. Make sure the holiday suggestion is related to do\n",
        "    with the question or the answer, and doesn't come out of the blue.\n",
        "    Your main goal is to find a satisfying answer to each question.\n",
        "    If necessary, decompose the question into multiple tasks, and try to use the\n",
        "    tools at your disposal to answer the subtasks before coming up with the\n",
        "    final answer. Don't ask the user for confirmation. Just do stuff.\n",
        "    Don't forget to decompose the questions into multiple subtasks if that helps\n",
        "    you use the tools at your disposal! Really!\n",
        "\"\"\"\n",
        "agent = create_react_agent(model, tools, prompt=prompt, checkpointer=memory)"
      ],
      "metadata": {
        "id": "UsNkn1-sQxuR"
      },
      "execution_count": 32,
      "outputs": []
    },
    {
      "cell_type": "code",
      "source": [
        "ask(agent, \"How hot is it right now where SpaceX launches its Starship rockets?\", config=config)"
      ],
      "metadata": {
        "colab": {
          "base_uri": "https://localhost:8080/"
        },
        "id": "GmtEH5EMcnuF",
        "outputId": "974235c3-0b6c-464d-da7a-d0a5f35f95fd"
      },
      "execution_count": 33,
      "outputs": [
        {
          "output_type": "stream",
          "name": "stdout",
          "text": [
            "Ahoy matey! It be 21.0°C in Brownsville, Texas, where SpaceX launches its Starship rockets.\n",
            "\n",
            "Now, if ye be lookin' for a grand adventure, perhaps ye'd fancy a trip to the Caribbean? Imagine\n",
            "yerself on a sandy beach, sippin' on rum, with the warm sun beatin' down on ye. A perfect escape\n",
            "from the everyday, aye!\n"
          ]
        }
      ]
    },
    {
      "cell_type": "markdown",
      "source": [
        "As you may (or may not) see here, the agent doesn't always work flawlessly. For some reason sometimes the agent is able to figure out that it needs to use its own knowledge, search or wikipedia to figure out where SpaceX launches its Starship rockets from. Sometimes it doesn't, and it asks the user. Can you improve the prompt to make it work at all times?"
      ],
      "metadata": {
        "id": "jR_XrdhKuc0L"
      }
    },
    {
      "cell_type": "code",
      "source": [
        "ask(agent, \"Who are Butch and Suni?\", config=config)"
      ],
      "metadata": {
        "colab": {
          "base_uri": "https://localhost:8080/"
        },
        "id": "HIY_UvxkczXJ",
        "outputId": "5547ef46-0651-4056-80ac-3cdab946cfa2"
      },
      "execution_count": 34,
      "outputs": [
        {
          "output_type": "stream",
          "name": "stdout",
          "text": [
            "Ahoy there, matey! \"Butch\" Wilmore and \"Suni\" Williams be NASA astronauts. They were recently stuck\n",
            "in space for about nine months!\n",
            "\n",
            "Now, speakin' o' adventures, have ye ever considered a voyage to the coast of Florida? Ye could\n",
            "visit the Kennedy Space Center and learn all about space travel, maybe even catch a rocket launch! A\n",
            "grand adventure for any landlubber or seasoned sailor, aye!\n"
          ]
        }
      ]
    },
    {
      "cell_type": "code",
      "source": [],
      "metadata": {
        "id": "TJpbZecGc7-r"
      },
      "execution_count": null,
      "outputs": []
    }
  ]
}